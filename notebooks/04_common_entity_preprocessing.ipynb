{
 "cells": [
  {
   "cell_type": "markdown",
   "id": "ab02459e-4854-41b6-9d55-6367fa006d9e",
   "metadata": {},
   "source": [
    "# Academia–Practice Interaction Mapping Using NLP\n",
    "\n",
    "**Notebook 04: Entity Cleaning & Preprocessing**\n",
    "\n",
    "**Author:** Kamila Lewandowska  \n",
    "**Project Status:** *In Progress*  \n",
    "**Last Updated:** April 2025  \n",
    "\n",
    "---\n",
    "\n",
    "### Project Description\n",
    "\n",
    "This notebook assumes the common ORG entities have already been extracted and saved to `../output/common_org_entities.csv` in the previous notebook.\n",
    "\n",
    "---\n",
    "\n",
    "### Steps\n",
    "\n",
    "1. Normalize whitespace and special characters\n",
    "2. Tokenize and identify frequently occurring keywords\n",
    "3. Prepare for filtering of academic-related terms\n",
    "\n",
    "\n",
    "---\n"
   ]
  },
  {
   "cell_type": "markdown",
   "id": "d4585b73-e2aa-4fe3-a98c-04179993267d",
   "metadata": {},
   "source": [
    "# Cleaning and preprocessing the data: unique_common"
   ]
  },
  {
   "cell_type": "markdown",
   "id": "50bfce6b-0bd9-4eb7-8473-1c14c2c99d6b",
   "metadata": {},
   "source": [
    "## STEP 1: Basic cleaning "
   ]
  },
  {
   "cell_type": "code",
   "execution_count": 1,
   "id": "2e29ba9b-f708-4314-9399-da7b4226fde3",
   "metadata": {},
   "outputs": [],
   "source": [
    "import pandas as pd\n",
    "import re\n",
    "from collections import Counter"
   ]
  },
  {
   "cell_type": "code",
   "execution_count": 2,
   "id": "8b939864-746d-43d8-954f-0a63b86e4546",
   "metadata": {},
   "outputs": [],
   "source": [
    "# Load common entities\n",
    "df_common = pd.read_csv(\"../output/common_org_entities.csv\")\n",
    "unique_common = df_common[\"ORG_Entity\"].dropna().tolist()"
   ]
  },
  {
   "cell_type": "code",
   "execution_count": 3,
   "id": "00205dca-3580-4b75-8bdd-42eaa0ef862e",
   "metadata": {
    "scrolled": true
   },
   "outputs": [
    {
     "data": {
      "text/plain": [
       "6005"
      ]
     },
     "execution_count": 3,
     "metadata": {},
     "output_type": "execute_result"
    }
   ],
   "source": [
    "\n",
    "cleaned_entities = []\n",
    "\n",
    "# Basic cleaning: whitespace, removing redundant entries\n",
    "for entity in unique_common:\n",
    "\n",
    "    # Normalize whitespace (substitutes more than 1 spaces with 1, strips leading/ trailing whitespace)\n",
    "    entity = re.sub(r'\\s+', ' ', entity).strip()\n",
    "\n",
    "    # Remove leading non-word characters\n",
    "    entity = re.sub(r'^[^\\w]+', '', entity)\n",
    "\n",
    "    # Remove trailing punctuation except periods\n",
    "    entity = re.sub(r'[^\\w.]+$', '', entity)\n",
    "\n",
    "    # Remove entries with less than 3 characters\n",
    "    if len(entity) < 3:\n",
    "        continue\n",
    "\n",
    "    cleaned_entities.append(entity)\n",
    "\n",
    "len(cleaned_entities)"
   ]
  },
  {
   "cell_type": "code",
   "execution_count": 4,
   "id": "46b61b41-f043-40cf-93a5-a728ac159383",
   "metadata": {
    "scrolled": true
   },
   "outputs": [
    {
     "name": "stdout",
     "output_type": "stream",
     "text": [
      "['POPW', 'DG REGIO', 'RILEM', 'EFOE', 'Aiut', 'Urzędem Miasta Sulejówek', 'Instytut Sztuk Wizualnych', 'Grupa INCO S.A.', 'WARBUD S.A.', 'ZIGUL S.A.', 'Uniwersytet Stanforda', 'Idealia', 'Biblioteki Jagiellońskiej', 'UEMS', 'TMT’s', 'Advisory Board', 'Polskiego Radia', 'SSRN', 'Bloomberga', 'IWNiRZ', 'IGiG UPWr', 'SBWPwP', 'Zero-G studio', 'Sekcji Nauk Biblijnych KUL', 'Klastra Obróbki Metali', 'Polskiego Stowarzyszenia Montessori', 'QNA Technology Spółka z.o.o.', 'Ministerstwa Rolnictwa', 'WIM', 'Inspekcja Handlowa', 'Teatr Polski', 'DCTDA', 'Instytutem Badawczym Visionary Analytics', 'Zarząd Morskich Portów Szczecin', 'LDL', 'Università Pontificia Salesiana', 'University of Notre Dame', 'Komisji ds. Przeciwdziałania Mobbingowi', 'Polska Akademia Nauk', 'IHAR-PIB', 'Eurostatu', 'Migrant Info Point', 'KFiIM', 'Narodowy Instytut Samorządu Terytorialnego', 'EIE', 'Ministry of Development', 'Rady Transportu Aglomeracyjnego', 'BOHAMET', 'Centrum Kształcenia Ustawicznego', 'PGE Elektrowni Turów', 'GUS', 'Garment', 'IASE Sp. z o.o.', 'Komisja Spraw Konstytucyjnych PE', 'Związek Sybiraków', 'IRZiBŻ PAN', 'JYU', 'PWRUL', 'ŁOM', 'PANEK', 'Zespołu Eksperckiego', 'Jasnogórskim Instytutem Maryjnymi', 'SYSABA', 'Generalnej Dyrekcji Służby Więziennej', 'RES', 'Teatr Stary', 'GALOIS', 'Nissan', 'Urzędu Żeglugi Śródlądowej', 'Akademię Czerniaka', 'Państwowe Muzeum Etnograficzne w Warszawie', 'Wyższą Szkołę Humanitas', 'Rady Organizacyjnej Międzynarodowego Instytutu Adama Mickiewicza', 'Stowarzyszenie Centrum Innowacji Społeczeństwa Informacyjnego', 'CPT ABW', 'Grupie Krakowskiej', 'Universitetet', 'OPBR', 'IFP UZ', 'QNA', 'Strefa Kultury Wrocław', 'NOT', 'Dr Green Sp. z o.o.', 'Google Brain', 'Wojska Specjalne', 'Komisji ds. Zamówień Publicznych ŚZGiP', 'ISW', 'E-RIHS', 'Wydziale Edukacyjnym', 'KSiEO', 'Ordo Carmelitarum Discalceatorum', 'KGHM', 'Instytut Inżynierii Materiałowej Politechniki Łódzkiej', 'Polskim Związku Łowieckim', 'Kolegium', 'Akademię Rozwoju Filantropii', 'CPE', 'Fundacją Azja-Pacyfik', 'Centrum Rzeźby Polskiej', 'CPP Poland sp. z o.o.', 'Instytucie Fizyki']\n"
     ]
    }
   ],
   "source": [
    "print(cleaned_entities[0:101])"
   ]
  },
  {
   "cell_type": "markdown",
   "id": "7492e8bb-7a6d-4b3a-a5ea-8a0b94f23e25",
   "metadata": {},
   "source": [
    "## STEP 2: Filter out academia entities"
   ]
  },
  {
   "cell_type": "code",
   "execution_count": 10,
   "id": "9615b89c-7527-435f-8c84-b026d4e77efa",
   "metadata": {},
   "outputs": [],
   "source": [
    "# Define academic-related keywords \n",
    "\n",
    "## Generate most frequently occuring keywords\n",
    "\n",
    "## Tokenize all entries into lowercase words\n",
    "tokens = []\n",
    "\n",
    "for entry in cleaned_entities:\n",
    "    tokens.extend(re.findall(r'\\b\\w+\\b', entry.lower()))\n",
    "\n",
    "# Count most common tokens\n",
    "token_counts = Counter(tokens)\n",
    "common_tokens = token_counts.most_common(500)\n",
    "\n",
    "# Display for review\n",
    "academic_candidate_keywords = pd.DataFrame(common_tokens, columns = [\"token\", \"count\"])\n",
    "academic_candidate_keywords.to_csv(\"../output/tokens_review.csv\", index=False)\n",
    "\n",
    "\n",
    "    "
   ]
  },
  {
   "cell_type": "code",
   "execution_count": 6,
   "id": "5d058142-18b5-49cd-943e-128f81f9e4ca",
   "metadata": {},
   "outputs": [],
   "source": [
    "# Create a list of stemmed keywords indicating academic entities\n",
    "\n",
    "academic_keywords = [\n",
    "    'instytut', 'pan', 'university', 'nauk', 'uniwersytet', 'wydział', 'wydzial', 'department', 'badań', 'akadem', \n",
    "    'katedr', 'politechni', 'laboratorium', 'research', 'institut', 'fizy', 'matematy', \n",
    "    'architektur', 'pracown', 'pedagogi', 'filozof', 'medycyn', 'medyczn', 'medical', 'językoznawstwo', \n",
    "    'mickiewicz', 'biolog', 'studia', 'uczeln', 'kolegium', 'collegium', 'studium', 'colleg', 'universit', \n",
    "    'wyższ', 'journal', 'springer', 'doktor']"
   ]
  },
  {
   "cell_type": "code",
   "execution_count": 7,
   "id": "27448037-47cc-4b65-983f-38ab09281618",
   "metadata": {},
   "outputs": [],
   "source": [
    "# Define function to return academic entities\n",
    "\n",
    "def is_academic(entity, keywords):\n",
    "    \"\"\"\n",
    "    Determines whether a given entity likely represents an academic institution \n",
    "    by checking for the presence of predefined keywords.\n",
    "\n",
    "    Parameters:\n",
    "        entity (str): The name of the organization or entity to check.\n",
    "        keywords (list of str): A list of lowercase keywords associated with academic institutions (academic_keywords)\n",
    "                                (e.g., \"university\", \"institute\", \"academy\").\n",
    "\n",
    "    Returns:\n",
    "        bool: True if any keyword is found in the entity name (case-insensitive), False otherwise.\n",
    "    \"\"\"\n",
    "    entity_lower = entity.lower()\n",
    "    return any(keyword in entity_lower for keyword in keywords)"
   ]
  },
  {
   "cell_type": "code",
   "execution_count": 8,
   "id": "4c35a427-bd51-4d56-9aee-eee31deaf3ca",
   "metadata": {
    "scrolled": true
   },
   "outputs": [
    {
     "name": "stdout",
     "output_type": "stream",
     "text": [
      "['POPW', 'DG REGIO', 'RILEM', 'EFOE', 'Aiut', 'Urzędem Miasta Sulejówek', 'Grupa INCO S.A.', 'WARBUD S.A.', 'ZIGUL S.A.', 'Idealia', 'Biblioteki Jagiellońskiej', 'UEMS', 'TMT’s', 'Advisory Board', 'Polskiego Radia', 'SSRN', 'Bloomberga', 'IWNiRZ', 'IGiG UPWr', 'SBWPwP', 'Zero-G studio', 'Klastra Obróbki Metali', 'Polskiego Stowarzyszenia Montessori', 'QNA Technology Spółka z.o.o.', 'Ministerstwa Rolnictwa', 'WIM', 'Inspekcja Handlowa', 'Teatr Polski', 'DCTDA', 'Zarząd Morskich Portów Szczecin', 'LDL', 'Komisji ds. Przeciwdziałania Mobbingowi', 'IHAR-PIB', 'Eurostatu', 'Migrant Info Point', 'KFiIM', 'EIE', 'Ministry of Development', 'Rady Transportu Aglomeracyjnego', 'BOHAMET', 'Centrum Kształcenia Ustawicznego', 'PGE Elektrowni Turów', 'GUS', 'Garment', 'IASE Sp. z o.o.', 'Komisja Spraw Konstytucyjnych PE', 'Związek Sybiraków', 'JYU', 'PWRUL', 'ŁOM', 'Zespołu Eksperckiego', 'SYSABA', 'Generalnej Dyrekcji Służby Więziennej', 'RES', 'Teatr Stary', 'GALOIS', 'Nissan', 'Urzędu Żeglugi Śródlądowej', 'Państwowe Muzeum Etnograficzne w Warszawie', 'Stowarzyszenie Centrum Innowacji Społeczeństwa Informacyjnego', 'CPT ABW', 'Grupie Krakowskiej', 'OPBR', 'IFP UZ', 'QNA', 'Strefa Kultury Wrocław', 'NOT', 'Dr Green Sp. z o.o.', 'Google Brain', 'Wojska Specjalne', 'Komisji ds. Zamówień Publicznych ŚZGiP', 'ISW', 'E-RIHS', 'KSiEO', 'Ordo Carmelitarum Discalceatorum', 'KGHM', 'Polskim Związku Łowieckim', 'CPE', 'Fundacją Azja-Pacyfik', 'Centrum Rzeźby Polskiej', 'CPP Poland sp. z o.o.', 'YHE SA', 'Bonimed', 'UMCS Lublin', 'Scopus', 'Etorki S.L.', 'CNH', 'PNBS', 'Europejskie Partnerstwo na rzecz Walki z Rakiem', 'Comarch', 'Międzynarodowego Kongresu Ekumenicznego', 'Uniwersytecie Trzeciego Wieku', 'Strabag', 'The State Planting Service', 'KNiME', 'Photon', 'OPMiM', 'UNEP', 'GSMU', 'MGMiŚ', 'Galwamet Konin']\n"
     ]
    }
   ],
   "source": [
    "# Apply function to cleaned_entities\n",
    "\n",
    "non_academic_entities = [entity for entity in cleaned_entities \n",
    "                        if not is_academic(entity, academic_keywords)]\n",
    "print(non_academic_entities[0:101])"
   ]
  },
  {
   "cell_type": "code",
   "execution_count": 9,
   "id": "803e3a55-835c-4aaa-b8c8-21d298d6e9bf",
   "metadata": {
    "scrolled": true
   },
   "outputs": [
    {
     "name": "stdout",
     "output_type": "stream",
     "text": [
      "1238\n"
     ]
    }
   ],
   "source": [
    "# Preview what you're removing (sanity checking the filter)\n",
    "\n",
    "academic_entities = [name for name in cleaned_entities if is_academic(name, academic_keywords)]\n",
    "\n",
    "print(len(academic_entities))"
   ]
  },
  {
   "cell_type": "code",
   "execution_count": 11,
   "id": "5747cb45-8d12-4d95-9fca-08eaef3835e6",
   "metadata": {},
   "outputs": [
    {
     "name": "stdout",
     "output_type": "stream",
     "text": [
      "Saved non-academic entities to /output/non_academic_org_entities.csv\n"
     ]
    }
   ],
   "source": [
    "# Save non-academic entities to CSV\n",
    "df_non_academic = pd.DataFrame({\"ORG_Entity\": non_academic_entities})\n",
    "df_non_academic.to_csv(\"../output/non_academic_org_entities.csv\", index=False)\n",
    "\n",
    "print(\"Saved non-academic entities to /output/non_academic_org_entities.csv\")"
   ]
  },
  {
   "cell_type": "code",
   "execution_count": null,
   "id": "c2172268-7f99-4827-a4f5-35aceb5a94a7",
   "metadata": {},
   "outputs": [],
   "source": []
  }
 ],
 "metadata": {
  "kernelspec": {
   "display_name": "Python 3 (ipykernel)",
   "language": "python",
   "name": "python3"
  },
  "language_info": {
   "codemirror_mode": {
    "name": "ipython",
    "version": 3
   },
   "file_extension": ".py",
   "mimetype": "text/x-python",
   "name": "python",
   "nbconvert_exporter": "python",
   "pygments_lexer": "ipython3",
   "version": "3.12.5"
  }
 },
 "nbformat": 4,
 "nbformat_minor": 5
}

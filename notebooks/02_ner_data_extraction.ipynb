{
 "cells": [
  {
   "cell_type": "markdown",
   "id": "2790e18a-8949-4f95-b70b-f1d750e9506d",
   "metadata": {},
   "source": [
    "# Academia–Practice Interaction Mapping Using NLP\n",
    "\n",
    "**Notebook 02: NER data extraction**\n",
    "\n",
    "**Author:** Kamila Lewandowska  \n",
    "**Project Status:** *In Progress*  \n",
    "**Last Updated:** April 2025  \n",
    "\n",
    "---\n",
    "### Notebook Overview\n",
    "\n",
    "This notebook applies two NER models to extract `ORG` entities from Polish-language research impact case studies:\n",
    "\n",
    "- **Stanza** (Stanford NLP – rule-based for Polish)\n",
    "- **Davlan/XLM-RoBERTa** (Transformer-based multilingual model from HuggingFace)\n",
    "\n",
    "Extracted entities are saved to CSV for further analysis.\n",
    "\n",
    "---"
   ]
  },
  {
   "cell_type": "markdown",
   "id": "da844afc-8852-4efd-9a1e-1804b54b2d41",
   "metadata": {},
   "source": [
    "## Extract entities using Stanza Model ('pl')"
   ]
  },
  {
   "cell_type": "code",
   "execution_count": null,
   "id": "25d865b3-9890-4142-a9c5-5282f937d0e2",
   "metadata": {},
   "outputs": [],
   "source": [
    "import os\n",
    "import pandas as pd\n",
    "from transformers import pipeline"
   ]
  },
  {
   "cell_type": "code",
   "execution_count": null,
   "id": "6e42bf2c-21a0-4720-97e0-6a148a96669e",
   "metadata": {},
   "outputs": [],
   "source": [
    "# Load the data \n",
    "\n",
    "cleaned_impact_case_studies = pd.read_csv(\"../data/cleaned_impact_case_studies.csv\")\n",
    "cleaned_text_pl = cleaned_impact_case_studies[\"cleaned_text\"]"
   ]
  },
  {
   "cell_type": "code",
   "execution_count": null,
   "id": "d6d77fad-b847-44f5-8c82-b52553b6efba",
   "metadata": {
    "scrolled": true
   },
   "outputs": [],
   "source": [
    "import stanza\n",
    "\n",
    "# Download the Polish model (only needed once, but safe to include)\n",
    "stanza.download('pl')\n",
    "\n",
    "# Initialize the pipeline\n",
    "nlp_stanza_pl = stanza.Pipeline(lang='pl', processors='tokenize,ner')"
   ]
  },
  {
   "cell_type": "code",
   "execution_count": null,
   "id": "a7d7f9ce-b39f-4bbf-aa47-fb348cd3cc05",
   "metadata": {},
   "outputs": [],
   "source": [
    "# Function to extract 'ORG' entities using Stanza_pl\n",
    "def extract_org_stanza_pl(text):\n",
    "    \"\"\"\n",
    "    Extracts \"ORG\" entities from Polish-language text using the Stanza NER pipeline.\n",
    "\n",
    "    Parameters: \n",
    "        text (str): A string of text in Polish.\n",
    "\n",
    "    Returns: \n",
    "        list: A list of named entities of type \"ORG\" found in the input text.\n",
    "    \"\"\"\n",
    "    doc = nlp_stanza_pl(text)\n",
    "    return [ent.text for ent in doc.ents if ent.type == \"orgName\"]\n"
   ]
  },
  {
   "cell_type": "code",
   "execution_count": null,
   "id": "91125780-4c52-43d2-a87b-8f50131346ad",
   "metadata": {},
   "outputs": [],
   "source": [
    "# Apply Stanza_pl NER extraction to the dataset\n",
    "cleaned_text_stanza_pl = cleaned_text_pl.apply(extract_org_stanza_pl)\n",
    "\n",
    "# Save results in a DataFrame\n",
    "df_stanza_pl = pd.DataFrame({\"Text\": cleaned_text_pl, \"ORG_Entities_stanza\": cleaned_text_stanza_pl})\n"
   ]
  },
  {
   "cell_type": "code",
   "execution_count": null,
   "id": "c01d74ec-507f-402d-821a-41e6a1514022",
   "metadata": {},
   "outputs": [],
   "source": [
    "# Add the 'Impact description identifier - POL-on 2.0 system uuid' column to df_stanza_pl\n",
    "df_stanza_pl[\"ICS_ID\"] = ics_selected_columns_pl[\"Impact description identifier - POL-on 2.0 system uuid\"]\n",
    "\n",
    "# Display the first few rows to confirm\n",
    "print(df_stanza_pl.head())"
   ]
  },
  {
   "cell_type": "code",
   "execution_count": null,
   "id": "0c2eba00-8845-4d43-b267-0c76c052aa2b",
   "metadata": {
    "scrolled": true
   },
   "outputs": [],
   "source": [
    "total_entities_ner_stanza_pl = df_stanza_pl[\"ORG_Entities_stanza\"].explode().notna().sum()\n",
    "print(f\"Total ORG entities extracted Stanza_pl: {total_entities_ner_stanza_pl}\")"
   ]
  },
  {
   "cell_type": "code",
   "execution_count": null,
   "id": "7b026552-bc9e-4182-8a93-070aa3eeae41",
   "metadata": {
    "scrolled": true
   },
   "outputs": [],
   "source": [
    "# Define your target folder path \n",
    "OUTPUT_DIR = \"../output\"\n",
    "os.makedirs(OUTPUT_DIR, exist_ok=True)\n",
    "\n",
    "# Save the CSV file in the specified folder\n",
    "csv_file_path_pl = os.path.join(OUTPUT_DIR, \"ner_stanza_pl.csv\")\n",
    "df_stanza_pl.to_csv(csv_file_path_pl, index=False)\n",
    "\n",
    "print(f\"CSV file saved at: {csv_file_path_pl}\")"
   ]
  },
  {
   "cell_type": "markdown",
   "id": "7e807a72-4c3f-4e39-92d2-8d14699b040d",
   "metadata": {},
   "source": [
    "## Extract entities using multilingual NER model from HuggingFace"
   ]
  },
  {
   "cell_type": "code",
   "execution_count": null,
   "id": "3e51e0bd-a16c-47db-90ac-edd4de20592f",
   "metadata": {},
   "outputs": [],
   "source": [
    "# Load multilingual NER model from HuggingFace\n",
    "\n",
    "ner_pipeline_xlm = pipeline(\n",
    "    \"ner\",\n",
    "    model=\"Davlan/xlm-roberta-base-ner-hrl\",\n",
    "    aggregation_strategy=\"simple\"  # Merges tokens into entities\n",
    ")"
   ]
  },
  {
   "cell_type": "code",
   "execution_count": null,
   "id": "992f6dea-b75b-43be-aba9-c579060626d3",
   "metadata": {},
   "outputs": [],
   "source": [
    "# Write a function to extract ORG entities\n",
    "\n",
    "def extract_org_xlm(text):\n",
    "    \"\"\"\n",
    "    Extracts 'ORG' entities from Polish-language text using the Davlan/XLM-RoBERTa Hugging Face NER model.\n",
    "\n",
    "    Parameters:\n",
    "        text (str): A string of text in Polish.\n",
    "\n",
    "    Returns:\n",
    "        list: A list of 'ORG' entities extracted by the transformer-based model.\n",
    "    \"\"\"\n",
    "    results = ner_pipeline_xlm(text)\n",
    "    return [r['word'] for r in results if r['entity_group'] == 'ORG']"
   ]
  },
  {
   "cell_type": "code",
   "execution_count": null,
   "id": "7b7429fc-3b26-48b5-8a22-c41b97317903",
   "metadata": {},
   "outputs": [],
   "source": [
    "# Apply the model and create a dataframe\n",
    "\n",
    "df_davlan_pl = pd.DataFrame({\n",
    "    \"Text\": cleaned_text_pl,\n",
    "    \"ORG_Entities_xlm\": cleaned_text_pl.apply(extract_org_xlm)\n",
    "})"
   ]
  },
  {
   "cell_type": "code",
   "execution_count": null,
   "id": "40f9ec1b-2d21-4b61-91ec-2cea6731b8c0",
   "metadata": {},
   "outputs": [],
   "source": [
    "# Add the 'Impact description identifier - POL-on 2.0 system uuid' column to df_davlan_pl\n",
    "df_davlan_pl[\"ICS_ID\"] = ics_selected_columns_pl[\"Impact description identifier - POL-on 2.0 system uuid\"]\n",
    "\n",
    "# Display the first few rows to confirm\n",
    "print(df_davlan_pl.head())"
   ]
  },
  {
   "cell_type": "code",
   "execution_count": null,
   "id": "9aefd110-cb5f-4222-bb50-e17e55eb9ecb",
   "metadata": {},
   "outputs": [],
   "source": [
    "total_entities_ner_davlan_pl = df_davlan_pl[\"ORG_Entities_xlm\"].explode().notna().sum()\n",
    "print(f\"Total ORG entities extracted Davlan_pl: {total_entities_ner_davlan_pl}\")"
   ]
  },
  {
   "cell_type": "code",
   "execution_count": null,
   "id": "285b3c70-b9b4-4cf0-98d4-8cdb8e07a8af",
   "metadata": {},
   "outputs": [],
   "source": [
    "# Define your target folder path \n",
    "OUTPUT_DIR = \"../output\"\n",
    "os.makedirs(OUTPUT_DIR, exist_ok=True)\n",
    "\n",
    "# Save the CSV file in the specified folder\n",
    "csv_davlan_path_pl = os.path.join(OUTPUT_DIR, \"ner_davlan_pl.csv\")\n",
    "df_davlan_pl.to_csv(csv_davlan_path_pl, index=False)\n",
    "\n",
    "print(f\"CSV file saved at: {csv_davlan_path_pl}\")"
   ]
  }
 ],
 "metadata": {
  "kernelspec": {
   "display_name": "Python 3 (ipykernel)",
   "language": "python",
   "name": "python3"
  },
  "language_info": {
   "codemirror_mode": {
    "name": "ipython",
    "version": 3
   },
   "file_extension": ".py",
   "mimetype": "text/x-python",
   "name": "python",
   "nbconvert_exporter": "python",
   "pygments_lexer": "ipython3",
   "version": "3.12.5"
  }
 },
 "nbformat": 4,
 "nbformat_minor": 5
}

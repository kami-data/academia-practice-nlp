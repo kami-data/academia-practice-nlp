{
 "cells": [
  {
   "cell_type": "markdown",
   "id": "ab02459e-4854-41b6-9d55-6367fa006d9e",
   "metadata": {
    "jp-MarkdownHeadingCollapsed": true
   },
   "source": [
    "# Academia–Practice Interaction Mapping Using NLP\n",
    "\n",
    "**Author:** Kamila Lewandowska  \n",
    "**Project Status:** *In Progress*  \n",
    "**Last Updated:** April 2025  \n",
    "\n",
    "---\n",
    "\n",
    "### Project Description\n",
    "\n",
    "This notebook uses Named Entity Recognition (NER) to extract non-academic organizations from social impact case studies submitted by Polish universities.  \n",
    "The goal is to identify and analyze the network of practice partners involved in academic research and its broader societal impact.\n",
    "\n",
    "---\n",
    "\n",
    "### File Overview\n",
    "\n",
    "- Input data: `data/merged_impact_case_studies.csv`\n",
    "- Output files: \n",
    "  - `output/ner_stanza_pl.csv`\n",
    "  - `output/ner_davlan_pl.csv`\n",
    "- NLP Models used:\n",
    "  - [`Stanza`](https://github.com/stanfordnlp/stanza) (Stanford NLP) for Polish NER\n",
    "  - [`Davlan/xlm-roberta-base-finetuned-ner`](https://huggingface.co/Davlan/xlm-roberta-base-ner-hrl) model via Hugging Face\n",
    "\n",
    "\n",
    "---\n"
   ]
  },
  {
   "cell_type": "markdown",
   "id": "742f09a3-6e7c-4046-bdcf-d19c5979fa71",
   "metadata": {},
   "source": [
    "# Read and prepare data for NER extraction"
   ]
  },
  {
   "cell_type": "code",
   "execution_count": 17,
   "id": "ea2434c9-767b-4847-a82b-947a2b96d4fc",
   "metadata": {},
   "outputs": [],
   "source": [
    "import pandas as pd\n",
    "import os\n",
    "import re\n",
    "from transformers import pipeline\n",
    "from ast import literal_eval\n",
    "from collections import Counter\n",
    "import random\n",
    "from pathlib import Path"
   ]
  },
  {
   "cell_type": "code",
   "execution_count": 23,
   "id": "c104bee7-1ff3-495f-8336-3eafa09daa53",
   "metadata": {},
   "outputs": [],
   "source": [
    "# Read data from a csv file with desriptions of societal impact of research\n",
    "\n",
    "ics = pd.read_csv(\"../data/merged_impact_case_studies.csv\")"
   ]
  },
  {
   "cell_type": "code",
   "execution_count": 5,
   "id": "93faf218-c25e-459c-acd3-48df65643c93",
   "metadata": {
    "scrolled": true
   },
   "outputs": [],
   "source": [
    "# Select list of columns to include for analysis\n",
    "columns_to_include_pl = ['Impact description identifier - POL-on 2.0 system uuid', 'Identifier of the institution to which the impact description is assigned - POL-on 2.0 system uuid', 'Domain name', 'Discipline name', 'Title (Polish version)', 'Impact (Polish version)', 'The leading area of impact']  \n",
    "\n",
    "# Filter to keep only the necessary columns and drop duplicates\n",
    "ics_selected_columns_pl = ics[columns_to_include_pl].drop_duplicates()\n",
    "\n",
    "# Reset index if necessary\n",
    "ics_selected_columns_pl.reset_index(drop=True, inplace=True)\n",
    "\n"
   ]
  },
  {
   "cell_type": "code",
   "execution_count": 6,
   "id": "5f79442e-83e1-4fce-89ec-118f4fd02b08",
   "metadata": {},
   "outputs": [],
   "source": [
    "# Create a new column combining 'Impact (English version)' and 'Title (English version)'\n",
    "texts_pl = ics_selected_columns_pl['Impact (Polish version)'].fillna('') + \" \" + ics_selected_columns_pl['Title (Polish version)'].fillna('')"
   ]
  },
  {
   "cell_type": "code",
   "execution_count": 7,
   "id": "f55a3cc5-2dcf-49e2-bf2e-37cb5c77c840",
   "metadata": {},
   "outputs": [
    {
     "name": "stdout",
     "output_type": "stream",
     "text": [
      "(2661,)\n"
     ]
    }
   ],
   "source": [
    "# Check teh shape of the dataset\n",
    "print(texts_pl.shape)"
   ]
  },
  {
   "cell_type": "code",
   "execution_count": 11,
   "id": "60ac17a0-ee22-4e21-ac06-723c80699c2a",
   "metadata": {},
   "outputs": [],
   "source": [
    "# Define text preprocessing\n",
    "\n",
    "# Function to normalize text: remove URLs \n",
    "def preprocess_text(text):\n",
    "    \"\"\"\n",
    "    Normalizes URLs in the input text by replacing full URLs with just the domain name.\n",
    "\n",
    "    Parameters:\n",
    "        text (str): A string of text potentially containing URLs.\n",
    "\n",
    "    Returns:\n",
    "        str: The input text with URLs simplified to their domain names.\n",
    "    \"\"\"\n",
    "    text = re.sub(r'https?://(?:www\\.)?([a-zA-Z0-9.-]+)(?:/[\\w./-]*)?', r'\\1', text)  # Normalize URLs\n",
    "    return text"
   ]
  },
  {
   "cell_type": "code",
   "execution_count": 9,
   "id": "e2138566-eec5-46d5-b63b-d1444e8cfefb",
   "metadata": {},
   "outputs": [],
   "source": [
    "# Preprocess text\n",
    "cleaned_text_pl = texts_pl.apply(preprocess_text)"
   ]
  },
  {
   "cell_type": "code",
   "execution_count": 10,
   "id": "dc769cc5-618f-4e93-9fca-d5eaaaede38c",
   "metadata": {},
   "outputs": [
    {
     "name": "stdout",
     "output_type": "stream",
     "text": [
      "Average word number in cleaned_text: 550.5678316422398\n",
      "Total words in cleaned_text: 1465061\n"
     ]
    }
   ],
   "source": [
    "# Check the descriptive statistics of the dataset\n",
    "\n",
    "cleaned_text_pl_mean = cleaned_text_pl.apply(lambda x: len(str(x).split())).mean()\n",
    "cleaned_text_pl_sum = cleaned_text_pl.apply(lambda x: len(str(x).split())).sum()\n",
    "\n",
    "print(f\"Average word number in cleaned_text: {cleaned_text_pl_mean}\")\n",
    "print(f\"Total words in cleaned_text: {cleaned_text_pl_sum}\")"
   ]
  },
  {
   "cell_type": "markdown",
   "id": "d4c70c2e-8520-4cd3-beb9-35030eccabbb",
   "metadata": {},
   "source": [
    "# Extract ORG Entities Using Different Models"
   ]
  },
  {
   "cell_type": "markdown",
   "id": "da844afc-8852-4efd-9a1e-1804b54b2d41",
   "metadata": {},
   "source": [
    "## Extract entities using Stanza Model ('pl')"
   ]
  },
  {
   "cell_type": "code",
   "execution_count": 12,
   "id": "a7d7f9ce-b39f-4bbf-aa47-fb348cd3cc05",
   "metadata": {},
   "outputs": [],
   "source": [
    "# Function to extract 'ORG' entities using Stanza_pl\n",
    "def extract_org_stanza_pl(text):\n",
    "    \"\"\"\n",
    "    Extracts \"ORG\" entities from Polish-language text using the Stanza NER pipeline.\n",
    "\n",
    "    Parameters: \n",
    "        text (str): A string of text in Polish.\n",
    "\n",
    "    Returns: \n",
    "        list: A list of named entities of type \"ORG\" found in the input text.\n",
    "    \"\"\"\n",
    "    doc = nlp_stanza_pl(text)\n",
    "    return [ent.text for ent in doc.ents if ent.type == \"orgName\"]\n"
   ]
  },
  {
   "cell_type": "code",
   "execution_count": null,
   "id": "91125780-4c52-43d2-a87b-8f50131346ad",
   "metadata": {},
   "outputs": [],
   "source": [
    "# Apply Stanza_pl NER extraction to the dataset\n",
    "cleaned_text_stanza_pl = cleaned_text_pl.apply(extract_org_stanza_pl)\n",
    "\n",
    "# Save results in a DataFrame\n",
    "df_stanza_pl = pd.DataFrame({\"Text\": cleaned_text_pl, \"ORG_Entities_stanza\": cleaned_text_stanza_pl})\n"
   ]
  },
  {
   "cell_type": "code",
   "execution_count": null,
   "id": "c01d74ec-507f-402d-821a-41e6a1514022",
   "metadata": {},
   "outputs": [],
   "source": [
    "# Add the 'Impact description identifier - POL-on 2.0 system uuid' column to df_stanza_pl\n",
    "df_stanza_pl[\"ICS_ID\"] = ics_selected_columns_pl[\"Impact description identifier - POL-on 2.0 system uuid\"]\n",
    "\n",
    "# Display the first few rows to confirm\n",
    "print(df_stanza_pl.head())"
   ]
  },
  {
   "cell_type": "code",
   "execution_count": null,
   "id": "0c2eba00-8845-4d43-b267-0c76c052aa2b",
   "metadata": {
    "scrolled": true
   },
   "outputs": [],
   "source": [
    "total_entities_ner_stanza_pl = df_stanza_pl[\"ORG_Entities_stanza\"].explode().notna().sum()\n",
    "print(f\"Total ORG entities extracted Stanza_pl: {total_entities_ner_stanza_pl}\")"
   ]
  },
  {
   "cell_type": "code",
   "execution_count": 24,
   "id": "7b026552-bc9e-4182-8a93-070aa3eeae41",
   "metadata": {
    "scrolled": true
   },
   "outputs": [
    {
     "name": "stderr",
     "output_type": "stream",
     "text": [
      "<>:2: SyntaxWarning: invalid escape sequence '\\o'\n",
      "<>:2: SyntaxWarning: invalid escape sequence '\\o'\n",
      "C:\\Users\\lewandowska\\AppData\\Local\\Temp\\ipykernel_5332\\3861199687.py:2: SyntaxWarning: invalid escape sequence '\\o'\n",
      "  OUTPUT_DIR = \"..\\output\"\n",
      "C:\\Users\\lewandowska\\AppData\\Local\\Temp\\ipykernel_5332\\3861199687.py:2: SyntaxWarning: invalid escape sequence '\\o'\n",
      "  OUTPUT_DIR = \"..\\output\"\n"
     ]
    },
    {
     "ename": "NameError",
     "evalue": "name 'df_stanza_pl' is not defined",
     "output_type": "error",
     "traceback": [
      "\u001b[1;31m---------------------------------------------------------------------------\u001b[0m",
      "\u001b[1;31mNameError\u001b[0m                                 Traceback (most recent call last)",
      "Cell \u001b[1;32mIn[24], line 7\u001b[0m\n\u001b[0;32m      5\u001b[0m \u001b[38;5;66;03m# Save the CSV file in the specified folder\u001b[39;00m\n\u001b[0;32m      6\u001b[0m csv_file_path_pl \u001b[38;5;241m=\u001b[39m os\u001b[38;5;241m.\u001b[39mpath\u001b[38;5;241m.\u001b[39mjoin(OUTPUT_DIR, \u001b[38;5;124m\"\u001b[39m\u001b[38;5;124mner_stanza_pl.csv\u001b[39m\u001b[38;5;124m\"\u001b[39m)\n\u001b[1;32m----> 7\u001b[0m \u001b[43mdf_stanza_pl\u001b[49m\u001b[38;5;241m.\u001b[39mto_csv(csv_file_path_pl, index\u001b[38;5;241m=\u001b[39m\u001b[38;5;28;01mFalse\u001b[39;00m)\n\u001b[0;32m      9\u001b[0m \u001b[38;5;28mprint\u001b[39m(\u001b[38;5;124mf\u001b[39m\u001b[38;5;124m\"\u001b[39m\u001b[38;5;124mCSV file saved at: \u001b[39m\u001b[38;5;132;01m{\u001b[39;00mcsv_file_path_pl\u001b[38;5;132;01m}\u001b[39;00m\u001b[38;5;124m\"\u001b[39m)\n",
      "\u001b[1;31mNameError\u001b[0m: name 'df_stanza_pl' is not defined"
     ]
    }
   ],
   "source": [
    "# Define your target folder path \n",
    "OUTPUT_DIR = \"../output\"\n",
    "os.makedirs(OUTPUT_DIR, exist_ok=True)\n",
    "\n",
    "# Save the CSV file in the specified folder\n",
    "csv_file_path_pl = os.path.join(OUTPUT_DIR, \"ner_stanza_pl.csv\")\n",
    "df_stanza_pl.to_csv(csv_file_path_pl, index=False)\n",
    "\n",
    "print(f\"CSV file saved at: {csv_file_path_pl}\")"
   ]
  },
  {
   "cell_type": "markdown",
   "id": "7e807a72-4c3f-4e39-92d2-8d14699b040d",
   "metadata": {},
   "source": [
    "## Extract entities using multilingual NER model from HuggingFace"
   ]
  },
  {
   "cell_type": "code",
   "execution_count": null,
   "id": "3e51e0bd-a16c-47db-90ac-edd4de20592f",
   "metadata": {},
   "outputs": [],
   "source": [
    "# Load multilingual NER model from HuggingFace\n",
    "\n",
    "ner_pipeline_xlm = pipeline(\n",
    "    \"ner\",\n",
    "    model=\"Davlan/xlm-roberta-base-ner-hrl\",\n",
    "    aggregation_strategy=\"simple\"  # Merges tokens into entities\n",
    ")"
   ]
  },
  {
   "cell_type": "code",
   "execution_count": 15,
   "id": "992f6dea-b75b-43be-aba9-c579060626d3",
   "metadata": {},
   "outputs": [],
   "source": [
    "# Write a function to extract ORG entities\n",
    "\n",
    "def extract_org_xlm(text):\n",
    "    \"\"\"\n",
    "    Extracts 'ORG' entities from Polish-language text using the Davlan/XLM-RoBERTa Hugging Face NER model.\n",
    "\n",
    "    Parameters:\n",
    "        text (str): A string of text in Polish.\n",
    "\n",
    "    Returns:\n",
    "        list: A list of 'ORG' entities extracted by the transformer-based model.\n",
    "    \"\"\"\n",
    "    results = ner_pipeline_xlm(text)\n",
    "    return [r['word'] for r in results if r['entity_group'] == 'ORG']"
   ]
  },
  {
   "cell_type": "code",
   "execution_count": null,
   "id": "7b7429fc-3b26-48b5-8a22-c41b97317903",
   "metadata": {},
   "outputs": [],
   "source": [
    "# Apply the model and create a dataframe\n",
    "\n",
    "df_davlan_pl = pd.DataFrame({\n",
    "    \"Text\": cleaned_text_pl,\n",
    "    \"ORG_Entities_xlm\": cleaned_text_pl.apply(extract_org_xlm)\n",
    "})"
   ]
  },
  {
   "cell_type": "code",
   "execution_count": null,
   "id": "40f9ec1b-2d21-4b61-91ec-2cea6731b8c0",
   "metadata": {},
   "outputs": [],
   "source": [
    "# Add the 'Impact description identifier - POL-on 2.0 system uuid' column to df_davlan_pl\n",
    "df_davlan_pl[\"ICS_ID\"] = ics_selected_columns_pl[\"Impact description identifier - POL-on 2.0 system uuid\"]\n",
    "\n",
    "# Display the first few rows to confirm\n",
    "print(df_davlan_pl.head())"
   ]
  },
  {
   "cell_type": "code",
   "execution_count": null,
   "id": "9aefd110-cb5f-4222-bb50-e17e55eb9ecb",
   "metadata": {},
   "outputs": [],
   "source": [
    "total_entities_ner_davlan_pl = df_davlan_pl[\"ORG_Entities_xlm\"].explode().notna().sum()\n",
    "print(f\"Total ORG entities extracted Davlan_pl: {total_entities_ner_davlan_pl}\")"
   ]
  },
  {
   "cell_type": "code",
   "execution_count": null,
   "id": "285b3c70-b9b4-4cf0-98d4-8cdb8e07a8af",
   "metadata": {},
   "outputs": [],
   "source": [
    "# Define your target folder path \n",
    "OUTPUT_DIR = \"../output\"\n",
    "os.makedirs(OUTPUT_DIR, exist_ok=True)\n",
    "\n",
    "# Save the CSV file in the specified folder\n",
    "csv_davlan_path_pl = os.path.join(OUTPUT_DIR, \"ner_davlan_pl.csv\")\n",
    "df_davlan_pl.to_csv(csv_davlan_path_pl, index=False)\n",
    "\n",
    "print(f\"CSV file saved at: {csv_davlan_path_pl}\")"
   ]
  },
  {
   "cell_type": "markdown",
   "id": "54e22bec-93e2-43c5-916c-b968d79f07c2",
   "metadata": {},
   "source": [
    "# EDA: Compare entities from both models"
   ]
  },
  {
   "cell_type": "code",
   "execution_count": 6,
   "id": "77697511-19a4-4d02-a85e-b0b8ed0502ca",
   "metadata": {},
   "outputs": [],
   "source": [
    "# Load the CSV files\n",
    "\n",
    "stanza_pl = pd.read_csv(r\"C:\\Users\\lewandowska\\Desktop\\OPUS LAP_realizacja\\WP_3_Impact_case_studies\\academia-practice-nlp\\output\\ner_stanza_pl.csv\")\n",
    "davlan_pl = pd.read_csv(r\"C:\\Users\\lewandowska\\Desktop\\OPUS LAP_realizacja\\WP_3_Impact_case_studies\\academia-practice-nlp\\output\\ner_davlan_pl.csv\")"
   ]
  },
  {
   "cell_type": "code",
   "execution_count": 5,
   "id": "f058aab5-b863-4891-9b12-5b17321c2f39",
   "metadata": {},
   "outputs": [],
   "source": [
    "# Create a dataframe for comparison \n",
    "\n",
    "ner_pl_comp = pd.merge(stanza_pl, davlan_pl, on = [\"Text\", \"ICS_ID\"], how=\"inner\")\n"
   ]
  },
  {
   "cell_type": "code",
   "execution_count": 6,
   "id": "057ce0e8-67f6-41ba-a1f4-e079af1f53e2",
   "metadata": {},
   "outputs": [],
   "source": [
    "# Change the order of columns\n",
    "\n",
    "ner_pl_comp = ner_pl_comp[['ICS_ID', 'Text', 'ORG_Entities_stanza', 'ORG_Entities_xlm']]"
   ]
  },
  {
   "cell_type": "code",
   "execution_count": 7,
   "id": "6ce5dbf9-8b91-427e-9824-9143857b12f3",
   "metadata": {},
   "outputs": [
    {
     "data": {
      "text/plain": [
       "Index(['ICS_ID', 'Text', 'ORG_Entities_stanza', 'ORG_Entities_xlm'], dtype='object')"
      ]
     },
     "execution_count": 7,
     "metadata": {},
     "output_type": "execute_result"
    }
   ],
   "source": [
    "ner_pl_comp.columns"
   ]
  },
  {
   "cell_type": "code",
   "execution_count": 8,
   "id": "c236f46c-f54a-440c-9631-42830affb5ec",
   "metadata": {},
   "outputs": [
    {
     "data": {
      "text/html": [
       "<div>\n",
       "<style scoped>\n",
       "    .dataframe tbody tr th:only-of-type {\n",
       "        vertical-align: middle;\n",
       "    }\n",
       "\n",
       "    .dataframe tbody tr th {\n",
       "        vertical-align: top;\n",
       "    }\n",
       "\n",
       "    .dataframe thead th {\n",
       "        text-align: right;\n",
       "    }\n",
       "</style>\n",
       "<table border=\"1\" class=\"dataframe\">\n",
       "  <thead>\n",
       "    <tr style=\"text-align: right;\">\n",
       "      <th></th>\n",
       "      <th>ICS_ID</th>\n",
       "      <th>Text</th>\n",
       "      <th>ORG_Entities_stanza</th>\n",
       "      <th>ORG_Entities_xlm</th>\n",
       "    </tr>\n",
       "  </thead>\n",
       "  <tbody>\n",
       "    <tr>\n",
       "      <th>0</th>\n",
       "      <td>00153fbd-82f7-48c4-b5bd-e830bc390244</td>\n",
       "      <td>Badania skupiające się na szczegółowej analizi...</td>\n",
       "      <td>['Komitetu Nauk Weterynaryjnych i Rozrodu Zwie...</td>\n",
       "      <td>['Komitetu Nauk Weterynaryjnych i Rozrodu Zwie...</td>\n",
       "    </tr>\n",
       "    <tr>\n",
       "      <th>1</th>\n",
       "      <td>002768f1-8b96-4e0f-bcc8-192eb0594e60</td>\n",
       "      <td>Birdwatching, czyli obserwacje w terenie ptakó...</td>\n",
       "      <td>['Królewskie Towarzystwo Ochrony Ptaków', 'Fac...</td>\n",
       "      <td>['Królewskie Towarzystwo Ochrony Ptaków', 'Zak...</td>\n",
       "    </tr>\n",
       "    <tr>\n",
       "      <th>2</th>\n",
       "      <td>00500483-f00c-4410-b6f7-8650a003125f</td>\n",
       "      <td>Efektywny transfer wiedzy jest podstawowym czy...</td>\n",
       "      <td>['MŚP', 'MŚP', 'ETW']</td>\n",
       "      <td>[]</td>\n",
       "    </tr>\n",
       "    <tr>\n",
       "      <th>3</th>\n",
       "      <td>006e7fef-2083-426d-9c1b-1affd27b939e</td>\n",
       "      <td>Ważnym obszarem działalności naukowej WSPiA je...</td>\n",
       "      <td>['WSPiA', 'AP', 'WSPiA', '4 Zespoły', 'AP', 'A...</td>\n",
       "      <td>['WSPiA', 'WSPiA']</td>\n",
       "    </tr>\n",
       "    <tr>\n",
       "      <th>4</th>\n",
       "      <td>00901439-d91a-48e0-903a-26a4253c3a0c</td>\n",
       "      <td>Znaczna część europejskiego dziedzictwa archeo...</td>\n",
       "      <td>['Interreg Central Europe', 'Archaeological He...</td>\n",
       "      <td>['Inter', 'Archaeological Heritage Office of S...</td>\n",
       "    </tr>\n",
       "  </tbody>\n",
       "</table>\n",
       "</div>"
      ],
      "text/plain": [
       "                                 ICS_ID  \\\n",
       "0  00153fbd-82f7-48c4-b5bd-e830bc390244   \n",
       "1  002768f1-8b96-4e0f-bcc8-192eb0594e60   \n",
       "2  00500483-f00c-4410-b6f7-8650a003125f   \n",
       "3  006e7fef-2083-426d-9c1b-1affd27b939e   \n",
       "4  00901439-d91a-48e0-903a-26a4253c3a0c   \n",
       "\n",
       "                                                Text  \\\n",
       "0  Badania skupiające się na szczegółowej analizi...   \n",
       "1  Birdwatching, czyli obserwacje w terenie ptakó...   \n",
       "2  Efektywny transfer wiedzy jest podstawowym czy...   \n",
       "3  Ważnym obszarem działalności naukowej WSPiA je...   \n",
       "4  Znaczna część europejskiego dziedzictwa archeo...   \n",
       "\n",
       "                                 ORG_Entities_stanza  \\\n",
       "0  ['Komitetu Nauk Weterynaryjnych i Rozrodu Zwie...   \n",
       "1  ['Królewskie Towarzystwo Ochrony Ptaków', 'Fac...   \n",
       "2                              ['MŚP', 'MŚP', 'ETW']   \n",
       "3  ['WSPiA', 'AP', 'WSPiA', '4 Zespoły', 'AP', 'A...   \n",
       "4  ['Interreg Central Europe', 'Archaeological He...   \n",
       "\n",
       "                                    ORG_Entities_xlm  \n",
       "0  ['Komitetu Nauk Weterynaryjnych i Rozrodu Zwie...  \n",
       "1  ['Królewskie Towarzystwo Ochrony Ptaków', 'Zak...  \n",
       "2                                                 []  \n",
       "3                                 ['WSPiA', 'WSPiA']  \n",
       "4  ['Inter', 'Archaeological Heritage Office of S...  "
      ]
     },
     "execution_count": 8,
     "metadata": {},
     "output_type": "execute_result"
    }
   ],
   "source": [
    "ner_pl_comp.head()"
   ]
  },
  {
   "cell_type": "code",
   "execution_count": 9,
   "id": "c7a0638f-45a7-4ccc-a6ef-cc59bef41f4e",
   "metadata": {},
   "outputs": [
    {
     "name": "stdout",
     "output_type": "stream",
     "text": [
      "<class 'str'>\n"
     ]
    }
   ],
   "source": [
    "# Checking the data type\n",
    "\n",
    "print(type(ner_pl_comp.iloc[0, 2]))"
   ]
  },
  {
   "cell_type": "code",
   "execution_count": 10,
   "id": "4787b9ad-da44-4a2a-a856-322bd9f38ba9",
   "metadata": {},
   "outputs": [],
   "source": [
    "# Converting columns with entity names into lists\n",
    "\n",
    "ner_pl_comp[[\"ORG_Entities_stanza\", \"ORG_Entities_xlm\"]] = ner_pl_comp[[\"ORG_Entities_stanza\", \"ORG_Entities_xlm\"]].apply(\n",
    "    lambda col: col.map(literal_eval))\n"
   ]
  },
  {
   "cell_type": "code",
   "execution_count": 11,
   "id": "d6f58721-14d7-42f2-8b2b-76e01e0cbef4",
   "metadata": {},
   "outputs": [],
   "source": [
    "# Create a column with entities detected by both models\n",
    "\n",
    "ner_pl_comp[\"Common_entities\"] = ner_pl_comp.apply(\n",
    "    lambda row: list(set(row[\"ORG_Entities_stanza\"]) & set(row[\"ORG_Entities_xlm\"])), axis=1\n",
    "                    )"
   ]
  },
  {
   "cell_type": "code",
   "execution_count": 12,
   "id": "d52adc89-9905-4b8a-9fd5-a3c24d002929",
   "metadata": {},
   "outputs": [
    {
     "data": {
      "text/html": [
       "<div>\n",
       "<style scoped>\n",
       "    .dataframe tbody tr th:only-of-type {\n",
       "        vertical-align: middle;\n",
       "    }\n",
       "\n",
       "    .dataframe tbody tr th {\n",
       "        vertical-align: top;\n",
       "    }\n",
       "\n",
       "    .dataframe thead th {\n",
       "        text-align: right;\n",
       "    }\n",
       "</style>\n",
       "<table border=\"1\" class=\"dataframe\">\n",
       "  <thead>\n",
       "    <tr style=\"text-align: right;\">\n",
       "      <th></th>\n",
       "      <th>ICS_ID</th>\n",
       "      <th>Text</th>\n",
       "      <th>ORG_Entities_stanza</th>\n",
       "      <th>ORG_Entities_xlm</th>\n",
       "      <th>Common_entities</th>\n",
       "    </tr>\n",
       "  </thead>\n",
       "  <tbody>\n",
       "    <tr>\n",
       "      <th>0</th>\n",
       "      <td>00153fbd-82f7-48c4-b5bd-e830bc390244</td>\n",
       "      <td>Badania skupiające się na szczegółowej analizi...</td>\n",
       "      <td>[Komitetu Nauk Weterynaryjnych i Rozrodu Zwier...</td>\n",
       "      <td>[Komitetu Nauk Weterynaryjnych i Rozrodu Zwier...</td>\n",
       "      <td>[Rady Doradczej, Facebook, Scientific Reports,...</td>\n",
       "    </tr>\n",
       "    <tr>\n",
       "      <th>1</th>\n",
       "      <td>002768f1-8b96-4e0f-bcc8-192eb0594e60</td>\n",
       "      <td>Birdwatching, czyli obserwacje w terenie ptakó...</td>\n",
       "      <td>[Królewskie Towarzystwo Ochrony Ptaków, Facebo...</td>\n",
       "      <td>[Królewskie Towarzystwo Ochrony Ptaków, Zakład...</td>\n",
       "      <td>[Królewskie Towarzystwo Ochrony Ptaków, UAM]</td>\n",
       "    </tr>\n",
       "    <tr>\n",
       "      <th>2</th>\n",
       "      <td>00500483-f00c-4410-b6f7-8650a003125f</td>\n",
       "      <td>Efektywny transfer wiedzy jest podstawowym czy...</td>\n",
       "      <td>[MŚP, MŚP, ETW]</td>\n",
       "      <td>[]</td>\n",
       "      <td>[]</td>\n",
       "    </tr>\n",
       "    <tr>\n",
       "      <th>3</th>\n",
       "      <td>006e7fef-2083-426d-9c1b-1affd27b939e</td>\n",
       "      <td>Ważnym obszarem działalności naukowej WSPiA je...</td>\n",
       "      <td>[WSPiA, AP, WSPiA, 4 Zespoły, AP, AP, ZK, ZK, ...</td>\n",
       "      <td>[WSPiA, WSPiA]</td>\n",
       "      <td>[WSPiA]</td>\n",
       "    </tr>\n",
       "    <tr>\n",
       "      <th>4</th>\n",
       "      <td>00901439-d91a-48e0-903a-26a4253c3a0c</td>\n",
       "      <td>Znaczna część europejskiego dziedzictwa archeo...</td>\n",
       "      <td>[Interreg Central Europe, Archaeological Herit...</td>\n",
       "      <td>[Inter, Archaeological Heritage Office of Saxo...</td>\n",
       "      <td>[Cultural Heritage Department, Archaeological ...</td>\n",
       "    </tr>\n",
       "  </tbody>\n",
       "</table>\n",
       "</div>"
      ],
      "text/plain": [
       "                                 ICS_ID  \\\n",
       "0  00153fbd-82f7-48c4-b5bd-e830bc390244   \n",
       "1  002768f1-8b96-4e0f-bcc8-192eb0594e60   \n",
       "2  00500483-f00c-4410-b6f7-8650a003125f   \n",
       "3  006e7fef-2083-426d-9c1b-1affd27b939e   \n",
       "4  00901439-d91a-48e0-903a-26a4253c3a0c   \n",
       "\n",
       "                                                Text  \\\n",
       "0  Badania skupiające się na szczegółowej analizi...   \n",
       "1  Birdwatching, czyli obserwacje w terenie ptakó...   \n",
       "2  Efektywny transfer wiedzy jest podstawowym czy...   \n",
       "3  Ważnym obszarem działalności naukowej WSPiA je...   \n",
       "4  Znaczna część europejskiego dziedzictwa archeo...   \n",
       "\n",
       "                                 ORG_Entities_stanza  \\\n",
       "0  [Komitetu Nauk Weterynaryjnych i Rozrodu Zwier...   \n",
       "1  [Królewskie Towarzystwo Ochrony Ptaków, Facebo...   \n",
       "2                                    [MŚP, MŚP, ETW]   \n",
       "3  [WSPiA, AP, WSPiA, 4 Zespoły, AP, AP, ZK, ZK, ...   \n",
       "4  [Interreg Central Europe, Archaeological Herit...   \n",
       "\n",
       "                                    ORG_Entities_xlm  \\\n",
       "0  [Komitetu Nauk Weterynaryjnych i Rozrodu Zwier...   \n",
       "1  [Królewskie Towarzystwo Ochrony Ptaków, Zakład...   \n",
       "2                                                 []   \n",
       "3                                     [WSPiA, WSPiA]   \n",
       "4  [Inter, Archaeological Heritage Office of Saxo...   \n",
       "\n",
       "                                     Common_entities  \n",
       "0  [Rady Doradczej, Facebook, Scientific Reports,...  \n",
       "1       [Królewskie Towarzystwo Ochrony Ptaków, UAM]  \n",
       "2                                                 []  \n",
       "3                                            [WSPiA]  \n",
       "4  [Cultural Heritage Department, Archaeological ...  "
      ]
     },
     "execution_count": 12,
     "metadata": {},
     "output_type": "execute_result"
    }
   ],
   "source": [
    "ner_pl_comp.head()"
   ]
  },
  {
   "cell_type": "code",
   "execution_count": 13,
   "id": "0ce84466-2fbc-4060-96d0-d30291fca04b",
   "metadata": {},
   "outputs": [],
   "source": [
    "# Create stanza and davlan columns with unique entities per row (entities can repeat across rows but not in the same row/ ics)\n",
    "\n",
    "ner_pl_comp[\"Stanza_unique_row\"] = ner_pl_comp[\"ORG_Entities_stanza\"].apply(lambda row: list(set(row)))\n",
    "ner_pl_comp[\"Davlan_unique_row\"] = ner_pl_comp[\"ORG_Entities_xlm\"].apply(lambda row: list(set(row)))\n"
   ]
  },
  {
   "cell_type": "code",
   "execution_count": 14,
   "id": "91e11eae-e5ba-480e-bfda-79168779586d",
   "metadata": {},
   "outputs": [
    {
     "data": {
      "text/html": [
       "<div>\n",
       "<style scoped>\n",
       "    .dataframe tbody tr th:only-of-type {\n",
       "        vertical-align: middle;\n",
       "    }\n",
       "\n",
       "    .dataframe tbody tr th {\n",
       "        vertical-align: top;\n",
       "    }\n",
       "\n",
       "    .dataframe thead th {\n",
       "        text-align: right;\n",
       "    }\n",
       "</style>\n",
       "<table border=\"1\" class=\"dataframe\">\n",
       "  <thead>\n",
       "    <tr style=\"text-align: right;\">\n",
       "      <th></th>\n",
       "      <th>ICS_ID</th>\n",
       "      <th>Text</th>\n",
       "      <th>ORG_Entities_stanza</th>\n",
       "      <th>ORG_Entities_xlm</th>\n",
       "      <th>Common_entities</th>\n",
       "      <th>Stanza_unique_row</th>\n",
       "      <th>Davlan_unique_row</th>\n",
       "    </tr>\n",
       "  </thead>\n",
       "  <tbody>\n",
       "    <tr>\n",
       "      <th>0</th>\n",
       "      <td>00153fbd-82f7-48c4-b5bd-e830bc390244</td>\n",
       "      <td>Badania skupiające się na szczegółowej analizi...</td>\n",
       "      <td>[Komitetu Nauk Weterynaryjnych i Rozrodu Zwier...</td>\n",
       "      <td>[Komitetu Nauk Weterynaryjnych i Rozrodu Zwier...</td>\n",
       "      <td>[Rady Doradczej, Facebook, Scientific Reports,...</td>\n",
       "      <td>[Rady Doradczej, Zespołu, Uniwersytet, Faceboo...</td>\n",
       "      <td>[Rady Doradczej, Facebook, Scientific Reports,...</td>\n",
       "    </tr>\n",
       "    <tr>\n",
       "      <th>1</th>\n",
       "      <td>002768f1-8b96-4e0f-bcc8-192eb0594e60</td>\n",
       "      <td>Birdwatching, czyli obserwacje w terenie ptakó...</td>\n",
       "      <td>[Królewskie Towarzystwo Ochrony Ptaków, Facebo...</td>\n",
       "      <td>[Królewskie Towarzystwo Ochrony Ptaków, Zakład...</td>\n",
       "      <td>[Królewskie Towarzystwo Ochrony Ptaków, UAM]</td>\n",
       "      <td>[Komitetu Biologii Środowiskowej i Ewolucyjnej...</td>\n",
       "      <td>[Królewskie Towarzystwo Ochrony Ptaków, „Grupa...</td>\n",
       "    </tr>\n",
       "    <tr>\n",
       "      <th>2</th>\n",
       "      <td>00500483-f00c-4410-b6f7-8650a003125f</td>\n",
       "      <td>Efektywny transfer wiedzy jest podstawowym czy...</td>\n",
       "      <td>[MŚP, MŚP, ETW]</td>\n",
       "      <td>[]</td>\n",
       "      <td>[]</td>\n",
       "      <td>[ETW, MŚP]</td>\n",
       "      <td>[]</td>\n",
       "    </tr>\n",
       "    <tr>\n",
       "      <th>3</th>\n",
       "      <td>006e7fef-2083-426d-9c1b-1affd27b939e</td>\n",
       "      <td>Ważnym obszarem działalności naukowej WSPiA je...</td>\n",
       "      <td>[WSPiA, AP, WSPiA, 4 Zespoły, AP, AP, ZK, ZK, ...</td>\n",
       "      <td>[WSPiA, WSPiA]</td>\n",
       "      <td>[WSPiA]</td>\n",
       "      <td>[4 Zespoły, WSPiA, AP, ZK]</td>\n",
       "      <td>[WSPiA]</td>\n",
       "    </tr>\n",
       "    <tr>\n",
       "      <th>4</th>\n",
       "      <td>00901439-d91a-48e0-903a-26a4253c3a0c</td>\n",
       "      <td>Znaczna część europejskiego dziedzictwa archeo...</td>\n",
       "      <td>[Interreg Central Europe, Archaeological Herit...</td>\n",
       "      <td>[Inter, Archaeological Heritage Office of Saxo...</td>\n",
       "      <td>[Cultural Heritage Department, Archaeological ...</td>\n",
       "      <td>[Province of Trento, VR, Urzędu Miasta Pucka, ...</td>\n",
       "      <td>[Cultural Heritage Department, Inter, Archaeol...</td>\n",
       "    </tr>\n",
       "  </tbody>\n",
       "</table>\n",
       "</div>"
      ],
      "text/plain": [
       "                                 ICS_ID  \\\n",
       "0  00153fbd-82f7-48c4-b5bd-e830bc390244   \n",
       "1  002768f1-8b96-4e0f-bcc8-192eb0594e60   \n",
       "2  00500483-f00c-4410-b6f7-8650a003125f   \n",
       "3  006e7fef-2083-426d-9c1b-1affd27b939e   \n",
       "4  00901439-d91a-48e0-903a-26a4253c3a0c   \n",
       "\n",
       "                                                Text  \\\n",
       "0  Badania skupiające się na szczegółowej analizi...   \n",
       "1  Birdwatching, czyli obserwacje w terenie ptakó...   \n",
       "2  Efektywny transfer wiedzy jest podstawowym czy...   \n",
       "3  Ważnym obszarem działalności naukowej WSPiA je...   \n",
       "4  Znaczna część europejskiego dziedzictwa archeo...   \n",
       "\n",
       "                                 ORG_Entities_stanza  \\\n",
       "0  [Komitetu Nauk Weterynaryjnych i Rozrodu Zwier...   \n",
       "1  [Królewskie Towarzystwo Ochrony Ptaków, Facebo...   \n",
       "2                                    [MŚP, MŚP, ETW]   \n",
       "3  [WSPiA, AP, WSPiA, 4 Zespoły, AP, AP, ZK, ZK, ...   \n",
       "4  [Interreg Central Europe, Archaeological Herit...   \n",
       "\n",
       "                                    ORG_Entities_xlm  \\\n",
       "0  [Komitetu Nauk Weterynaryjnych i Rozrodu Zwier...   \n",
       "1  [Królewskie Towarzystwo Ochrony Ptaków, Zakład...   \n",
       "2                                                 []   \n",
       "3                                     [WSPiA, WSPiA]   \n",
       "4  [Inter, Archaeological Heritage Office of Saxo...   \n",
       "\n",
       "                                     Common_entities  \\\n",
       "0  [Rady Doradczej, Facebook, Scientific Reports,...   \n",
       "1       [Królewskie Towarzystwo Ochrony Ptaków, UAM]   \n",
       "2                                                 []   \n",
       "3                                            [WSPiA]   \n",
       "4  [Cultural Heritage Department, Archaeological ...   \n",
       "\n",
       "                                   Stanza_unique_row  \\\n",
       "0  [Rady Doradczej, Zespołu, Uniwersytet, Faceboo...   \n",
       "1  [Komitetu Biologii Środowiskowej i Ewolucyjnej...   \n",
       "2                                         [ETW, MŚP]   \n",
       "3                         [4 Zespoły, WSPiA, AP, ZK]   \n",
       "4  [Province of Trento, VR, Urzędu Miasta Pucka, ...   \n",
       "\n",
       "                                   Davlan_unique_row  \n",
       "0  [Rady Doradczej, Facebook, Scientific Reports,...  \n",
       "1  [Królewskie Towarzystwo Ochrony Ptaków, „Grupa...  \n",
       "2                                                 []  \n",
       "3                                            [WSPiA]  \n",
       "4  [Cultural Heritage Department, Inter, Archaeol...  "
      ]
     },
     "execution_count": 14,
     "metadata": {},
     "output_type": "execute_result"
    }
   ],
   "source": [
    "ner_pl_comp.head()"
   ]
  },
  {
   "cell_type": "code",
   "execution_count": 15,
   "id": "a5b7b4c0-d09c-4de6-874d-793a6d400fc4",
   "metadata": {},
   "outputs": [
    {
     "name": "stdout",
     "output_type": "stream",
     "text": [
      "Stanza all entities: 35642\n",
      "Stanza unique per row: 25714\n",
      "Davlan all entities: 17554\n",
      "Davlan unique per row: 14080\n",
      "Common entities: 8803\n"
     ]
    }
   ],
   "source": [
    "# Calculate entities in each column:\n",
    "# Stanza_all = all entities extracted by the model (with duplicates within and across rows)\n",
    "# Stanza_unique_row = no duplicates within rows\n",
    "# Davlan_all_entities = all entities extracted by the model (with duplicates within and across rows)\n",
    "# Davlan_unique_row = = no duplicates within rows\n",
    "# Common_sum = entities extracted both by Stanza and Davlan (no duplicates)\n",
    "\n",
    "stanza_all = sum(ner_pl_comp[\"ORG_Entities_stanza\"].apply(lambda row: len(row)))\n",
    "stanza_unique_row = sum(ner_pl_comp[\"Stanza_unique_row\"].apply(lambda row: len(row)))\n",
    "davlan_sum = sum(ner_pl_comp[\"ORG_Entities_xlm\"].apply(lambda row: len(row)))\n",
    "davlan_unique_row = sum(ner_pl_comp[\"Davlan_unique_row\"].apply(lambda row: len(row)))\n",
    "common_sum = sum(ner_pl_comp[\"Common_entities\"].apply(lambda row: len(row)))\n",
    "\n",
    "print(f'Stanza all entities: {stanza_all}')\n",
    "print(f'Stanza unique per row: {stanza_unique_row}')\n",
    "print(f'Davlan all entities: {davlan_sum}')\n",
    "print(f'Davlan unique per row: {davlan_unique_row}')\n",
    "print(f'Common entities: {common_sum}')"
   ]
  },
  {
   "cell_type": "code",
   "execution_count": 16,
   "id": "c11f4ffc-2120-4040-b96a-fd5bf93b6287",
   "metadata": {},
   "outputs": [
    {
     "name": "stdout",
     "output_type": "stream",
     "text": [
      "28.405020812493948\n"
     ]
    }
   ],
   "source": [
    "# Calculate the overlap between Stanza and Davlan (Jaccard similarity percentage): \n",
    "# Jaccard Similarity = (Number of common elements) / (Number of unique elements in both sets)\n",
    "\n",
    "overlap_percent = 8803 / (25714 + 14080 - 8803) * 100\n",
    "print(overlap_percent)\n"
   ]
  },
  {
   "cell_type": "code",
   "execution_count": 17,
   "id": "eb791673-5301-4581-9824-c7c398a5d29f",
   "metadata": {},
   "outputs": [
    {
     "name": "stdout",
     "output_type": "stream",
     "text": [
      "Stanza:\n",
      "[('UE', 341), ('Unii Europejskiej', 167), ('Komisji Europejskiej', 105), ('Instytutu', 102), ('NCBiR', 61), ('Instytut', 60), ('ONZ', 57), ('UJ', 51), ('UW', 47), ('UNESCO', 47), ('unijnych', 46), ('Zespołu', 45), ('NFZ', 44), ('Uczelni', 43), ('GUS', 42), ('WHO', 40), ('Instytucie', 39), ('Rady Ministrów', 38), ('Facebook', 37), ('UMK', 37), ('KE', 36), ('Rady', 36), ('Parlamentu Europejskiego', 34), ('NATO', 32), ('UAM', 31), ('Komisję Europejską', 31), ('NCN', 30), ('UWr', 29), ('AGH', 29), ('OZE', 29), ('MŚP', 27), ('Komisja Europejska', 27), ('Muzeum', 27), ('UP', 27), ('OECD', 26), ('TVP', 26), ('PW', 26), ('UŁ', 26), ('B+R', 26), ('Polskiego Radia', 25), ('Wydziału', 25), ('SGGW', 25), ('PG', 25), ('Polonii', 24), ('NGO', 24), ('Policji', 24), ('MRiRW', 23), ('europejskiej', 23), ('Ministerstwa Zdrowia', 23), ('EU', 23)]\n",
      "Davlan:\n",
      "[('', 190), ('UE', 171), ('Instytut', 100), ('Unii Europejskiej', 64), ('Komisji Europejskiej', 56), ('In', 51), ('UJ', 35), ('WHO', 34), ('UW', 31), ('W', 31), ('EU', 29), ('ONZ', 28), ('D', 27), ('UNESCO', 27), ('UAM', 25), ('Uczelni', 23), ('YouTube', 23), ('AGH', 23), ('Komisję Europejską', 22), ('B+R', 22), ('KE', 21), ('UP', 21), ('GUS', 21), ('Instytutu', 21), ('UMK', 20), ('UŁ', 20), ('NCBiR', 19), ('NFZ', 19), ('UWr', 19), ('Komisja Europejska', 18), ('Parlamentu Europejskiego', 18), ('Wydział', 18), ('SGGW', 18), ('S', 17), ('PW', 17), ('Minister', 17), ('Ministerstwo Zdrowia', 17), ('O', 17), ('RP', 16), ('Rady', 16), ('NATO', 16), ('Muzeum', 16), ('Kościoła', 15), ('Policji', 15), ('Twitter', 15), ('Ze', 14), ('Uniwersytetu Jagiellońskiego', 14), ('Sił Zbrojnych RP', 14), ('U', 14), ('Zakład', 14)]\n",
      "Stanza & Davlan:\n",
      "[('UE', 168), ('Unii Europejskiej', 62), ('Komisji Europejskiej', 54), ('Instytut', 39), ('UJ', 35), ('ONZ', 28), ('UW', 27), ('WHO', 26), ('UAM', 23), ('Komisję Europejską', 22), ('AGH', 22), ('UNESCO', 22), ('KE', 21), ('Uczelni', 20), ('GUS', 20), ('NCBiR', 19), ('NFZ', 19), ('UP', 19), ('UŁ', 19), ('Komisja Europejska', 18), ('UMK', 18), ('SGGW', 18), ('Instytutu', 18), ('PW', 17), ('UWr', 17), ('Ministerstwo Zdrowia', 17), ('NATO', 16), ('EU', 16), ('Policji', 15), ('Parlamentu Europejskiego', 15), ('Sił Zbrojnych RP', 14), ('Kościoła', 14), ('MRiRW', 13), ('Rady', 13), ('OECD', 13), ('Rady Ministrów', 13), ('PG', 12), ('UPWr', 12), ('JST', 12), ('UG', 12), ('UJD', 12), ('UKSW', 11), ('MZ', 11), ('UO', 11), ('UPP', 11), ('Facebook', 10), ('PWr', 10), ('ZUT', 10), ('UMCS', 10), ('UMP', 10)]\n"
     ]
    }
   ],
   "source": [
    "# Explore frequencies of entities\n",
    "\n",
    "stanza_flat_list = [entity for row in ner_pl_comp[\"Stanza_unique_row\"] for entity in row]\n",
    "stanza_freq = Counter(stanza_flat_list)\n",
    "print(\"Stanza:\")\n",
    "print(stanza_freq.most_common(50))\n",
    "\n",
    "davlan_flat_list = [entity for row in ner_pl_comp[\"Davlan_unique_row\"] for entity in row]\n",
    "davlan_freq = Counter(davlan_flat_list)\n",
    "print(\"Davlan:\")\n",
    "print(davlan_freq.most_common(50))\n",
    "\n",
    "both_flat_list = [entity for row in ner_pl_comp[\"Common_entities\"] for entity in row]\n",
    "both_freq = Counter(both_flat_list)\n",
    "print(\"Stanza & Davlan:\")\n",
    "print(both_freq.most_common(50))"
   ]
  },
  {
   "cell_type": "code",
   "execution_count": 18,
   "id": "6b5f8ff6-a44e-4aad-b561-1b15aa818e8f",
   "metadata": {},
   "outputs": [
    {
     "name": "stdout",
     "output_type": "stream",
     "text": [
      "Unique entities Stanza: 17988\n",
      "Unique entities Davlan: 9751\n",
      "Unique common entities: 6111\n",
      "Unique Stanza only: 11720\n",
      "Unique Davlan only: 3483\n"
     ]
    }
   ],
   "source": [
    "# Create a list of unique entities per model\n",
    "\n",
    "unique_stanza = list(set(stanza_flat_list))\n",
    "unique_davlan = list(set(davlan_flat_list))\n",
    "unique_common = list(set(both_flat_list))\n",
    "\n",
    "unique_stanza_only = list(set(stanza_flat_list) - set(davlan_flat_list))\n",
    "unique_davlan_only = list(set(davlan_flat_list) - set(stanza_flat_list))\n",
    "\n",
    "unique_stanza_count = len(unique_stanza)\n",
    "unique_davlan_count = len(unique_davlan)\n",
    "unique_common_count = len(unique_common)\n",
    "unique_stanza_only_count = len(unique_stanza_only)\n",
    "unique_davlan_only_count = len(unique_davlan_only)\n",
    "\n",
    "print(f'Unique entities Stanza: {unique_stanza_count}')\n",
    "print(f'Unique entities Davlan: {unique_davlan_count}')\n",
    "print(f'Unique common entities: {unique_common_count}')\n",
    "print(f'Unique Stanza only: {unique_stanza_only_count}')\n",
    "print(f'Unique Davlan only: {unique_davlan_only_count}')"
   ]
  },
  {
   "cell_type": "code",
   "execution_count": 22,
   "id": "62fb6d8e-875b-4d91-a4d3-ed9495935189",
   "metadata": {
    "scrolled": true
   },
   "outputs": [
    {
     "name": "stdout",
     "output_type": "stream",
     "text": [
      "['JZW KOKS', 'Nowotarski & Weron', 'Polskiemu Radiu Pomorza i Kujaw', 'Royal College of Music', 'Arida/Zeszuta', 'Wojewodę K-P', 'Ośrodek IWRD', 'World Bank', 'PROTE Sp.', 'Akademia Kreatywnego Rozwoju', 'Zakładzie Asil Çelik', 'ISAM', 'Damovo', 'Innowatora Śląska', 'Montessori Europe Research Group', 'Polskiego Towarzystwa Filozoficznego', 'Euroregionu Karpackiego', 'FlavorActiv', 'SPOZ 1 w Lublinie', 'Harvard University Press', 'CFA Society Switzerland', 'Muzeum Zachęta w Warszawie', 'Prywatna Klinika VET-LAB Brudzew', 'NPBWP', 'Radzie Klimatycznej', 'Ltd.', 'Stowarzyszenie Inżynierów i Techników Pożarnictwa SITP', 'Spółka z o.o.', 'Instytut Pedagogiki', 'Szkole Doktorskiej NŚT UZ', 'GlobeCore', 'Zrzeszenia Kaszubsko-Pomorskiego', 'NMSG', 'Pełnomocnikiem Rządu ds. Partnerstwa Strategicznego Polski i Ukrainy', 'Radiu TOK FM', 'Stowarzyszeniem Związek Miast Polskich', 'JIABEL BILINGUAL EDUCATION CENTER', 'Edipresse Polska', 'Teatr Witkacego', 'muzeum Historii Akademii Ostrogskiej', '„Bel Canto”', 'Hardkon Larpers Retreat', 'Uniwersytetem Mendela w Brnie', 'Komitetu Nauki o Żywieniu Człowieka Polskiej Akademii Nauk', 'Geoparku Małopolski', 'Miejskiego Obszaru Funkcjonalnego', 'HPT', 'Ukraińskie Towarzystwo Historyczne', 'Departamentu Administracji Publicznej MSWiA', 'Zarządu Tomaszowskie Forum Gospodarcze', 'Pure Biologics S.A.', 'GAMOV', 'Cerevisia Alba Cracoviensis', 'Europejskim Centrum Spraw Pracowniczych - EZA', 'Europejskiego Centrum Referencyjnego ds. Dobrostanu Zwierząt', 'Biobanków Polskich', 'Polskiej Fundacji CCHS „Zdejmij Klątwę”', 'SDP', 'Naczelna Rada Pielęgniarek i Położnych', 'Dada Communications', 'ATRIP', 'Rady Bezpieczeństwa ONZ', 'Regionalne Dyrekcje Ochrony Środowiska we Wrocławiu', 'Urząd Gminy w Czernichowie', 'Związku Ukraińców', 'SONTE Poland', 'Wydział Biotechnologii i Nauk o Żywności', 'Biura Prewencji KGP', 'Heidelberg Cement SA', 'Kaminski MF', 'Wyższej Szkole Humanitas', 'Intergraph', 'Głównym Konserwatorem Przyrody', 'SECURE', 'Komitet Doradczy ds. Europejskiej Ramy Kwalifikacji', 'Uniwersytetowi Katolickiemu we Lwowie', 'Uniw.', 'CIS', 'Dom Rosyjskiej Zagranicy im. A.', 'Nadgoplański Uniwersytet Ludowy w Kruszwicy', 'Spółka Colchem', 'University of Bath', 'Zielonego Ładu UE', '„Gazeta Wyborcza”', 'Polskich Chirurgów', 'AA', 'TF Kable', 'Lubelski Uniwersytet Inspiracji', 'EIFAAC', 'Politechniki w Akwizgranie', 'Europejska Agencja ds. Leków', 'Stowarzyszenia Dziennikarzy Polskich', 'IX LO we Wrocławiu', 'Akademia Górniczo-Hutnicza w Krakowie', 'JNU', 'Akademii Osobistego Rozwoju', 'Wojewódzką Strategię w Zakresie Pomocy Społecznej 2020', 'Facebook Zakładu Biologii i Ekologii Ptaków UAM', 'InterBiomed_PW', 'Fundacja im. K. Pułaskiego', 'Wojewodom']\n"
     ]
    }
   ],
   "source": [
    "print(unique_stanza_only[0:101])"
   ]
  },
  {
   "cell_type": "markdown",
   "id": "d4585b73-e2aa-4fe3-a98c-04179993267d",
   "metadata": {},
   "source": [
    "# Cleaning and preprocessing the data: unique_common"
   ]
  },
  {
   "cell_type": "markdown",
   "id": "50bfce6b-0bd9-4eb7-8473-1c14c2c99d6b",
   "metadata": {},
   "source": [
    "## STEP 1: Basic cleaning "
   ]
  },
  {
   "cell_type": "code",
   "execution_count": 25,
   "id": "00205dca-3580-4b75-8bdd-42eaa0ef862e",
   "metadata": {
    "scrolled": true
   },
   "outputs": [
    {
     "data": {
      "text/plain": [
       "6005"
      ]
     },
     "execution_count": 25,
     "metadata": {},
     "output_type": "execute_result"
    }
   ],
   "source": [
    "\n",
    "cleaned_entities = []\n",
    "\n",
    "# Basic cleaning: whitespace, removing redundant entries\n",
    "for entity in unique_common:\n",
    "\n",
    "    # Normalize whitespace (substitutes more than 1 spaces with 1, strips leading/ trailing whitespace)\n",
    "    entity = re.sub(r'\\s+', ' ', entity).strip()\n",
    "\n",
    "    # Remove leading non-word characters\n",
    "    entity = re.sub(r'^[^\\w]+', '', entity)\n",
    "\n",
    "    # Remove trailing punctuation except periods\n",
    "    entity = re.sub(r'[^\\w.]+$', '', entity)\n",
    "\n",
    "    # Remove entries with less than 3 characters\n",
    "    if len(entity) < 3:\n",
    "        continue\n",
    "\n",
    "    cleaned_entities.append(entity)\n",
    "\n",
    "len(cleaned_entities)"
   ]
  },
  {
   "cell_type": "code",
   "execution_count": 26,
   "id": "46b61b41-f043-40cf-93a5-a728ac159383",
   "metadata": {
    "scrolled": true
   },
   "outputs": [
    {
     "name": "stdout",
     "output_type": "stream",
     "text": [
      "['WNH', 'Organu Doradczego Zarządu PZSN', 'ICM', 'HeidelbergCement AG', 'The Washington Post', 'Grupy Badawczej Prawa Usług Cyfrowych', 'Talmex', 'Singer Instruments', 'INT UP', 'Centrum Studiów Ratzingera', 'ZUGIL S.A.', 'Polskiego Związku Łowickiego', 'Zakładu Energetycznego w Łomży', 'PPNT', 'Komitetu Standardów Rachunkowości', 'Uniwersytetu SWPS', 'Research & Development et Nokia Wroclaw', 'LAŚ', 'Kaufland', 'Car Cosmetics', 'Akademickim Chórem UMCS', 'Polskiego Towarzystwa Ginekologicznego', 'Polska Spółka Gazownictwa', 'GALOIS', 'Narodowego Funduszu Rewaloryzacji Zabytków Krakowa', 'GIK', 'Stanford University', 'ZG Związku Sybiraków', 'Komitecie Językoznawstwa PAN', 'Jewish Journal', 'Pracowni Badań nad Bezpieczeństwem Lokalnym', 'Głównym Inspektoratem Weterynarii', 'Krajowej Administracji Skarbowej', 'Dowództwach Strategicznych NATO', 'Ekombud', 'European Food Safety Authority', 'Wojsk Obrony Cyberprzestrzeni', 'Muzeum Narodowe', 'Żabka', 'Głównego Lekarza Weterynarii', 'Rossman', 'Katedry Nauk o Bezpieczeństwie', 'Modelowania i Projektowania Inteligentnych Technologii Asystujących', 'Ogólnopolskiego Porozumienia Związków Zawodowych', 'Laboratorium Papieru UAP', 'Kazachskiego Urzędu Statystycznego', 'Instytutu Historii UŚ', 'Zarządu Głównego Polskiego Towarzystwa Nauk Żywieniowych', 'BIOWET Puławy sp. z o.o.', 'ESPON', 'Centrum Badawczo-Produkcyjnego ALCOR', 'NEC', 'Kliniki Psychiatrii SPSK nr 1 PUM', 'WBiHZ', 'Teatr Pieśń Kozła', 'PARPA', 'Katedry Mikrobiologii UEK', 'UZF', 'Namangan Engineering Pedagogical Institute', 'WM PB', 'FŁT', 'PureVent', 'DEZOSAN', 'Kwintet Dęty NOSPR', 'Sigma-Aldrich', 'Europejskiego Urzędu Patentowego', 'Kriosystem', 'BIPM', 'Uniwersytetu III Wieku', 'HAMKARI', 'Akademia Programowania UMCS', 'OSRAM', 'Uczelni', 'Narodowy Instytut Samorządu Terytorialnego', 'Katedrze Warzywnictwa UPP', 'Plasan', 'INoPiB USz', 'Biovico', 'ASEAN', 'PhoCa', 'CCB', 'Konsorcjum Podmiotów Kluczowych Technologii Drzewnych i Leśnych', 'Ding B.', 'PIT-RADWAR SA', 'Komisję UE', 'Inspekcja Jakości Handlowej Artykułów Rolno-Spożywczych', 'Nano Prime', 'IRZBZ PAN', 'Wydawnictwie Scholar', 'BHH Mikromed', 'Grupa Wyszehradzka', 'Balinta', 'Kolegium Redakcyjnego', 'Institute of Development Studies', 'Fundacja La Strada', 'SM Hel', 'OPZiSD', 'Sekretariat Konwencji Karpackiej', 'CeNTE', 'Komitetów Technicznych RILEM CMS', 'Instytucie Badań Edukacyjnych']\n"
     ]
    }
   ],
   "source": [
    "print(cleaned_entities[0:101])"
   ]
  },
  {
   "cell_type": "markdown",
   "id": "7492e8bb-7a6d-4b3a-a5ea-8a0b94f23e25",
   "metadata": {},
   "source": [
    "## STEP 2: Filter out academia entities"
   ]
  },
  {
   "cell_type": "code",
   "execution_count": 27,
   "id": "9615b89c-7527-435f-8c84-b026d4e77efa",
   "metadata": {},
   "outputs": [],
   "source": [
    "# Define academic-related keywords \n",
    "\n",
    "## Generate most frequently occuring keywords\n",
    "\n",
    "## Tokenize all entries into lowercase words\n",
    "tokens = []\n",
    "\n",
    "for entry in cleaned_entities:\n",
    "    tokens.extend(re.findall(r'\\b\\w+\\b', entry.lower()))\n",
    "\n",
    "# Count most common tokens\n",
    "token_counts = Counter(tokens)\n",
    "common_tokens = token_counts.most_common(500)\n",
    "\n",
    "# Display for review\n",
    "academic_candidate_keywords = pd.DataFrame(common_tokens, columns = [\"token\", \"count\"])\n",
    "academic_candidate_keywords.to_csv(\"tokens_review.csv\", index=False)\n",
    "\n",
    "\n",
    "    "
   ]
  },
  {
   "cell_type": "code",
   "execution_count": 28,
   "id": "5d058142-18b5-49cd-943e-128f81f9e4ca",
   "metadata": {},
   "outputs": [],
   "source": [
    "# Create a list of stemmed keywords indicating academic entities\n",
    "\n",
    "academic_keywords = [\n",
    "    'instytut', 'pan', 'university', 'nauk', 'uniwersytet', 'wydział', 'wydzial', 'department', 'badań', 'akadem', \n",
    "    'katedr', 'politechni', 'laboratorium', 'research', 'institut', 'fizy', 'matematy', \n",
    "    'architektur', 'pracown', 'pedagogi', 'filozof', 'medycyn', 'medyczn', 'medical', 'językoznawstwo', \n",
    "    'mickiewicz', 'biolog', 'studia', 'uczeln', 'kolegium', 'collegium', 'studium', 'colleg', 'universit', \n",
    "    'wyższ', 'journal', 'springer', 'doktor']"
   ]
  },
  {
   "cell_type": "code",
   "execution_count": 16,
   "id": "27448037-47cc-4b65-983f-38ab09281618",
   "metadata": {},
   "outputs": [],
   "source": [
    "# Define function to return academic entities\n",
    "\n",
    "def is_academic(entity, keywords):\n",
    "    \"\"\"\n",
    "    Determines whether a given entity likely represents an academic institution \n",
    "    by checking for the presence of predefined keywords.\n",
    "\n",
    "    Parameters:\n",
    "        entity (str): The name of the organization or entity to check.\n",
    "        keywords (list of str): A list of lowercase keywords associated with academic institutions (academic_keywords)\n",
    "                                (e.g., \"university\", \"institute\", \"academy\").\n",
    "\n",
    "    Returns:\n",
    "        bool: True if any keyword is found in the entity name (case-insensitive), False otherwise.\n",
    "    \"\"\"\n",
    "    entity_lower = entity.lower()\n",
    "    return any(keyword in entity_lower for keyword in keywords)"
   ]
  },
  {
   "cell_type": "code",
   "execution_count": 32,
   "id": "4c35a427-bd51-4d56-9aee-eee31deaf3ca",
   "metadata": {
    "scrolled": true
   },
   "outputs": [
    {
     "name": "stdout",
     "output_type": "stream",
     "text": [
      "['WNH', 'Organu Doradczego Zarządu PZSN', 'ICM', 'HeidelbergCement AG', 'The Washington Post', 'Grupy Badawczej Prawa Usług Cyfrowych', 'Talmex', 'Singer Instruments', 'INT UP', 'Centrum Studiów Ratzingera', 'ZUGIL S.A.', 'Polskiego Związku Łowickiego', 'Zakładu Energetycznego w Łomży', 'PPNT', 'Komitetu Standardów Rachunkowości', 'LAŚ', 'Kaufland', 'Car Cosmetics', 'Polskiego Towarzystwa Ginekologicznego', 'Polska Spółka Gazownictwa', 'GALOIS', 'Narodowego Funduszu Rewaloryzacji Zabytków Krakowa', 'GIK', 'ZG Związku Sybiraków', 'Głównym Inspektoratem Weterynarii', 'Krajowej Administracji Skarbowej', 'Dowództwach Strategicznych NATO', 'Ekombud', 'European Food Safety Authority', 'Wojsk Obrony Cyberprzestrzeni', 'Muzeum Narodowe', 'Żabka', 'Głównego Lekarza Weterynarii', 'Rossman', 'Modelowania i Projektowania Inteligentnych Technologii Asystujących', 'Ogólnopolskiego Porozumienia Związków Zawodowych', 'Kazachskiego Urzędu Statystycznego', 'BIOWET Puławy sp. z o.o.', 'ESPON', 'Centrum Badawczo-Produkcyjnego ALCOR', 'NEC', 'Kliniki Psychiatrii SPSK nr 1 PUM', 'WBiHZ', 'Teatr Pieśń Kozła', 'PARPA', 'UZF', 'WM PB', 'FŁT', 'PureVent', 'DEZOSAN', 'Kwintet Dęty NOSPR', 'Sigma-Aldrich', 'Europejskiego Urzędu Patentowego', 'Kriosystem', 'BIPM', 'HAMKARI', 'OSRAM', 'Plasan', 'INoPiB USz', 'Biovico', 'ASEAN', 'PhoCa', 'CCB', 'Konsorcjum Podmiotów Kluczowych Technologii Drzewnych i Leśnych', 'Ding B.', 'PIT-RADWAR SA', 'Komisję UE', 'Inspekcja Jakości Handlowej Artykułów Rolno-Spożywczych', 'Nano Prime', 'Wydawnictwie Scholar', 'BHH Mikromed', 'Grupa Wyszehradzka', 'Balinta', 'Fundacja La Strada', 'SM Hel', 'OPZiSD', 'Sekretariat Konwencji Karpackiej', 'CeNTE', 'Komitetów Technicznych RILEM CMS', 'IRF', 'EMES', 'EZRA UKSW', 'Krajowe Biuro ds. Przeciwdziałania Narkomanii', 'TRB”R', 'KSB Grinding Expertise', 'Kancelaria Prezesa Rady Ministrów', 'MakoLab S.A.', 'Science Advances', 'Lexicon', 'Dyrekcja Generalna ds. Zatrudnienia, Spraw Społecznych i Włączenia Społecznego', 'Archaeology', 'Winnicą Pałacu Rajkowo Sp. z o.o.', 'Consociatio Internationalis Studio Iuris Canonici Promovendo', 'PGE GiEK S.A.', 'Grupę Azoty', 'Szpitala Uniwersyteckiego', 'Policję', 'Międzynarodową Organizację Dna Morskiego', 'CBBPE', 'Towarzystwo Bambrów Poznańskich', 'Zespołu Szkół']\n"
     ]
    }
   ],
   "source": [
    "# Apply function to cleaned_entities\n",
    "\n",
    "non_academic_entities = [entity for entity in cleaned_entities \n",
    "                        if not is_academic(entity, academic_keywords)]\n",
    "print(non_academic_entities[0:101])"
   ]
  },
  {
   "cell_type": "code",
   "execution_count": 33,
   "id": "803e3a55-835c-4aaa-b8c8-21d298d6e9bf",
   "metadata": {
    "scrolled": true
   },
   "outputs": [
    {
     "name": "stdout",
     "output_type": "stream",
     "text": [
      "1238\n"
     ]
    }
   ],
   "source": [
    "# Preview what you're removing (sanity checking the filter)\n",
    "\n",
    "academic_entities = [name for name in cleaned_entities if is_academic(name, academic_keywords)]\n",
    "\n",
    "print(len(academic_entities))"
   ]
  },
  {
   "cell_type": "markdown",
   "id": "b5f4c568-63e4-4adb-852d-6b95a94bb0d9",
   "metadata": {},
   "source": [
    "## STEP 3: Categorize data"
   ]
  },
  {
   "cell_type": "code",
   "execution_count": 34,
   "id": "3922ff36-4386-4cbc-b080-58a826f9a9a1",
   "metadata": {},
   "outputs": [
    {
     "data": {
      "text/plain": [
       "'\\nTo classify non-academic entities identified in the impact case studies, I developed a typology of organization \\ntypes based on a grounded, inductive review process. Specifically, I randomly selected a sample of approximately 1,000 \\nunique non-academic organization names from the full list of 4,735 deduplicated entities. This sample served as an \\nexploratory base for developing an inductive typology. By reviewing the selected entries, I identified recurring \\norganizational patterns and formulated a set of categories that reflect the functional diversity of non-academic \\nstakeholders mentioned in the case studies.\\n'"
      ]
     },
     "execution_count": 34,
     "metadata": {},
     "output_type": "execute_result"
    }
   ],
   "source": [
    "# Establish categories of non-academic entities\n",
    "\n",
    "\"\"\"\n",
    "To classify non-academic entities identified in the impact case studies, I developed a typology of organization \n",
    "types based on a grounded, inductive review process. Specifically, I randomly selected a sample of approximately 1,000 \n",
    "unique non-academic organization names from the full list of 4,735 deduplicated entities. This sample served as an \n",
    "exploratory base for developing an inductive typology. By manually reviewing the selected entries, I identified recurring \n",
    "organizational patterns and formulated a set of categories that reflect the functional diversity of non-academic \n",
    "stakeholders mentioned in the case studies.\n",
    "\"\"\"\n",
    "\n",
    "\n"
   ]
  },
  {
   "cell_type": "code",
   "execution_count": 35,
   "id": "ee00793f-d38a-4f62-b4e1-531444f6ab0a",
   "metadata": {},
   "outputs": [],
   "source": [
    "# Create a random sample of 1000 entities\n",
    "\n",
    "# Set seed for reproducubility\n",
    "random.seed(42)\n",
    "\n",
    "# Randomly sample 1,000 entires form non-academic entities list\n",
    "sample_size = 1000\n",
    "non_academic_sampled = random.sample(non_academic_entities, sample_size)\n",
    "\n",
    "# Convert to DataFrame for review\n",
    "non_academic_sampled_df = pd.DataFrame(non_academic_sampled, columns=[\"organization_name\"])\n",
    "non_academic_sampled_df.to_csv(\"non_academic_sampled.csv\", index=False, encoding=\"utf-8-sig\")\n"
   ]
  },
  {
   "cell_type": "code",
   "execution_count": 47,
   "id": "1139345a-51e0-4aff-a486-39c13a0eea31",
   "metadata": {
    "scrolled": true
   },
   "outputs": [
    {
     "data": {
      "text/plain": [
       "'\\n1. Company / Business\\nCommercial enterprises, corporations, startups, and private firms (e.g., Kaufland, KGHM ZANAM, Voicelab, Photon).\\n\\n2. Government / Public Administration\\nIncludes ministries, central/local government agencies, parliament, and other state entities (e.g., Senat RP, Urząd Miasta, Ministerstwo Rozwoju).\\n\\n3. NGO / Association / Foundation\\nNon-profit organizations, foundations, professional associations, and social initiatives (e.g., Fundacja La Strada, Polskie Towarzystwo Psychologiczne, Stowarzyszenie Wioska Gotów).\\n\\n4. Media / Publishing\\nNews outlets, broadcasters, publishers, and cultural magazines (e.g., Polskie Radio, TVP Info, Deutsche Welle, Gazeta Lubuska).\\n\\n5. Cultural Institution / Arts\\nMuseums, theatres, orchestras, festivals, galleries (e.g., Teatr Wielki, Muzeum Historii Polski, Galeria Arsenał).\\n\\n6. Health / Hospitals / Medical\\nClinics, hospitals, medical institutes, and health-related organizations (e.g., Centrum Zdrowia Szansa, NFZ, American Heart Association).\\n\\n7. Religious Organization\\nChurches, dioceses, religious associations, and theological institutions (e.g., Kościół Katolicki, Episkopat Polski, Cerkiew).\\n\\n8. Military / Defense / Security\\nArmed forces, police, defense industry, or military R&D (e.g., Wojsko Polskie, Żandarmeria Wojskowa, Lockheed Martin).\\n\\n9. International Organization / EU\\nUN, EU, NATO, OECD, international consortia or partnerships (e.g., European Commission, UNESCO, OECD).\\n\\n10. Education (non-university)\\nIncludes schools, kindergartens, vocational schools, continuing education centers (e.g., Szkoła Podstawowa, Centrum Kształcenia Ustawicznego).\\n\\n11. Other / Unclear\\nAnything that doesn’t clearly fall into the above categories or needs human validation.\\n\\n'"
      ]
     },
     "execution_count": 47,
     "metadata": {},
     "output_type": "execute_result"
    }
   ],
   "source": [
    "# Establish categories of non-academic entities\n",
    "\n",
    "\"\"\"\n",
    "1. Company / Business\n",
    "Commercial enterprises, corporations, startups, and private firms (e.g., Kaufland, KGHM ZANAM, Voicelab, Photon).\n",
    "\n",
    "2. Government / Public Administration\n",
    "Includes ministries, central/local government agencies, parliament, and other state entities (e.g., Senat RP, Urząd Miasta, Ministerstwo Rozwoju).\n",
    "\n",
    "3. NGO / Association / Foundation\n",
    "Non-profit organizations, foundations, professional associations, and social initiatives (e.g., Fundacja La Strada, Polskie Towarzystwo Psychologiczne, Stowarzyszenie Wioska Gotów).\n",
    "\n",
    "4. Media / Publishing\n",
    "News outlets, broadcasters, publishers, and cultural magazines (e.g., Polskie Radio, TVP Info, Deutsche Welle, Gazeta Lubuska).\n",
    "\n",
    "5. Cultural Institution / Arts\n",
    "Museums, theatres, orchestras, festivals, galleries (e.g., Teatr Wielki, Muzeum Historii Polski, Galeria Arsenał).\n",
    "\n",
    "6. Health / Hospitals / Medical\n",
    "Clinics, hospitals, medical institutes, and health-related organizations (e.g., Centrum Zdrowia Szansa, NFZ, American Heart Association).\n",
    "\n",
    "7. Religious Organization\n",
    "Churches, dioceses, religious associations, and theological institutions (e.g., Kościół Katolicki, Episkopat Polski, Cerkiew).\n",
    "\n",
    "8. Military / Defense / Security\n",
    "Armed forces, police, defense industry, or military R&D (e.g., Wojsko Polskie, Żandarmeria Wojskowa, Lockheed Martin).\n",
    "\n",
    "9. International Organization / EU\n",
    "UN, EU, NATO, OECD, international consortia or partnerships (e.g., European Commission, UNESCO, OECD).\n",
    "\n",
    "10. Education (non-university)\n",
    "Includes schools, kindergartens, vocational schools, continuing education centers (e.g., Szkoła Podstawowa, Centrum Kształcenia Ustawicznego).\n",
    "\n",
    "11. Other / Unclear\n",
    "Anything that doesn’t clearly fall into the above categories or needs human validation.\n",
    "\n",
    "\"\"\""
   ]
  },
  {
   "cell_type": "code",
   "execution_count": null,
   "id": "5747cb45-8d12-4d95-9fca-08eaef3835e6",
   "metadata": {},
   "outputs": [],
   "source": []
  }
 ],
 "metadata": {
  "kernelspec": {
   "display_name": "Python 3 (ipykernel)",
   "language": "python",
   "name": "python3"
  },
  "language_info": {
   "codemirror_mode": {
    "name": "ipython",
    "version": 3
   },
   "file_extension": ".py",
   "mimetype": "text/x-python",
   "name": "python",
   "nbconvert_exporter": "python",
   "pygments_lexer": "ipython3",
   "version": "3.12.5"
  }
 },
 "nbformat": 4,
 "nbformat_minor": 5
}

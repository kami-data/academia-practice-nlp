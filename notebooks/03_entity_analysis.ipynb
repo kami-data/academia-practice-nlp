{
 "cells": [
  {
   "cell_type": "markdown",
   "id": "ab02459e-4854-41b6-9d55-6367fa006d9e",
   "metadata": {},
   "source": [
    "# Academia–Practice Interaction Mapping Using NLP\n",
    "\n",
    "**Notebook 03: Exploratory Data Analysis (EDA)**\n",
    "\n",
    "**Author:** Kamila Lewandowska  \n",
    "**Project Status:** *In Progress*  \n",
    "**Last Updated:** April 2025  \n",
    "\n",
    "---\n",
    "\n",
    "### Notebook Overview\n",
    "\n",
    "This notebook assumes that data cleaning and NER extraction have already been completed.  \n",
    "It performs comparison, overlap analysis, and exploratory stats to understand similarities and differences in outputs between the two models.\n",
    "\n",
    "---\n",
    "\n",
    "### File Overview\n",
    "\n",
    "**Focus:** Compare named entities of type `ORG` extracted using two NLP models:  \n",
    "- Stanza (rule-based, Polish language)\n",
    "- XLM-RoBERTa (transformer-based multilingual model from HuggingFace)\n",
    "\n",
    "\n",
    "---\n"
   ]
  },
  {
   "cell_type": "markdown",
   "id": "54e22bec-93e2-43c5-916c-b968d79f07c2",
   "metadata": {},
   "source": [
    "# EDA: Compare entities from both models"
   ]
  },
  {
   "cell_type": "code",
   "execution_count": 19,
   "id": "77697511-19a4-4d02-a85e-b0b8ed0502ca",
   "metadata": {},
   "outputs": [],
   "source": [
    "import pandas as pd\n",
    "from ast import literal_eval\n",
    "from collections import Counter\n",
    "\n",
    "# Load previously extracted NER results\n",
    "stanza_pl = pd.read_csv(\"../output/ner_stanza_pl.csv\")\n",
    "davlan_pl = pd.read_csv(\"../output/ner_davlan_pl.csv\")"
   ]
  },
  {
   "cell_type": "code",
   "execution_count": 4,
   "id": "f058aab5-b863-4891-9b12-5b17321c2f39",
   "metadata": {},
   "outputs": [],
   "source": [
    "# Create a dataframe for comparison \n",
    "\n",
    "ner_pl_comp = pd.merge(stanza_pl, davlan_pl, on = [\"Text\", \"ICS_ID\"], how=\"inner\")\n"
   ]
  },
  {
   "cell_type": "code",
   "execution_count": 5,
   "id": "057ce0e8-67f6-41ba-a1f4-e079af1f53e2",
   "metadata": {},
   "outputs": [],
   "source": [
    "# Change the order of columns\n",
    "\n",
    "ner_pl_comp = ner_pl_comp[['ICS_ID', 'Text', 'ORG_Entities_stanza', 'ORG_Entities_xlm']]"
   ]
  },
  {
   "cell_type": "code",
   "execution_count": 6,
   "id": "6ce5dbf9-8b91-427e-9824-9143857b12f3",
   "metadata": {},
   "outputs": [
    {
     "data": {
      "text/plain": [
       "Index(['ICS_ID', 'Text', 'ORG_Entities_stanza', 'ORG_Entities_xlm'], dtype='object')"
      ]
     },
     "execution_count": 6,
     "metadata": {},
     "output_type": "execute_result"
    }
   ],
   "source": [
    "ner_pl_comp.columns"
   ]
  },
  {
   "cell_type": "code",
   "execution_count": 7,
   "id": "c236f46c-f54a-440c-9631-42830affb5ec",
   "metadata": {},
   "outputs": [
    {
     "data": {
      "text/html": [
       "<div>\n",
       "<style scoped>\n",
       "    .dataframe tbody tr th:only-of-type {\n",
       "        vertical-align: middle;\n",
       "    }\n",
       "\n",
       "    .dataframe tbody tr th {\n",
       "        vertical-align: top;\n",
       "    }\n",
       "\n",
       "    .dataframe thead th {\n",
       "        text-align: right;\n",
       "    }\n",
       "</style>\n",
       "<table border=\"1\" class=\"dataframe\">\n",
       "  <thead>\n",
       "    <tr style=\"text-align: right;\">\n",
       "      <th></th>\n",
       "      <th>ICS_ID</th>\n",
       "      <th>Text</th>\n",
       "      <th>ORG_Entities_stanza</th>\n",
       "      <th>ORG_Entities_xlm</th>\n",
       "    </tr>\n",
       "  </thead>\n",
       "  <tbody>\n",
       "    <tr>\n",
       "      <th>0</th>\n",
       "      <td>00153fbd-82f7-48c4-b5bd-e830bc390244</td>\n",
       "      <td>Badania skupiające się na szczegółowej analizi...</td>\n",
       "      <td>['Komitetu Nauk Weterynaryjnych i Rozrodu Zwie...</td>\n",
       "      <td>['Komitetu Nauk Weterynaryjnych i Rozrodu Zwie...</td>\n",
       "    </tr>\n",
       "    <tr>\n",
       "      <th>1</th>\n",
       "      <td>002768f1-8b96-4e0f-bcc8-192eb0594e60</td>\n",
       "      <td>Birdwatching, czyli obserwacje w terenie ptakó...</td>\n",
       "      <td>['Królewskie Towarzystwo Ochrony Ptaków', 'Fac...</td>\n",
       "      <td>['Królewskie Towarzystwo Ochrony Ptaków', 'Zak...</td>\n",
       "    </tr>\n",
       "    <tr>\n",
       "      <th>2</th>\n",
       "      <td>00500483-f00c-4410-b6f7-8650a003125f</td>\n",
       "      <td>Efektywny transfer wiedzy jest podstawowym czy...</td>\n",
       "      <td>['MŚP', 'MŚP', 'ETW']</td>\n",
       "      <td>[]</td>\n",
       "    </tr>\n",
       "    <tr>\n",
       "      <th>3</th>\n",
       "      <td>006e7fef-2083-426d-9c1b-1affd27b939e</td>\n",
       "      <td>Ważnym obszarem działalności naukowej WSPiA je...</td>\n",
       "      <td>['WSPiA', 'AP', 'WSPiA', '4 Zespoły', 'AP', 'A...</td>\n",
       "      <td>['WSPiA', 'WSPiA']</td>\n",
       "    </tr>\n",
       "    <tr>\n",
       "      <th>4</th>\n",
       "      <td>00901439-d91a-48e0-903a-26a4253c3a0c</td>\n",
       "      <td>Znaczna część europejskiego dziedzictwa archeo...</td>\n",
       "      <td>['Interreg Central Europe', 'Archaeological He...</td>\n",
       "      <td>['Inter', 'Archaeological Heritage Office of S...</td>\n",
       "    </tr>\n",
       "  </tbody>\n",
       "</table>\n",
       "</div>"
      ],
      "text/plain": [
       "                                 ICS_ID  \\\n",
       "0  00153fbd-82f7-48c4-b5bd-e830bc390244   \n",
       "1  002768f1-8b96-4e0f-bcc8-192eb0594e60   \n",
       "2  00500483-f00c-4410-b6f7-8650a003125f   \n",
       "3  006e7fef-2083-426d-9c1b-1affd27b939e   \n",
       "4  00901439-d91a-48e0-903a-26a4253c3a0c   \n",
       "\n",
       "                                                Text  \\\n",
       "0  Badania skupiające się na szczegółowej analizi...   \n",
       "1  Birdwatching, czyli obserwacje w terenie ptakó...   \n",
       "2  Efektywny transfer wiedzy jest podstawowym czy...   \n",
       "3  Ważnym obszarem działalności naukowej WSPiA je...   \n",
       "4  Znaczna część europejskiego dziedzictwa archeo...   \n",
       "\n",
       "                                 ORG_Entities_stanza  \\\n",
       "0  ['Komitetu Nauk Weterynaryjnych i Rozrodu Zwie...   \n",
       "1  ['Królewskie Towarzystwo Ochrony Ptaków', 'Fac...   \n",
       "2                              ['MŚP', 'MŚP', 'ETW']   \n",
       "3  ['WSPiA', 'AP', 'WSPiA', '4 Zespoły', 'AP', 'A...   \n",
       "4  ['Interreg Central Europe', 'Archaeological He...   \n",
       "\n",
       "                                    ORG_Entities_xlm  \n",
       "0  ['Komitetu Nauk Weterynaryjnych i Rozrodu Zwie...  \n",
       "1  ['Królewskie Towarzystwo Ochrony Ptaków', 'Zak...  \n",
       "2                                                 []  \n",
       "3                                 ['WSPiA', 'WSPiA']  \n",
       "4  ['Inter', 'Archaeological Heritage Office of S...  "
      ]
     },
     "execution_count": 7,
     "metadata": {},
     "output_type": "execute_result"
    }
   ],
   "source": [
    "ner_pl_comp.head()"
   ]
  },
  {
   "cell_type": "code",
   "execution_count": 8,
   "id": "c7a0638f-45a7-4ccc-a6ef-cc59bef41f4e",
   "metadata": {},
   "outputs": [
    {
     "name": "stdout",
     "output_type": "stream",
     "text": [
      "<class 'str'>\n"
     ]
    }
   ],
   "source": [
    "# Checking the data type\n",
    "\n",
    "print(type(ner_pl_comp.iloc[0, 2]))"
   ]
  },
  {
   "cell_type": "code",
   "execution_count": 11,
   "id": "4787b9ad-da44-4a2a-a856-322bd9f38ba9",
   "metadata": {},
   "outputs": [],
   "source": [
    "# Converting columns with entity names into lists\n",
    "\n",
    "ner_pl_comp[[\"ORG_Entities_stanza\", \"ORG_Entities_xlm\"]] = ner_pl_comp[[\"ORG_Entities_stanza\", \"ORG_Entities_xlm\"]].apply(\n",
    "    lambda col: col.map(literal_eval))\n"
   ]
  },
  {
   "cell_type": "code",
   "execution_count": 12,
   "id": "d6f58721-14d7-42f2-8b2b-76e01e0cbef4",
   "metadata": {},
   "outputs": [],
   "source": [
    "# Create a column with entities detected by both models\n",
    "\n",
    "ner_pl_comp[\"Common_entities\"] = ner_pl_comp.apply(\n",
    "    lambda row: list(set(row[\"ORG_Entities_stanza\"]) & set(row[\"ORG_Entities_xlm\"])), axis=1\n",
    "                    )"
   ]
  },
  {
   "cell_type": "code",
   "execution_count": 13,
   "id": "d52adc89-9905-4b8a-9fd5-a3c24d002929",
   "metadata": {},
   "outputs": [
    {
     "data": {
      "text/html": [
       "<div>\n",
       "<style scoped>\n",
       "    .dataframe tbody tr th:only-of-type {\n",
       "        vertical-align: middle;\n",
       "    }\n",
       "\n",
       "    .dataframe tbody tr th {\n",
       "        vertical-align: top;\n",
       "    }\n",
       "\n",
       "    .dataframe thead th {\n",
       "        text-align: right;\n",
       "    }\n",
       "</style>\n",
       "<table border=\"1\" class=\"dataframe\">\n",
       "  <thead>\n",
       "    <tr style=\"text-align: right;\">\n",
       "      <th></th>\n",
       "      <th>ICS_ID</th>\n",
       "      <th>Text</th>\n",
       "      <th>ORG_Entities_stanza</th>\n",
       "      <th>ORG_Entities_xlm</th>\n",
       "      <th>Common_entities</th>\n",
       "    </tr>\n",
       "  </thead>\n",
       "  <tbody>\n",
       "    <tr>\n",
       "      <th>0</th>\n",
       "      <td>00153fbd-82f7-48c4-b5bd-e830bc390244</td>\n",
       "      <td>Badania skupiające się na szczegółowej analizi...</td>\n",
       "      <td>[Komitetu Nauk Weterynaryjnych i Rozrodu Zwier...</td>\n",
       "      <td>[Komitetu Nauk Weterynaryjnych i Rozrodu Zwier...</td>\n",
       "      <td>[ELSEVIER, Komitetu Nauk Weterynaryjnych i Roz...</td>\n",
       "    </tr>\n",
       "    <tr>\n",
       "      <th>1</th>\n",
       "      <td>002768f1-8b96-4e0f-bcc8-192eb0594e60</td>\n",
       "      <td>Birdwatching, czyli obserwacje w terenie ptakó...</td>\n",
       "      <td>[Królewskie Towarzystwo Ochrony Ptaków, Facebo...</td>\n",
       "      <td>[Królewskie Towarzystwo Ochrony Ptaków, Zakład...</td>\n",
       "      <td>[Królewskie Towarzystwo Ochrony Ptaków, UAM]</td>\n",
       "    </tr>\n",
       "    <tr>\n",
       "      <th>2</th>\n",
       "      <td>00500483-f00c-4410-b6f7-8650a003125f</td>\n",
       "      <td>Efektywny transfer wiedzy jest podstawowym czy...</td>\n",
       "      <td>[MŚP, MŚP, ETW]</td>\n",
       "      <td>[]</td>\n",
       "      <td>[]</td>\n",
       "    </tr>\n",
       "    <tr>\n",
       "      <th>3</th>\n",
       "      <td>006e7fef-2083-426d-9c1b-1affd27b939e</td>\n",
       "      <td>Ważnym obszarem działalności naukowej WSPiA je...</td>\n",
       "      <td>[WSPiA, AP, WSPiA, 4 Zespoły, AP, AP, ZK, ZK, ...</td>\n",
       "      <td>[WSPiA, WSPiA]</td>\n",
       "      <td>[WSPiA]</td>\n",
       "    </tr>\n",
       "    <tr>\n",
       "      <th>4</th>\n",
       "      <td>00901439-d91a-48e0-903a-26a4253c3a0c</td>\n",
       "      <td>Znaczna część europejskiego dziedzictwa archeo...</td>\n",
       "      <td>[Interreg Central Europe, Archaeological Herit...</td>\n",
       "      <td>[Inter, Archaeological Heritage Office of Saxo...</td>\n",
       "      <td>[Cultural Heritage Department, Archaeological ...</td>\n",
       "    </tr>\n",
       "  </tbody>\n",
       "</table>\n",
       "</div>"
      ],
      "text/plain": [
       "                                 ICS_ID  \\\n",
       "0  00153fbd-82f7-48c4-b5bd-e830bc390244   \n",
       "1  002768f1-8b96-4e0f-bcc8-192eb0594e60   \n",
       "2  00500483-f00c-4410-b6f7-8650a003125f   \n",
       "3  006e7fef-2083-426d-9c1b-1affd27b939e   \n",
       "4  00901439-d91a-48e0-903a-26a4253c3a0c   \n",
       "\n",
       "                                                Text  \\\n",
       "0  Badania skupiające się na szczegółowej analizi...   \n",
       "1  Birdwatching, czyli obserwacje w terenie ptakó...   \n",
       "2  Efektywny transfer wiedzy jest podstawowym czy...   \n",
       "3  Ważnym obszarem działalności naukowej WSPiA je...   \n",
       "4  Znaczna część europejskiego dziedzictwa archeo...   \n",
       "\n",
       "                                 ORG_Entities_stanza  \\\n",
       "0  [Komitetu Nauk Weterynaryjnych i Rozrodu Zwier...   \n",
       "1  [Królewskie Towarzystwo Ochrony Ptaków, Facebo...   \n",
       "2                                    [MŚP, MŚP, ETW]   \n",
       "3  [WSPiA, AP, WSPiA, 4 Zespoły, AP, AP, ZK, ZK, ...   \n",
       "4  [Interreg Central Europe, Archaeological Herit...   \n",
       "\n",
       "                                    ORG_Entities_xlm  \\\n",
       "0  [Komitetu Nauk Weterynaryjnych i Rozrodu Zwier...   \n",
       "1  [Królewskie Towarzystwo Ochrony Ptaków, Zakład...   \n",
       "2                                                 []   \n",
       "3                                     [WSPiA, WSPiA]   \n",
       "4  [Inter, Archaeological Heritage Office of Saxo...   \n",
       "\n",
       "                                     Common_entities  \n",
       "0  [ELSEVIER, Komitetu Nauk Weterynaryjnych i Roz...  \n",
       "1       [Królewskie Towarzystwo Ochrony Ptaków, UAM]  \n",
       "2                                                 []  \n",
       "3                                            [WSPiA]  \n",
       "4  [Cultural Heritage Department, Archaeological ...  "
      ]
     },
     "execution_count": 13,
     "metadata": {},
     "output_type": "execute_result"
    }
   ],
   "source": [
    "ner_pl_comp.head()"
   ]
  },
  {
   "cell_type": "code",
   "execution_count": 14,
   "id": "0ce84466-2fbc-4060-96d0-d30291fca04b",
   "metadata": {},
   "outputs": [],
   "source": [
    "# Create stanza and davlan columns with unique entities per row (entities can repeat across rows but not in the same row/ ics)\n",
    "\n",
    "ner_pl_comp[\"Stanza_unique_row\"] = ner_pl_comp[\"ORG_Entities_stanza\"].apply(lambda row: list(set(row)))\n",
    "ner_pl_comp[\"Davlan_unique_row\"] = ner_pl_comp[\"ORG_Entities_xlm\"].apply(lambda row: list(set(row)))\n"
   ]
  },
  {
   "cell_type": "code",
   "execution_count": 15,
   "id": "91e11eae-e5ba-480e-bfda-79168779586d",
   "metadata": {},
   "outputs": [
    {
     "data": {
      "text/html": [
       "<div>\n",
       "<style scoped>\n",
       "    .dataframe tbody tr th:only-of-type {\n",
       "        vertical-align: middle;\n",
       "    }\n",
       "\n",
       "    .dataframe tbody tr th {\n",
       "        vertical-align: top;\n",
       "    }\n",
       "\n",
       "    .dataframe thead th {\n",
       "        text-align: right;\n",
       "    }\n",
       "</style>\n",
       "<table border=\"1\" class=\"dataframe\">\n",
       "  <thead>\n",
       "    <tr style=\"text-align: right;\">\n",
       "      <th></th>\n",
       "      <th>ICS_ID</th>\n",
       "      <th>Text</th>\n",
       "      <th>ORG_Entities_stanza</th>\n",
       "      <th>ORG_Entities_xlm</th>\n",
       "      <th>Common_entities</th>\n",
       "      <th>Stanza_unique_row</th>\n",
       "      <th>Davlan_unique_row</th>\n",
       "    </tr>\n",
       "  </thead>\n",
       "  <tbody>\n",
       "    <tr>\n",
       "      <th>0</th>\n",
       "      <td>00153fbd-82f7-48c4-b5bd-e830bc390244</td>\n",
       "      <td>Badania skupiające się na szczegółowej analizi...</td>\n",
       "      <td>[Komitetu Nauk Weterynaryjnych i Rozrodu Zwier...</td>\n",
       "      <td>[Komitetu Nauk Weterynaryjnych i Rozrodu Zwier...</td>\n",
       "      <td>[ELSEVIER, Komitetu Nauk Weterynaryjnych i Roz...</td>\n",
       "      <td>[ELSEVIER, Katedry, Komitetu Nauk Weterynaryjn...</td>\n",
       "      <td>[ELSEVIER, Komitetu Nauk Weterynaryjnych i Roz...</td>\n",
       "    </tr>\n",
       "    <tr>\n",
       "      <th>1</th>\n",
       "      <td>002768f1-8b96-4e0f-bcc8-192eb0594e60</td>\n",
       "      <td>Birdwatching, czyli obserwacje w terenie ptakó...</td>\n",
       "      <td>[Królewskie Towarzystwo Ochrony Ptaków, Facebo...</td>\n",
       "      <td>[Królewskie Towarzystwo Ochrony Ptaków, Zakład...</td>\n",
       "      <td>[Królewskie Towarzystwo Ochrony Ptaków, UAM]</td>\n",
       "      <td>[Królewskie Towarzystwo Ochrony Ptaków, Region...</td>\n",
       "      <td>[Królewskie Towarzystwo Ochrony Ptaków, UAM, „...</td>\n",
       "    </tr>\n",
       "    <tr>\n",
       "      <th>2</th>\n",
       "      <td>00500483-f00c-4410-b6f7-8650a003125f</td>\n",
       "      <td>Efektywny transfer wiedzy jest podstawowym czy...</td>\n",
       "      <td>[MŚP, MŚP, ETW]</td>\n",
       "      <td>[]</td>\n",
       "      <td>[]</td>\n",
       "      <td>[MŚP, ETW]</td>\n",
       "      <td>[]</td>\n",
       "    </tr>\n",
       "    <tr>\n",
       "      <th>3</th>\n",
       "      <td>006e7fef-2083-426d-9c1b-1affd27b939e</td>\n",
       "      <td>Ważnym obszarem działalności naukowej WSPiA je...</td>\n",
       "      <td>[WSPiA, AP, WSPiA, 4 Zespoły, AP, AP, ZK, ZK, ...</td>\n",
       "      <td>[WSPiA, WSPiA]</td>\n",
       "      <td>[WSPiA]</td>\n",
       "      <td>[4 Zespoły, AP, WSPiA, ZK]</td>\n",
       "      <td>[WSPiA]</td>\n",
       "    </tr>\n",
       "    <tr>\n",
       "      <th>4</th>\n",
       "      <td>00901439-d91a-48e0-903a-26a4253c3a0c</td>\n",
       "      <td>Znaczna część europejskiego dziedzictwa archeo...</td>\n",
       "      <td>[Interreg Central Europe, Archaeological Herit...</td>\n",
       "      <td>[Inter, Archaeological Heritage Office of Saxo...</td>\n",
       "      <td>[Cultural Heritage Department, Archaeological ...</td>\n",
       "      <td>[Cultural Heritage Department, CMAS, UE, Urzęd...</td>\n",
       "      <td>[Cultural Heritage Department, Inter, Archaeol...</td>\n",
       "    </tr>\n",
       "  </tbody>\n",
       "</table>\n",
       "</div>"
      ],
      "text/plain": [
       "                                 ICS_ID  \\\n",
       "0  00153fbd-82f7-48c4-b5bd-e830bc390244   \n",
       "1  002768f1-8b96-4e0f-bcc8-192eb0594e60   \n",
       "2  00500483-f00c-4410-b6f7-8650a003125f   \n",
       "3  006e7fef-2083-426d-9c1b-1affd27b939e   \n",
       "4  00901439-d91a-48e0-903a-26a4253c3a0c   \n",
       "\n",
       "                                                Text  \\\n",
       "0  Badania skupiające się na szczegółowej analizi...   \n",
       "1  Birdwatching, czyli obserwacje w terenie ptakó...   \n",
       "2  Efektywny transfer wiedzy jest podstawowym czy...   \n",
       "3  Ważnym obszarem działalności naukowej WSPiA je...   \n",
       "4  Znaczna część europejskiego dziedzictwa archeo...   \n",
       "\n",
       "                                 ORG_Entities_stanza  \\\n",
       "0  [Komitetu Nauk Weterynaryjnych i Rozrodu Zwier...   \n",
       "1  [Królewskie Towarzystwo Ochrony Ptaków, Facebo...   \n",
       "2                                    [MŚP, MŚP, ETW]   \n",
       "3  [WSPiA, AP, WSPiA, 4 Zespoły, AP, AP, ZK, ZK, ...   \n",
       "4  [Interreg Central Europe, Archaeological Herit...   \n",
       "\n",
       "                                    ORG_Entities_xlm  \\\n",
       "0  [Komitetu Nauk Weterynaryjnych i Rozrodu Zwier...   \n",
       "1  [Królewskie Towarzystwo Ochrony Ptaków, Zakład...   \n",
       "2                                                 []   \n",
       "3                                     [WSPiA, WSPiA]   \n",
       "4  [Inter, Archaeological Heritage Office of Saxo...   \n",
       "\n",
       "                                     Common_entities  \\\n",
       "0  [ELSEVIER, Komitetu Nauk Weterynaryjnych i Roz...   \n",
       "1       [Królewskie Towarzystwo Ochrony Ptaków, UAM]   \n",
       "2                                                 []   \n",
       "3                                            [WSPiA]   \n",
       "4  [Cultural Heritage Department, Archaeological ...   \n",
       "\n",
       "                                   Stanza_unique_row  \\\n",
       "0  [ELSEVIER, Katedry, Komitetu Nauk Weterynaryjn...   \n",
       "1  [Królewskie Towarzystwo Ochrony Ptaków, Region...   \n",
       "2                                         [MŚP, ETW]   \n",
       "3                         [4 Zespoły, AP, WSPiA, ZK]   \n",
       "4  [Cultural Heritage Department, CMAS, UE, Urzęd...   \n",
       "\n",
       "                                   Davlan_unique_row  \n",
       "0  [ELSEVIER, Komitetu Nauk Weterynaryjnych i Roz...  \n",
       "1  [Królewskie Towarzystwo Ochrony Ptaków, UAM, „...  \n",
       "2                                                 []  \n",
       "3                                            [WSPiA]  \n",
       "4  [Cultural Heritage Department, Inter, Archaeol...  "
      ]
     },
     "execution_count": 15,
     "metadata": {},
     "output_type": "execute_result"
    }
   ],
   "source": [
    "ner_pl_comp.head()"
   ]
  },
  {
   "cell_type": "code",
   "execution_count": 16,
   "id": "a5b7b4c0-d09c-4de6-874d-793a6d400fc4",
   "metadata": {},
   "outputs": [
    {
     "name": "stdout",
     "output_type": "stream",
     "text": [
      "Stanza all entities: 35642\n",
      "Stanza unique per row: 25714\n",
      "Davlan all entities: 17554\n",
      "Davlan unique per row: 14080\n",
      "Common entities: 8803\n"
     ]
    }
   ],
   "source": [
    "# Calculate entities in each column:\n",
    "# Stanza_all = all entities extracted by the model (with duplicates within and across rows)\n",
    "# Stanza_unique_row = no duplicates within rows\n",
    "# Davlan_all_entities = all entities extracted by the model (with duplicates within and across rows)\n",
    "# Davlan_unique_row = = no duplicates within rows\n",
    "# Common_sum = entities extracted both by Stanza and Davlan (no duplicates)\n",
    "\n",
    "stanza_all = sum(ner_pl_comp[\"ORG_Entities_stanza\"].apply(lambda row: len(row)))\n",
    "stanza_unique_row = sum(ner_pl_comp[\"Stanza_unique_row\"].apply(lambda row: len(row)))\n",
    "davlan_sum = sum(ner_pl_comp[\"ORG_Entities_xlm\"].apply(lambda row: len(row)))\n",
    "davlan_unique_row = sum(ner_pl_comp[\"Davlan_unique_row\"].apply(lambda row: len(row)))\n",
    "common_sum = sum(ner_pl_comp[\"Common_entities\"].apply(lambda row: len(row)))\n",
    "\n",
    "print(f'Stanza all entities: {stanza_all}')\n",
    "print(f'Stanza unique per row: {stanza_unique_row}')\n",
    "print(f'Davlan all entities: {davlan_sum}')\n",
    "print(f'Davlan unique per row: {davlan_unique_row}')\n",
    "print(f'Common entities: {common_sum}')"
   ]
  },
  {
   "cell_type": "code",
   "execution_count": 17,
   "id": "c11f4ffc-2120-4040-b96a-fd5bf93b6287",
   "metadata": {},
   "outputs": [
    {
     "name": "stdout",
     "output_type": "stream",
     "text": [
      "28.405020812493948\n"
     ]
    }
   ],
   "source": [
    "# Calculate the overlap between Stanza and Davlan (Jaccard similarity percentage): \n",
    "# Jaccard Similarity = (Number of common elements) / (Number of unique elements in both sets)\n",
    "\n",
    "overlap_percent = 8803 / (25714 + 14080 - 8803) * 100\n",
    "print(overlap_percent)\n"
   ]
  },
  {
   "cell_type": "code",
   "execution_count": 20,
   "id": "eb791673-5301-4581-9824-c7c398a5d29f",
   "metadata": {},
   "outputs": [
    {
     "name": "stdout",
     "output_type": "stream",
     "text": [
      "Stanza:\n",
      "[('UE', 341), ('Unii Europejskiej', 167), ('Komisji Europejskiej', 105), ('Instytutu', 102), ('NCBiR', 61), ('Instytut', 60), ('ONZ', 57), ('UJ', 51), ('UW', 47), ('UNESCO', 47), ('unijnych', 46), ('Zespołu', 45), ('NFZ', 44), ('Uczelni', 43), ('GUS', 42), ('WHO', 40), ('Instytucie', 39), ('Rady Ministrów', 38), ('Facebook', 37), ('UMK', 37), ('KE', 36), ('Rady', 36), ('Parlamentu Europejskiego', 34), ('NATO', 32), ('UAM', 31), ('Komisję Europejską', 31), ('NCN', 30), ('UWr', 29), ('AGH', 29), ('OZE', 29), ('MŚP', 27), ('Komisja Europejska', 27), ('Muzeum', 27), ('UP', 27), ('OECD', 26), ('TVP', 26), ('PW', 26), ('UŁ', 26), ('B+R', 26), ('Polskiego Radia', 25), ('Wydziału', 25), ('SGGW', 25), ('PG', 25), ('Polonii', 24), ('NGO', 24), ('Policji', 24), ('MRiRW', 23), ('europejskiej', 23), ('Ministerstwa Zdrowia', 23), ('EU', 23)]\n",
      "Davlan:\n",
      "[('', 190), ('UE', 171), ('Instytut', 100), ('Unii Europejskiej', 64), ('Komisji Europejskiej', 56), ('In', 51), ('UJ', 35), ('WHO', 34), ('UW', 31), ('W', 31), ('EU', 29), ('ONZ', 28), ('D', 27), ('UNESCO', 27), ('UAM', 25), ('Uczelni', 23), ('YouTube', 23), ('AGH', 23), ('Komisję Europejską', 22), ('B+R', 22), ('KE', 21), ('UP', 21), ('GUS', 21), ('Instytutu', 21), ('UMK', 20), ('UŁ', 20), ('NCBiR', 19), ('NFZ', 19), ('UWr', 19), ('Komisja Europejska', 18), ('Parlamentu Europejskiego', 18), ('Wydział', 18), ('SGGW', 18), ('S', 17), ('PW', 17), ('Minister', 17), ('Ministerstwo Zdrowia', 17), ('O', 17), ('RP', 16), ('Rady', 16), ('NATO', 16), ('Muzeum', 16), ('Kościoła', 15), ('Policji', 15), ('Twitter', 15), ('Ze', 14), ('Uniwersytetu Jagiellońskiego', 14), ('Sił Zbrojnych RP', 14), ('U', 14), ('Zakład', 14)]\n",
      "Stanza & Davlan:\n",
      "[('UE', 168), ('Unii Europejskiej', 62), ('Komisji Europejskiej', 54), ('Instytut', 39), ('UJ', 35), ('ONZ', 28), ('UW', 27), ('WHO', 26), ('UAM', 23), ('Komisję Europejską', 22), ('AGH', 22), ('UNESCO', 22), ('KE', 21), ('Uczelni', 20), ('GUS', 20), ('NCBiR', 19), ('NFZ', 19), ('UP', 19), ('UŁ', 19), ('Komisja Europejska', 18), ('UMK', 18), ('SGGW', 18), ('Instytutu', 18), ('PW', 17), ('UWr', 17), ('Ministerstwo Zdrowia', 17), ('NATO', 16), ('EU', 16), ('Policji', 15), ('Parlamentu Europejskiego', 15), ('Sił Zbrojnych RP', 14), ('Kościoła', 14), ('MRiRW', 13), ('Rady', 13), ('OECD', 13), ('Rady Ministrów', 13), ('PG', 12), ('UPWr', 12), ('JST', 12), ('UG', 12), ('UJD', 12), ('UKSW', 11), ('MZ', 11), ('UO', 11), ('UPP', 11), ('Facebook', 10), ('PWr', 10), ('ZUT', 10), ('UMCS', 10), ('UMP', 10)]\n"
     ]
    }
   ],
   "source": [
    "# Explore frequencies of entities\n",
    "\n",
    "stanza_flat_list = [entity for row in ner_pl_comp[\"Stanza_unique_row\"] for entity in row]\n",
    "stanza_freq = Counter(stanza_flat_list)\n",
    "print(\"Stanza:\")\n",
    "print(stanza_freq.most_common(50))\n",
    "\n",
    "davlan_flat_list = [entity for row in ner_pl_comp[\"Davlan_unique_row\"] for entity in row]\n",
    "davlan_freq = Counter(davlan_flat_list)\n",
    "print(\"Davlan:\")\n",
    "print(davlan_freq.most_common(50))\n",
    "\n",
    "both_flat_list = [entity for row in ner_pl_comp[\"Common_entities\"] for entity in row]\n",
    "both_freq = Counter(both_flat_list)\n",
    "print(\"Stanza & Davlan:\")\n",
    "print(both_freq.most_common(50))"
   ]
  },
  {
   "cell_type": "code",
   "execution_count": 21,
   "id": "6b5f8ff6-a44e-4aad-b561-1b15aa818e8f",
   "metadata": {},
   "outputs": [
    {
     "name": "stdout",
     "output_type": "stream",
     "text": [
      "Unique entities Stanza: 17988\n",
      "Unique entities Davlan: 9751\n",
      "Unique common entities: 6111\n",
      "Unique Stanza only: 11720\n",
      "Unique Davlan only: 3483\n"
     ]
    }
   ],
   "source": [
    "# Create a list of unique entities per model\n",
    "\n",
    "unique_stanza = list(set(stanza_flat_list))\n",
    "unique_davlan = list(set(davlan_flat_list))\n",
    "unique_common = list(set(both_flat_list))\n",
    "\n",
    "unique_stanza_only = list(set(stanza_flat_list) - set(davlan_flat_list))\n",
    "unique_davlan_only = list(set(davlan_flat_list) - set(stanza_flat_list))\n",
    "\n",
    "unique_stanza_count = len(unique_stanza)\n",
    "unique_davlan_count = len(unique_davlan)\n",
    "unique_common_count = len(unique_common)\n",
    "unique_stanza_only_count = len(unique_stanza_only)\n",
    "unique_davlan_only_count = len(unique_davlan_only)\n",
    "\n",
    "print(f'Unique entities Stanza: {unique_stanza_count}')\n",
    "print(f'Unique entities Davlan: {unique_davlan_count}')\n",
    "print(f'Unique common entities: {unique_common_count}')\n",
    "print(f'Unique Stanza only: {unique_stanza_only_count}')\n",
    "print(f'Unique Davlan only: {unique_davlan_only_count}')"
   ]
  },
  {
   "cell_type": "code",
   "execution_count": 23,
   "id": "62fb6d8e-875b-4d91-a4d3-ed9495935189",
   "metadata": {
    "scrolled": true
   },
   "outputs": [
    {
     "name": "stdout",
     "output_type": "stream",
     "text": [
      "Saved common entities to /output/common_org_entities.csv\n"
     ]
    }
   ],
   "source": [
    "# Save common entities to a DataFrame\n",
    "df_common = pd.DataFrame({\"ORG_Entity\": unique_common})\n",
    "df_common.to_csv(\"../output/common_org_entities.csv\", index=False)\n",
    "\n",
    "print(\"Saved common entities to /output/common_org_entities.csv\")"
   ]
  },
  {
   "cell_type": "code",
   "execution_count": null,
   "id": "5747cb45-8d12-4d95-9fca-08eaef3835e6",
   "metadata": {},
   "outputs": [],
   "source": []
  }
 ],
 "metadata": {
  "kernelspec": {
   "display_name": "Python 3 (ipykernel)",
   "language": "python",
   "name": "python3"
  },
  "language_info": {
   "codemirror_mode": {
    "name": "ipython",
    "version": 3
   },
   "file_extension": ".py",
   "mimetype": "text/x-python",
   "name": "python",
   "nbconvert_exporter": "python",
   "pygments_lexer": "ipython3",
   "version": "3.12.5"
  }
 },
 "nbformat": 4,
 "nbformat_minor": 5
}

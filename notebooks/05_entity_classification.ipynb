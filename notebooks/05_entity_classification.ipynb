{
 "cells": [
  {
   "cell_type": "markdown",
   "id": "ab02459e-4854-41b6-9d55-6367fa006d9e",
   "metadata": {},
   "source": [
    "# Academia–Practice Interaction Mapping Using NLP\n",
    "\n",
    "**Notebook 05: Entity Classification**\n",
    "\n",
    "**Author:** Kamila Lewandowska  \n",
    "**Project Status:** *In Progress*  \n",
    "**Last Updated:** April 2025  \n",
    "\n",
    "---\n",
    "\n",
    "### Notebook Overview\n",
    "\n",
    "**Goal:** Develop a typology of non-academic organizations based on their names, using an inductive, grounded approach.\n",
    "\n",
    "This notebook:\n",
    "- Loads the cleaned list of non-academic organization names\n",
    "- Randomly samples 1,000 entries for manual review and typology creation\n",
    "- Prepares a CSV file for human annotation \n",
    "---\n",
    "\n"
   ]
  },
  {
   "cell_type": "markdown",
   "id": "b5f4c568-63e4-4adb-852d-6b95a94bb0d9",
   "metadata": {},
   "source": [
    "## STEP 3: Categorize data"
   ]
  },
  {
   "cell_type": "code",
   "execution_count": 1,
   "id": "5519d4dc-e130-4ac6-828f-767d44400a0f",
   "metadata": {},
   "outputs": [],
   "source": [
    "import pandas as pd\n",
    "import random\n",
    "\n",
    "# Load non-academic orgs\n",
    "df_non_academic = pd.read_csv(\"../output/non_academic_org_entities.csv\")\n",
    "non_academic_entities = df_non_academic[\"ORG_Entity\"].dropna().tolist()"
   ]
  },
  {
   "cell_type": "code",
   "execution_count": 2,
   "id": "3922ff36-4386-4cbc-b080-58a826f9a9a1",
   "metadata": {},
   "outputs": [
    {
     "data": {
      "text/plain": [
       "'\\nTo classify non-academic entities identified in the impact case studies, I developed a typology of organization \\ntypes based on a grounded, inductive review process. Specifically, I randomly selected a sample of approximately 1,000 \\nunique non-academic organization names from the full list of 4,735 deduplicated entities. This sample served as an \\nexploratory base for developing an inductive typology. By manually reviewing the selected entries, I identified recurring \\norganizational patterns and formulated a set of categories that reflect the functional diversity of non-academic \\nstakeholders mentioned in the case studies.\\n'"
      ]
     },
     "execution_count": 2,
     "metadata": {},
     "output_type": "execute_result"
    }
   ],
   "source": [
    "# Establish categories of non-academic entities\n",
    "\n",
    "\"\"\"\n",
    "To classify non-academic entities identified in the impact case studies, I developed a typology of organization \n",
    "types based on a grounded, inductive review process. Specifically, I randomly selected a sample of approximately 1,000 \n",
    "unique non-academic organization names from the full list of 4,735 deduplicated entities. This sample served as an \n",
    "exploratory base for developing an inductive typology. By manually reviewing the selected entries, I identified recurring \n",
    "organizational patterns and formulated a set of categories that reflect the functional diversity of non-academic \n",
    "stakeholders mentioned in the case studies.\n",
    "\"\"\"\n",
    "\n",
    "\n"
   ]
  },
  {
   "cell_type": "code",
   "execution_count": 5,
   "id": "ee00793f-d38a-4f62-b4e1-531444f6ab0a",
   "metadata": {},
   "outputs": [],
   "source": [
    "# Create a random sample of 1000 entities\n",
    "\n",
    "# Set seed for reproducubility\n",
    "random.seed(42)\n",
    "\n",
    "# Randomly sample 1,000 entires form non-academic entities list\n",
    "sample_size = 1000\n",
    "non_academic_sampled = random.sample(non_academic_entities, sample_size)\n",
    "\n",
    "# Convert to DataFrame for review\n",
    "non_academic_sampled_df = pd.DataFrame(non_academic_sampled, columns=[\"organization_name\"])\n",
    "non_academic_sampled_df.to_csv(\"../output/non_academic_sampled.csv\", index=False, encoding=\"utf-8-sig\")\n"
   ]
  },
  {
   "cell_type": "code",
   "execution_count": 4,
   "id": "1139345a-51e0-4aff-a486-39c13a0eea31",
   "metadata": {
    "scrolled": true
   },
   "outputs": [
    {
     "data": {
      "text/plain": [
       "'\\n1. Company / Business\\nCommercial enterprises, corporations, startups, and private firms (e.g., Kaufland, KGHM ZANAM, Voicelab, Photon).\\n\\n2. Government / Public Administration\\nIncludes ministries, central/local government agencies, parliament, and other state entities (e.g., Senat RP, Urząd Miasta, Ministerstwo Rozwoju).\\n\\n3. NGO / Association / Foundation\\nNon-profit organizations, foundations, professional associations, and social initiatives (e.g., Fundacja La Strada, Polskie Towarzystwo Psychologiczne, Stowarzyszenie Wioska Gotów).\\n\\n4. Media / Publishing\\nNews outlets, broadcasters, publishers, and cultural magazines (e.g., Polskie Radio, TVP Info, Deutsche Welle, Gazeta Lubuska).\\n\\n5. Cultural Institution / Arts\\nMuseums, theatres, orchestras, festivals, galleries (e.g., Teatr Wielki, Muzeum Historii Polski, Galeria Arsenał).\\n\\n6. Health / Hospitals / Medical\\nClinics, hospitals, medical institutes, and health-related organizations (e.g., Centrum Zdrowia Szansa, NFZ, American Heart Association).\\n\\n7. Religious Organization\\nChurches, dioceses, religious associations, and theological institutions (e.g., Kościół Katolicki, Episkopat Polski, Cerkiew).\\n\\n8. Military / Defense / Security\\nArmed forces, police, defense industry, or military R&D (e.g., Wojsko Polskie, Żandarmeria Wojskowa, Lockheed Martin).\\n\\n9. International Organization / EU\\nUN, EU, NATO, OECD, international consortia or partnerships (e.g., European Commission, UNESCO, OECD).\\n\\n10. Education (non-university)\\nIncludes schools, kindergartens, vocational schools, continuing education centers (e.g., Szkoła Podstawowa, Centrum Kształcenia Ustawicznego).\\n\\n11. Other / Unclear\\nAnything that doesn’t clearly fall into the above categories or needs human validation.\\n\\n'"
      ]
     },
     "execution_count": 4,
     "metadata": {},
     "output_type": "execute_result"
    }
   ],
   "source": [
    "# Establish categories of non-academic entities\n",
    "\n",
    "\"\"\"\n",
    "1. Company / Business\n",
    "Commercial enterprises, corporations, startups, and private firms (e.g., Kaufland, KGHM ZANAM, Voicelab, Photon).\n",
    "\n",
    "2. Government / Public Administration\n",
    "Includes ministries, central/local government agencies, parliament, and other state entities (e.g., Senat RP, Urząd Miasta, Ministerstwo Rozwoju).\n",
    "\n",
    "3. NGO / Association / Foundation\n",
    "Non-profit organizations, foundations, professional associations, and social initiatives (e.g., Fundacja La Strada, Polskie Towarzystwo Psychologiczne, Stowarzyszenie Wioska Gotów).\n",
    "\n",
    "4. Media / Publishing\n",
    "News outlets, broadcasters, publishers, and cultural magazines (e.g., Polskie Radio, TVP Info, Deutsche Welle, Gazeta Lubuska).\n",
    "\n",
    "5. Cultural Institution / Arts\n",
    "Museums, theatres, orchestras, festivals, galleries (e.g., Teatr Wielki, Muzeum Historii Polski, Galeria Arsenał).\n",
    "\n",
    "6. Health / Hospitals / Medical\n",
    "Clinics, hospitals, medical institutes, and health-related organizations (e.g., Centrum Zdrowia Szansa, NFZ, American Heart Association).\n",
    "\n",
    "7. Religious Organization\n",
    "Churches, dioceses, religious associations, and theological institutions (e.g., Kościół Katolicki, Episkopat Polski, Cerkiew).\n",
    "\n",
    "8. Military / Defense / Security\n",
    "Armed forces, police, defense industry, or military R&D (e.g., Wojsko Polskie, Żandarmeria Wojskowa, Lockheed Martin).\n",
    "\n",
    "9. International Organization / EU\n",
    "UN, EU, NATO, OECD, international consortia or partnerships (e.g., European Commission, UNESCO, OECD).\n",
    "\n",
    "10. Education (non-university)\n",
    "Includes schools, kindergartens, vocational schools, continuing education centers (e.g., Szkoła Podstawowa, Centrum Kształcenia Ustawicznego).\n",
    "\n",
    "11. Other / Unclear\n",
    "Anything that doesn’t clearly fall into the above categories or needs human validation.\n",
    "\n",
    "\"\"\""
   ]
  },
  {
   "cell_type": "markdown",
   "id": "3a82cbbc-c69f-4c08-ab2d-564709b54647",
   "metadata": {},
   "source": [
    "## **Rule-based categorization pipeline**\n",
    "\n",
    "**Step 1:** Build keyword lists per category\n",
    "\n",
    "**Step 2:** Lemmatize keywords lists\n",
    "\n",
    "**Step 3:** Lemmatize entities\n",
    "\n",
    "**Step 4:** Match: each lemmatized entity vs. stemmed keyword lists"
   ]
  },
  {
   "cell_type": "markdown",
   "id": "e5a31a96-b59d-45e0-a4d6-1fc8b4c9de56",
   "metadata": {},
   "source": [
    "### **Step 1:** Build keyword lists per category"
   ]
  },
  {
   "cell_type": "code",
   "execution_count": 3,
   "id": "405d931d-682a-47ca-8b4b-556a60960531",
   "metadata": {},
   "outputs": [],
   "source": [
    "# Keywords list by category \n",
    "\n",
    "keywords_by_category = {\n",
    "    \"Company / Business\": [\n",
    "        \"sp\", \"sa\", \"s.a.\", \"holding\", \"firma\", \"grupa\", \"przedsiębiorstwo\",\n",
    "        \"technologie\", \"logistyka\", \"consulting\", \"solutions\", \"commerce\", \"industry\"\n",
    "    ],\n",
    "    \"Government / Public Administration\": [\n",
    "        \"urząd\", \"ministerstwo\", \"gmina\", \"powiat\", \"rady\", \"sejm\", \"senat\",\n",
    "        \"województwo\", \"rp\", \"komisji\", \"samorząd\"\n",
    "    ],\n",
    "    \"NGO / Association / Foundation\": [\n",
    "        \"fundacja\", \"stowarzyszenie\", \"towarzystwo\", \"zrzeszenie\", \"federacja\", \"koalicja\"\n",
    "    ],\n",
    "    \"Media / Publishing\": [\n",
    "        \"radio\", \"tv\", \"gazeta\", \"media\", \"wydawnictwo\", \"czasopismo\", \"prasa\"\n",
    "    ],\n",
    "    \"Cultural Institution / Arts\": [\n",
    "        \"muzeum\", \"teatr\", \"galeria\", \"festiwal\", \"filharmonia\", \"dom\", \"kultury\", \"im\"\n",
    "    ],\n",
    "    \"Health / Hospitals / Medical\": [\n",
    "        \"zdrowia\", \"klinika\", \"szpital\", \"lekarz\", \"medyczne\", \"przychodnia\", \"sanatorium\"\n",
    "    ],\n",
    "    \"Religious Organization\": [\n",
    "        \"kościół\", \"parafia\", \"diecezja\", \"episkopat\", \"zakon\", \"misja\", \"cerkiew\"\n",
    "    ],\n",
    "    \"Military / Defense / Security\": [\n",
    "        \"wojsko\", \"żandarmeria\", \"bezpieczeństwo\", \"policja\", \"straż\", \"obrona\", \"militaria\"\n",
    "    ],\n",
    "    \"International Organization / EU\": [\n",
    "        \"europejski\", \"europejskiej\", \"unia\", \"unii\", \"ue\", \"nato\", \"unesco\", \"oecd\", \"who\"\n",
    "    ],\n",
    "    \"Education (non-university)\": [\n",
    "        \"centrum\", \"liceum\", \"technikum\", \"szkoła\", \"podstawowa\", \"przedszkole\", \"edukacja\"\n",
    "    ],\n",
    "    \"Other / Unclear\": []  # fallback category\n",
    "}\n",
    "\n"
   ]
  },
  {
   "cell_type": "markdown",
   "id": "d7a17181-0869-46d5-8256-f1c58f66c211",
   "metadata": {},
   "source": [
    "### **Step 2:** Lemmatize Keyword Lists"
   ]
  },
  {
   "cell_type": "code",
   "execution_count": 4,
   "id": "b077d41c-2701-41a8-bb86-c257758e431e",
   "metadata": {
    "scrolled": true
   },
   "outputs": [
    {
     "data": {
      "application/vnd.jupyter.widget-view+json": {
       "model_id": "3b1c4577081745a4877c7955e592dce9",
       "version_major": 2,
       "version_minor": 0
      },
      "text/plain": [
       "Downloading https://raw.githubusercontent.com/stanfordnlp/stanza-resources/main/resources_1.10.0.json:   0%|  …"
      ]
     },
     "metadata": {},
     "output_type": "display_data"
    },
    {
     "name": "stderr",
     "output_type": "stream",
     "text": [
      "2025-05-12 15:09:09 INFO: Downloaded file to C:\\Users\\lewandowska\\stanza_resources\\resources.json\n",
      "2025-05-12 15:09:09 INFO: Downloading default packages for language: pl (Polish) ...\n",
      "2025-05-12 15:09:10 INFO: File exists: C:\\Users\\lewandowska\\stanza_resources\\pl\\default.zip\n",
      "2025-05-12 15:09:12 INFO: Finished downloading models and saved to C:\\Users\\lewandowska\\stanza_resources\n",
      "2025-05-12 15:09:12 INFO: Checking for updates to resources.json in case models have been updated.  Note: this behavior can be turned off with download_method=None or download_method=DownloadMethod.REUSE_RESOURCES\n"
     ]
    },
    {
     "data": {
      "application/vnd.jupyter.widget-view+json": {
       "model_id": "2214a77856904502aad51f5731a6c6a1",
       "version_major": 2,
       "version_minor": 0
      },
      "text/plain": [
       "Downloading https://raw.githubusercontent.com/stanfordnlp/stanza-resources/main/resources_1.10.0.json:   0%|  …"
      ]
     },
     "metadata": {},
     "output_type": "display_data"
    },
    {
     "name": "stderr",
     "output_type": "stream",
     "text": [
      "2025-05-12 15:09:12 INFO: Downloaded file to C:\\Users\\lewandowska\\stanza_resources\\resources.json\n",
      "2025-05-12 15:09:12 INFO: Loading these models for language: pl (Polish):\n",
      "============================\n",
      "| Processor | Package      |\n",
      "----------------------------\n",
      "| tokenize  | pdb          |\n",
      "| mwt       | pdb          |\n",
      "| lemma     | pdb_nocharlm |\n",
      "============================\n",
      "\n",
      "2025-05-12 15:09:12 INFO: Using device: cpu\n",
      "2025-05-12 15:09:12 INFO: Loading: tokenize\n",
      "2025-05-12 15:09:14 INFO: Loading: mwt\n",
      "2025-05-12 15:09:14 INFO: Loading: lemma\n",
      "2025-05-12 15:09:15 INFO: Done loading processors!\n"
     ]
    }
   ],
   "source": [
    "import stanza\n",
    "\n",
    "# 1. Download and initialize Stanza for Polish\n",
    "stanza.download(\"pl\")\n",
    "nlp = stanza.Pipeline(lang=\"pl\", processors=\"tokenize,mwt,lemma\")\n",
    "\n"
   ]
  },
  {
   "cell_type": "code",
   "execution_count": 5,
   "id": "ad719c4a-9663-4afd-a0bd-2d9e973634bf",
   "metadata": {},
   "outputs": [],
   "source": [
    "# 2. Function to lemmatize a list of keywords\n",
    "def lemmatize_keywords(keyword_list):\n",
    "    lemmatized = []\n",
    "    for kw in keyword_list:\n",
    "        doc = nlp(kw.lower())\n",
    "        for sent in doc.sentences:\n",
    "            for word in sent.words:\n",
    "                lemmatized.append(word.lemma)\n",
    "    return list(set(lemmatized))  # remove duplicates"
   ]
  },
  {
   "cell_type": "code",
   "execution_count": 6,
   "id": "95c1867b-4ad5-42a6-ad72-25a52523f9b0",
   "metadata": {},
   "outputs": [],
   "source": [
    "# 3. Lemmatize each category's keywords\n",
    "lemmatized_keywords_by_category = {\n",
    "    category: lemmatize_keywords(words)\n",
    "    for category, words in keywords_by_category.items()\n",
    "}"
   ]
  },
  {
   "cell_type": "code",
   "execution_count": 7,
   "id": "7cba93bb-eb56-4d64-a552-1b29ba013fa5",
   "metadata": {
    "scrolled": true
   },
   "outputs": [
    {
     "name": "stdout",
     "output_type": "stream",
     "text": [
      "\n",
      "Company / Business:\n",
      " ['grupa', 'industry', 'sa', 'technologia', 'logistyka', 'przedsiębiorstwo', '.', 'consulting', 'solutions', 'commerke', 'holding', 'firma', 's.a']\n",
      "\n",
      "Government / Public Administration:\n",
      " ['ministerstwo', 'rada', 'województwo', 'roktóry', 'komisja', 'samorząd', 'powiat', 'urząd', 'senat', 'pan', 'gmina', 'sejm']\n",
      "\n",
      "NGO / Association / Foundation:\n",
      " ['towarzystwo', 'fundacja', 'federacja', 'stowarzyszenie', 'koalicja', 'zrzeszenie']\n",
      "\n",
      "Media / Publishing:\n",
      " ['te_jeta_bowy', 'radio', 'wydawnictwo', 'prasa', 'gazeta', 'media', 'czasopismo']\n",
      "\n",
      "Cultural Institution / Arts:\n",
      " ['galeria', 'festiwal', 'filharmonia', 'on', 'kultura', 'teatr', 'dom', 'muzeum']\n",
      "\n",
      "Health / Hospitals / Medical:\n",
      " ['szpital', 'klinika', 'zdrowie', 'przychodnia', 'lekarz', 'medyczny', 'sanatorium']\n",
      "\n",
      "Religious Organization:\n",
      " ['episkopat', 'cerkiew', 'diecezja', 'parafia', 'zakon', 'misja', 'kościół']\n",
      "\n",
      "Military / Defense / Security:\n",
      " ['militaria', 'wojsko', 'żandarmeria', 'policja', 'obrona', 'straż', 'bezpieczeństwo']\n",
      "\n",
      "International Organization / EU:\n",
      " ['unesco', 'unia', 'uet', 'europejski', 'who', 'oecd', 'nato']\n",
      "\n",
      "Education (non-university):\n",
      " ['szkoła', 'edukacja', 'podstawowy', 'przedszkoła', 'liceum', 'technikum', 'centrum']\n",
      "\n",
      "Other / Unclear:\n",
      " []\n"
     ]
    }
   ],
   "source": [
    "# 4. Print to review\n",
    "for cat, lemmas in lemmatized_keywords_by_category.items():\n",
    "    print(f\"\\n{cat}:\\n\", lemmas)"
   ]
  },
  {
   "cell_type": "markdown",
   "id": "5817093d-9929-4a9f-9e7f-251cb40aed2f",
   "metadata": {},
   "source": [
    "### **Step 2b (Manual Cleanup):** Clean Incorrect Lemmatizations\n",
    "\n",
    "During the lemmatization of category-specific keyword lists (Step 2a), several inaccurate or malformed lemmas were identified as a result of natural language processing limitations. These included:\n",
    "\n",
    "- **Punctuation-based artifacts**  \n",
    "  e.g., `\"S.A.\"` → `\".\"`\n",
    "\n",
    "- **Hallucinated or unrelated lemmas**  \n",
    "  e.g., `\"RP\"` → `\"roktóry\"`, `\"TV\"` → `\"te_jeta_bowy\"`\n",
    "\n",
    "- **Typographical errors introduced by lemmatization**  \n",
    "  e.g., `\"commerce\"` → `\"commerke\"`\n",
    "\n",
    "To ensure the integrity of the classification logic, all keyword–lemma pairs were manually reviewed. Problematic cases were either:\n",
    "\n",
    "- **Corrected** by reintroducing the original keyword form\n",
    "- **Excluded** entirely if deemed irrelevant or too noisy\n",
    "\n",
    "A cleaned, curated set of lemmatized keywords was then produced for each category. These lists serve as high-confidence matching vocabularies used in downstream classification.\n",
    "\n",
    "> All corrections were documented to maintain full transparency and reproducibility of the pipeline.\n"
   ]
  },
  {
   "cell_type": "code",
   "execution_count": 8,
   "id": "2294811b-ca00-47fc-8858-c31ed80c3636",
   "metadata": {},
   "outputs": [],
   "source": [
    "# Function to lemmatize each keyword while preserving the original form.\n",
    "# Returns a list of (original, lemma) pairs for transparency and manual review.\n",
    "# This allows tracking any unexpected or incorrect lemmatization results.\n",
    "\n",
    "def lemmatize_keywords_with_originals(keyword_list):\n",
    "    pairs = []\n",
    "    for kw in keyword_list:\n",
    "        doc = nlp(kw.lower())\n",
    "        for sent in doc.sentences:\n",
    "            for word in sent.words:\n",
    "                pairs.append((kw, word.lemma))\n",
    "    return pairs"
   ]
  },
  {
   "cell_type": "code",
   "execution_count": 11,
   "id": "064d337e-5732-4085-9ca9-45e015196d4f",
   "metadata": {
    "scrolled": true
   },
   "outputs": [
    {
     "data": {
      "text/plain": [
       "{'Company / Business': [('sp', 'sa'),\n",
       "  ('sa', 'sa'),\n",
       "  ('s.a.', 's.a'),\n",
       "  ('s.a.', '.'),\n",
       "  ('holding', 'holding'),\n",
       "  ('firma', 'firma'),\n",
       "  ('grupa', 'grupa'),\n",
       "  ('przedsiębiorstwo', 'przedsiębiorstwo'),\n",
       "  ('technologie', 'technologia'),\n",
       "  ('logistyka', 'logistyka'),\n",
       "  ('consulting', 'consulting'),\n",
       "  ('solutions', 'solutions'),\n",
       "  ('commerce', 'commerke'),\n",
       "  ('industry', 'industry')],\n",
       " 'Government / Public Administration': [('urząd', 'urząd'),\n",
       "  ('ministerstwo', 'ministerstwo'),\n",
       "  ('gmina', 'gmina'),\n",
       "  ('powiat', 'powiat'),\n",
       "  ('rady', 'rada'),\n",
       "  ('sejm', 'sejm'),\n",
       "  ('senat', 'senat'),\n",
       "  ('województwo', 'województwo'),\n",
       "  ('pan', 'pan'),\n",
       "  ('rp', 'roktóry'),\n",
       "  ('komisji', 'komisja'),\n",
       "  ('samorząd', 'samorząd')],\n",
       " 'NGO / Association / Foundation': [('fundacja', 'fundacja'),\n",
       "  ('stowarzyszenie', 'stowarzyszenie'),\n",
       "  ('towarzystwo', 'towarzystwo'),\n",
       "  ('zrzeszenie', 'zrzeszenie'),\n",
       "  ('federacja', 'federacja'),\n",
       "  ('koalicja', 'koalicja')],\n",
       " 'Media / Publishing': [('radio', 'radio'),\n",
       "  ('tv', 'te_jeta_bowy'),\n",
       "  ('gazeta', 'gazeta'),\n",
       "  ('media', 'media'),\n",
       "  ('wydawnictwo', 'wydawnictwo'),\n",
       "  ('czasopismo', 'czasopismo'),\n",
       "  ('prasa', 'prasa')],\n",
       " 'Cultural Institution / Arts': [('muzeum', 'muzeum'),\n",
       "  ('teatr', 'teatr'),\n",
       "  ('galeria', 'galeria'),\n",
       "  ('festiwal', 'festiwal'),\n",
       "  ('filharmonia', 'filharmonia'),\n",
       "  ('dom', 'dom'),\n",
       "  ('kultury', 'kultura'),\n",
       "  ('im', 'on')],\n",
       " 'Health / Hospitals / Medical': [('zdrowia', 'zdrowie'),\n",
       "  ('klinika', 'klinika'),\n",
       "  ('szpital', 'szpital'),\n",
       "  ('lekarz', 'lekarz'),\n",
       "  ('medyczne', 'medyczny'),\n",
       "  ('przychodnia', 'przychodnia'),\n",
       "  ('sanatorium', 'sanatorium')],\n",
       " 'Religious Organization': [('kościół', 'kościół'),\n",
       "  ('parafia', 'parafia'),\n",
       "  ('diecezja', 'diecezja'),\n",
       "  ('episkopat', 'episkopat'),\n",
       "  ('zakon', 'zakon'),\n",
       "  ('misja', 'misja'),\n",
       "  ('cerkiew', 'cerkiew')],\n",
       " 'Military / Defense / Security': [('wojsko', 'wojsko'),\n",
       "  ('żandarmeria', 'żandarmeria'),\n",
       "  ('bezpieczeństwo', 'bezpieczeństwo'),\n",
       "  ('policja', 'policja'),\n",
       "  ('straż', 'straż'),\n",
       "  ('obrona', 'obrona'),\n",
       "  ('militaria', 'militaria')],\n",
       " 'International Organization / EU': [('europejski', 'europejski'),\n",
       "  ('europejskiej', 'europejski'),\n",
       "  ('unia', 'unia'),\n",
       "  ('unii', 'unia'),\n",
       "  ('ue', 'uet'),\n",
       "  ('nato', 'nato'),\n",
       "  ('unesco', 'unesco'),\n",
       "  ('oecd', 'oecd'),\n",
       "  ('who', 'who')],\n",
       " 'Education (non-university)': [('centrum', 'centrum'),\n",
       "  ('liceum', 'liceum'),\n",
       "  ('technikum', 'technikum'),\n",
       "  ('szkoła', 'szkoła'),\n",
       "  ('podstawowa', 'podstawowy'),\n",
       "  ('przedszkole', 'przedszkoła'),\n",
       "  ('edukacja', 'edukacja')],\n",
       " 'Other / Unclear': []}"
      ]
     },
     "execution_count": 11,
     "metadata": {},
     "output_type": "execute_result"
    }
   ],
   "source": [
    "# Apply lemmatization to each keyword in every category\n",
    "\n",
    "lemmatized_pairs_by_category = {\n",
    "    category: lemmatize_keywords_with_originals(keyword_list)\n",
    "    for category, keyword_list in keywords_by_category.items()\n",
    "}\n",
    "\n",
    "lemmatized_pairs_by_category"
   ]
  },
  {
   "cell_type": "code",
   "execution_count": 14,
   "id": "1df43a6f-3b8c-42a3-96a3-059950ab9810",
   "metadata": {},
   "outputs": [],
   "source": [
    "# Cleaned keywords list by category \n",
    "\n",
    "lemmatized_keywords_by_category_clean = {\n",
    "    \"Company / Business\": [\n",
    "        \"sp\", \"sa\", \"s.a.\", \"holding\", \"firma\", \"grupa\", \"przedsiębiorstwo\",\n",
    "        \"technologia\", \"logistyka\", \"consulting\", \"solutions\", \"commerce\", \"industry\"\n",
    "    ],\n",
    "    \"Government / Public Administration\": [\n",
    "        \"urząd\", \"ministerstwo\", \"gmina\", \"powiat\", \"rada\", \"sejm\", \"senat\",\n",
    "        \"województwo\", \"rp\", \"komisja\", \"samorząd\"\n",
    "    ],\n",
    "    \n",
    "    \"NGO / Association / Foundation\": [\n",
    "        \"fundacja\", \"stowarzyszenie\", \"towarzystwo\", \"zrzeszenie\", \"federacja\", \"koalicja\"\n",
    "    ],\n",
    "   \n",
    "    \"Media / Publishing\": [\n",
    "        \"radio\", \"tv\", \"gazeta\", \"media\", \"wydawnictwo\", \"czasopismo\", \"prasa\"\n",
    "    ],\n",
    "    \"Cultural Institution / Arts\": [\n",
    "        \"muzeum\", \"teatr\", \"galeria\", \"festiwal\", \"filharmonia\", \"dom\", \"kultura\", \n",
    "    ],\n",
    "    \"Health / Hospitals / Medical\": [\n",
    "        \"zdrowia\", \"klinika\", \"szpital\", \"lekarz\", \"medyczny\", \"przychodnia\", \"sanatorium\"\n",
    "    ],\n",
    "    \"Religious Organization\": [\n",
    "        \"kościół\", \"parafia\", \"diecezja\", \"episkopat\", \"zakon\", \"misja\", \"cerkiew\"\n",
    "    ],\n",
    "    \"Military / Defense / Security\": [\n",
    "        \"wojsko\", \"żandarmeria\", \"bezpieczeństwo\", \"policja\", \"straż\", \"obrona\", \"militaria\"\n",
    "    ],\n",
    "    \"International Organization / EU\": [\n",
    "        \"europejski\", \"unia\", \"ue\", \"nato\", \"unesco\", \"oecd\", \"who\"\n",
    "    ],\n",
    "    \"Education (non-university)\": [\n",
    "        \"liceum\", \"technikum\", \"szkoła\", \"podstawowy\", \"przedszkole\", \"edukacja\"\n",
    "    ],\n",
    "    \"Other / Unclear\": []  # fallback category\n",
    "}\n"
   ]
  },
  {
   "cell_type": "code",
   "execution_count": null,
   "id": "f2922563-ba0e-41d6-b018-6b6ea497afab",
   "metadata": {},
   "outputs": [],
   "source": []
  }
 ],
 "metadata": {
  "kernelspec": {
   "display_name": "Python 3 (ipykernel)",
   "language": "python",
   "name": "python3"
  },
  "language_info": {
   "codemirror_mode": {
    "name": "ipython",
    "version": 3
   },
   "file_extension": ".py",
   "mimetype": "text/x-python",
   "name": "python",
   "nbconvert_exporter": "python",
   "pygments_lexer": "ipython3",
   "version": "3.12.5"
  }
 },
 "nbformat": 4,
 "nbformat_minor": 5
}

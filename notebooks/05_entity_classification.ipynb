{
 "cells": [
  {
   "cell_type": "markdown",
   "id": "ab02459e-4854-41b6-9d55-6367fa006d9e",
   "metadata": {},
   "source": [
    "# Academia–Practice Interaction Mapping Using NLP\n",
    "\n",
    "**Notebook 05: Entity Classification**\n",
    "\n",
    "**Author:** Kamila Lewandowska  \n",
    "**Project Status:** *In Progress*  \n",
    "**Last Updated:** April 2025  \n",
    "\n",
    "---\n",
    "\n",
    "### Notebook Overview\n",
    "\n",
    "**Goal:** Develop a typology of non-academic organizations based on their names, using an inductive, grounded approach.\n",
    "\n",
    "This notebook:\n",
    "- Loads the cleaned list of non-academic organization names\n",
    "- Randomly samples 1,000 entries for manual review and typology creation\n",
    "- Prepares a CSV file for human annotation \n",
    "---\n",
    "\n"
   ]
  },
  {
   "cell_type": "markdown",
   "id": "b5f4c568-63e4-4adb-852d-6b95a94bb0d9",
   "metadata": {},
   "source": [
    "## STEP 3: Categorize data"
   ]
  },
  {
   "cell_type": "code",
   "execution_count": 1,
   "id": "5519d4dc-e130-4ac6-828f-767d44400a0f",
   "metadata": {},
   "outputs": [],
   "source": [
    "import pandas as pd\n",
    "import random\n",
    "\n",
    "# Load non-academic orgs\n",
    "df_non_academic = pd.read_csv(\"../output/non_academic_org_entities.csv\")\n",
    "non_academic_entities = df_non_academic[\"ORG_Entity\"].dropna().tolist()"
   ]
  },
  {
   "cell_type": "code",
   "execution_count": 2,
   "id": "3922ff36-4386-4cbc-b080-58a826f9a9a1",
   "metadata": {},
   "outputs": [
    {
     "data": {
      "text/plain": [
       "'\\nTo classify non-academic entities identified in the impact case studies, I developed a typology of organization \\ntypes based on a grounded, inductive review process. Specifically, I randomly selected a sample of approximately 1,000 \\nunique non-academic organization names from the full list of 4,735 deduplicated entities. This sample served as an \\nexploratory base for developing an inductive typology. By manually reviewing the selected entries, I identified recurring \\norganizational patterns and formulated a set of categories that reflect the functional diversity of non-academic \\nstakeholders mentioned in the case studies.\\n'"
      ]
     },
     "execution_count": 2,
     "metadata": {},
     "output_type": "execute_result"
    }
   ],
   "source": [
    "# Establish categories of non-academic entities\n",
    "\n",
    "\"\"\"\n",
    "To classify non-academic entities identified in the impact case studies, I developed a typology of organization \n",
    "types based on a grounded, inductive review process. Specifically, I randomly selected a sample of approximately 1,000 \n",
    "unique non-academic organization names from the full list of 4,735 deduplicated entities. This sample served as an \n",
    "exploratory base for developing an inductive typology. By manually reviewing the selected entries, I identified recurring \n",
    "organizational patterns and formulated a set of categories that reflect the functional diversity of non-academic \n",
    "stakeholders mentioned in the case studies.\n",
    "\"\"\"\n",
    "\n",
    "\n"
   ]
  },
  {
   "cell_type": "code",
   "execution_count": 5,
   "id": "ee00793f-d38a-4f62-b4e1-531444f6ab0a",
   "metadata": {},
   "outputs": [],
   "source": [
    "# Create a random sample of 1000 entities\n",
    "\n",
    "# Set seed for reproducubility\n",
    "random.seed(42)\n",
    "\n",
    "# Randomly sample 1,000 entires form non-academic entities list\n",
    "sample_size = 1000\n",
    "non_academic_sampled = random.sample(non_academic_entities, sample_size)\n",
    "\n",
    "# Convert to DataFrame for review\n",
    "non_academic_sampled_df = pd.DataFrame(non_academic_sampled, columns=[\"organization_name\"])\n",
    "non_academic_sampled_df.to_csv(\"../output/non_academic_sampled.csv\", index=False, encoding=\"utf-8-sig\")\n"
   ]
  },
  {
   "cell_type": "code",
   "execution_count": 4,
   "id": "1139345a-51e0-4aff-a486-39c13a0eea31",
   "metadata": {
    "scrolled": true
   },
   "outputs": [
    {
     "data": {
      "text/plain": [
       "'\\n1. Company / Business\\nCommercial enterprises, corporations, startups, and private firms (e.g., Kaufland, KGHM ZANAM, Voicelab, Photon).\\n\\n2. Government / Public Administration\\nIncludes ministries, central/local government agencies, parliament, and other state entities (e.g., Senat RP, Urząd Miasta, Ministerstwo Rozwoju).\\n\\n3. NGO / Association / Foundation\\nNon-profit organizations, foundations, professional associations, and social initiatives (e.g., Fundacja La Strada, Polskie Towarzystwo Psychologiczne, Stowarzyszenie Wioska Gotów).\\n\\n4. Media / Publishing\\nNews outlets, broadcasters, publishers, and cultural magazines (e.g., Polskie Radio, TVP Info, Deutsche Welle, Gazeta Lubuska).\\n\\n5. Cultural Institution / Arts\\nMuseums, theatres, orchestras, festivals, galleries (e.g., Teatr Wielki, Muzeum Historii Polski, Galeria Arsenał).\\n\\n6. Health / Hospitals / Medical\\nClinics, hospitals, medical institutes, and health-related organizations (e.g., Centrum Zdrowia Szansa, NFZ, American Heart Association).\\n\\n7. Religious Organization\\nChurches, dioceses, religious associations, and theological institutions (e.g., Kościół Katolicki, Episkopat Polski, Cerkiew).\\n\\n8. Military / Defense / Security\\nArmed forces, police, defense industry, or military R&D (e.g., Wojsko Polskie, Żandarmeria Wojskowa, Lockheed Martin).\\n\\n9. International Organization / EU\\nUN, EU, NATO, OECD, international consortia or partnerships (e.g., European Commission, UNESCO, OECD).\\n\\n10. Education (non-university)\\nIncludes schools, kindergartens, vocational schools, continuing education centers (e.g., Szkoła Podstawowa, Centrum Kształcenia Ustawicznego).\\n\\n11. Other / Unclear\\nAnything that doesn’t clearly fall into the above categories or needs human validation.\\n\\n'"
      ]
     },
     "execution_count": 4,
     "metadata": {},
     "output_type": "execute_result"
    }
   ],
   "source": [
    "# Establish categories of non-academic entities\n",
    "\n",
    "\"\"\"\n",
    "1. Company / Business\n",
    "Commercial enterprises, corporations, startups, and private firms (e.g., Kaufland, KGHM ZANAM, Voicelab, Photon).\n",
    "\n",
    "2. Government / Public Administration\n",
    "Includes ministries, central/local government agencies, parliament, and other state entities (e.g., Senat RP, Urząd Miasta, Ministerstwo Rozwoju).\n",
    "\n",
    "3. NGO / Association / Foundation\n",
    "Non-profit organizations, foundations, professional associations, and social initiatives (e.g., Fundacja La Strada, Polskie Towarzystwo Psychologiczne, Stowarzyszenie Wioska Gotów).\n",
    "\n",
    "4. Media / Publishing\n",
    "News outlets, broadcasters, publishers, and cultural magazines (e.g., Polskie Radio, TVP Info, Deutsche Welle, Gazeta Lubuska).\n",
    "\n",
    "5. Cultural Institution / Arts\n",
    "Museums, theatres, orchestras, festivals, galleries (e.g., Teatr Wielki, Muzeum Historii Polski, Galeria Arsenał).\n",
    "\n",
    "6. Health / Hospitals / Medical\n",
    "Clinics, hospitals, medical institutes, and health-related organizations (e.g., Centrum Zdrowia Szansa, NFZ, American Heart Association).\n",
    "\n",
    "7. Religious Organization\n",
    "Churches, dioceses, religious associations, and theological institutions (e.g., Kościół Katolicki, Episkopat Polski, Cerkiew).\n",
    "\n",
    "8. Military / Defense / Security\n",
    "Armed forces, police, defense industry, or military R&D (e.g., Wojsko Polskie, Żandarmeria Wojskowa, Lockheed Martin).\n",
    "\n",
    "9. International Organization / EU\n",
    "UN, EU, NATO, OECD, international consortia or partnerships (e.g., European Commission, UNESCO, OECD).\n",
    "\n",
    "10. Education (non-university)\n",
    "Includes schools, kindergartens, vocational schools, continuing education centers (e.g., Szkoła Podstawowa, Centrum Kształcenia Ustawicznego).\n",
    "\n",
    "11. Other / Unclear\n",
    "Anything that doesn’t clearly fall into the above categories or needs human validation.\n",
    "\n",
    "\"\"\""
   ]
  },
  {
   "cell_type": "code",
   "execution_count": null,
   "id": "5747cb45-8d12-4d95-9fca-08eaef3835e6",
   "metadata": {},
   "outputs": [],
   "source": []
  }
 ],
 "metadata": {
  "kernelspec": {
   "display_name": "Python 3 (ipykernel)",
   "language": "python",
   "name": "python3"
  },
  "language_info": {
   "codemirror_mode": {
    "name": "ipython",
    "version": 3
   },
   "file_extension": ".py",
   "mimetype": "text/x-python",
   "name": "python",
   "nbconvert_exporter": "python",
   "pygments_lexer": "ipython3",
   "version": "3.12.5"
  }
 },
 "nbformat": 4,
 "nbformat_minor": 5
}

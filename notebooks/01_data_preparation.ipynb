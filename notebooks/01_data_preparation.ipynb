{
 "cells": [
  {
   "cell_type": "markdown",
   "id": "ab02459e-4854-41b6-9d55-6367fa006d9e",
   "metadata": {
    "jp-MarkdownHeadingCollapsed": true
   },
   "source": [
    "# Academia–Practice Interaction Mapping Using NLP\n",
    "\n",
    "**Notebook 01: Data Preparation**\n",
    "\n",
    "**Author:** Kamila Lewandowska  \n",
    "**Project Status:** *In Progress*  \n",
    "**Last Updated:** April 2025  \n",
    "\n",
    "---\n",
    "### Notebook Overview\n",
    "\n",
    "This notebook prepares the raw dataset of social impact case studies submitted by Polish universities for Named Entity Recognition (NER). \n",
    "It includes data loading, basic preprocessing, and export of a cleaned version used in subsequent NLP tasks.\n",
    "\n",
    "---\n",
    "\n",
    "### Project Description\n",
    "\n",
    "This project explores academia–practice collaboration through automated text analysis. Using NER models, it identifies non-academic organizations mentioned in impact narratives and builds an empirical foundation for analyzing the societal engagement of academic institutions.\n",
    "\n",
    "---\n",
    "\n",
    "### File Overview\n",
    "\n",
    "- Input data: `data/merged_impact_case_studies.csv`\n",
    "- Output files: 'data/cleaned_impact_case_studies.csv (used by 02_ner_extraction.ipynb)'\n",
    "  \n",
    "---\n"
   ]
  },
  {
   "cell_type": "markdown",
   "id": "742f09a3-6e7c-4046-bdcf-d19c5979fa71",
   "metadata": {},
   "source": [
    "# Read and prepare data for NER extraction"
   ]
  },
  {
   "cell_type": "code",
   "execution_count": 1,
   "id": "ea2434c9-767b-4847-a82b-947a2b96d4fc",
   "metadata": {},
   "outputs": [],
   "source": [
    "# Import required libraries\n",
    "import pandas as pd\n",
    "import re\n",
    "from pathlib import Path"
   ]
  },
  {
   "cell_type": "code",
   "execution_count": 2,
   "id": "c104bee7-1ff3-495f-8336-3eafa09daa53",
   "metadata": {},
   "outputs": [],
   "source": [
    "# Read data from a csv file with desriptions of societal impact of research\n",
    "\n",
    "ics = pd.read_csv(\"../data/merged_impact_case_studies.csv\")"
   ]
  },
  {
   "cell_type": "code",
   "execution_count": 3,
   "id": "93faf218-c25e-459c-acd3-48df65643c93",
   "metadata": {
    "scrolled": true
   },
   "outputs": [],
   "source": [
    "# Select list of columns to include for analysis\n",
    "columns_to_include_pl = ['Impact description identifier - POL-on 2.0 system uuid', 'Identifier of the institution to which the impact description is assigned - POL-on 2.0 system uuid', 'Domain name', 'Discipline name', 'Title (Polish version)', 'Impact (Polish version)', 'The leading area of impact']  \n",
    "\n",
    "# Filter to keep only the necessary columns and drop duplicates\n",
    "ics_selected_columns_pl = ics[columns_to_include_pl].drop_duplicates()\n",
    "\n",
    "# Reset index if necessary\n",
    "ics_selected_columns_pl.reset_index(drop=True, inplace=True)\n",
    "\n"
   ]
  },
  {
   "cell_type": "code",
   "execution_count": 4,
   "id": "5f79442e-83e1-4fce-89ec-118f4fd02b08",
   "metadata": {},
   "outputs": [],
   "source": [
    "# Create a new column combining 'Impact (English version)' and 'Title (English version)'\n",
    "texts_pl = ics_selected_columns_pl['Impact (Polish version)'].fillna('') + \" \" + ics_selected_columns_pl['Title (Polish version)'].fillna('')"
   ]
  },
  {
   "cell_type": "code",
   "execution_count": 5,
   "id": "f55a3cc5-2dcf-49e2-bf2e-37cb5c77c840",
   "metadata": {},
   "outputs": [
    {
     "name": "stdout",
     "output_type": "stream",
     "text": [
      "(2661,)\n"
     ]
    }
   ],
   "source": [
    "# Check teh shape of the dataset\n",
    "print(texts_pl.shape)"
   ]
  },
  {
   "cell_type": "code",
   "execution_count": 6,
   "id": "60ac17a0-ee22-4e21-ac06-723c80699c2a",
   "metadata": {},
   "outputs": [],
   "source": [
    "# Define text preprocessing\n",
    "\n",
    "# Function to normalize text: remove URLs \n",
    "def preprocess_text(text):\n",
    "    \"\"\"\n",
    "    Normalizes URLs in the input text by replacing full URLs with just the domain name.\n",
    "\n",
    "    Parameters:\n",
    "        text (str): A string of text potentially containing URLs.\n",
    "\n",
    "    Returns:\n",
    "        str: The input text with URLs simplified to their domain names.\n",
    "    \"\"\"\n",
    "    text = re.sub(r'https?://(?:www\\.)?([a-zA-Z0-9.-]+)(?:/[\\w./-]*)?', r'\\1', text)  # Normalize URLs\n",
    "    return text"
   ]
  },
  {
   "cell_type": "code",
   "execution_count": 7,
   "id": "e2138566-eec5-46d5-b63b-d1444e8cfefb",
   "metadata": {},
   "outputs": [],
   "source": [
    "# Preprocess text\n",
    "cleaned_text_pl = texts_pl.apply(preprocess_text)"
   ]
  },
  {
   "cell_type": "code",
   "execution_count": 8,
   "id": "72968e0e-4a1a-4ac3-8833-0afc41d55a2b",
   "metadata": {},
   "outputs": [
    {
     "name": "stdout",
     "output_type": "stream",
     "text": [
      "Average word count: 550.57\n",
      "Total words: 1465061\n"
     ]
    }
   ],
   "source": [
    "# Add cleaned text to dataframe and inspect basic stats\n",
    "\n",
    "ics_selected_columns_pl['cleaned_text'] = cleaned_text_pl\n",
    "\n",
    "print(f\"Average word count: {cleaned_text_pl.apply(lambda x: len(str(x).split())).mean():.2f}\")\n",
    "print(f\"Total words: {cleaned_text_pl.apply(lambda x: len(str(x).split())).sum()}\")"
   ]
  },
  {
   "cell_type": "code",
   "execution_count": 9,
   "id": "dc769cc5-618f-4e93-9fca-d5eaaaede38c",
   "metadata": {},
   "outputs": [
    {
     "name": "stdout",
     "output_type": "stream",
     "text": [
      "✅ Cleaned dataset saved to /data/cleaned_impact_case_studies.csv\n"
     ]
    }
   ],
   "source": [
    "# Save cleaned dataset for NER pipeline\n",
    "\n",
    "ics_selected_columns_pl.to_csv(\"../data/cleaned_impact_case_studies.csv\", index=False)\n",
    "print(\"✅ Cleaned dataset saved to /data/cleaned_impact_case_studies.csv\")"
   ]
  }
 ],
 "metadata": {
  "kernelspec": {
   "display_name": "Python 3 (ipykernel)",
   "language": "python",
   "name": "python3"
  },
  "language_info": {
   "codemirror_mode": {
    "name": "ipython",
    "version": 3
   },
   "file_extension": ".py",
   "mimetype": "text/x-python",
   "name": "python",
   "nbconvert_exporter": "python",
   "pygments_lexer": "ipython3",
   "version": "3.12.5"
  }
 },
 "nbformat": 4,
 "nbformat_minor": 5
}

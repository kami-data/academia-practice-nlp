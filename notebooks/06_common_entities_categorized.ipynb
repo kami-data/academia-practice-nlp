{
 "cells": [
  {
   "cell_type": "markdown",
   "id": "bf14ed6f-9484-4ee0-b319-8ef6417989bd",
   "metadata": {},
   "source": [
    "# Academia–Practice Interaction Mapping Using NLP  \n",
    "**Notebook 06 – Finalize Common Entity Categories**\n",
    "\n",
    "**Author:** Kamila Lewandowska  \n",
    "**Project Phase:** In Progress  \n",
    "**Last Updated:** June 2025  \n",
    "\n",
    "---\n",
    "\n",
    "## Objective\n",
    "\n",
    "Finalize the classification of non-academic organizations by incorporating manual annotations for entities initially labeled as “Other / Unclear.” The outcome is a definitive, human-validated dataset of categorized *common* non-academic entities, linked where possible to their original `ICS_ID`s.\n",
    "\n",
    "---\n",
    "\n",
    "## Workflow Summary\n",
    "\n",
    "- Load manual annotations from `unclear_entities_annotated.xlsx`  \n",
    "- Merge annotations with previously classified non-academic entities (`df_non_academic.csv`)  \n",
    "- Update `Matched_Category` using `Annotated_Category` values  \n",
    "- Export the finalized dataset to `df_non_academic_updated.csv`  \n",
    "- Merge with original `ICS_ID` mappings from `common_entities_with_icsid.csv`  \n",
    "- Export final matched entities to `common_classified_with_ids.csv`\n",
    "\n",
    "---\n",
    "\n",
    "## Key Outcomes\n",
    "\n",
    "- **Total classified common entities:** 4,767  \n",
    "- **Entities successfully matched with ICS_ID:** 4,722  \n",
    "- **Unmatched entities:** 45 (~0.9%)  \n",
    "  - Mostly due to punctuation/formatting discrepancies during preprocessing  \n",
    "  - These remain classified but are excluded from ICS-linked analysis\n",
    "\n",
    "---\n",
    "\n",
    "## Output Files\n",
    "\n",
    "- `df_non_academic_updated.csv` – Fully updated classification of common non-academic entities  \n",
    "- `common_classified_with_ids.csv` – Classified common entities with matched `ICS_ID`s  \n"
   ]
  },
  {
   "cell_type": "code",
   "execution_count": 1,
   "id": "8e8982e1-9bfa-4c1a-8c1d-3139fb40f56d",
   "metadata": {},
   "outputs": [],
   "source": [
    "import pandas as pd\n",
    "from collections import Counter"
   ]
  },
  {
   "cell_type": "code",
   "execution_count": 2,
   "id": "860a1b64-65c4-46de-8c47-51e817cffcff",
   "metadata": {},
   "outputs": [],
   "source": [
    "# Create a dataframe with updated matched categories based on manual annotation\n",
    "\n",
    "#Lead the nevessary files\n",
    "df_annotated = pd.read_excel(\"../output/unclear_entities_annotated.xlsx\")\n",
    "df_non_academic = pd.read_csv(\"../output/df_non_academic.csv\", index_col=0)\n",
    "\n",
    "# Set index of df_non_academic to allow join via Entity_ID\n",
    "df_annotated = df_annotated.set_index('Entity_ID')\n",
    "\n",
    "# Create a copy of the original DataFrame\n",
    "df_non_academic_updated = df_non_academic.copy()\n",
    "\n",
    "# Replace values in Matched_Category for entities where annotations exist\n",
    "df_non_academic_updated.loc[df_annotated.index, 'Matched_Category'] = df_annotated['Annotated_Category']\n",
    "\n",
    "# Keep only the required columns\n",
    "entities_categorized = df_non_academic_updated[['ORG_Entity', 'Matched_Category']]"
   ]
  },
  {
   "cell_type": "code",
   "execution_count": 3,
   "id": "c5738939-d2f5-40ff-b82f-6aa2b7b4b420",
   "metadata": {},
   "outputs": [
    {
     "name": "stdout",
     "output_type": "stream",
     "text": [
      "Counter({'Other / Unclear': 3101, 'Government / Public Administration': 683, 'Company / Business': 274, 'NGO / Association / Foundation': 189, 'International Organization / EU': 125, 'Media / Publishing': 114, 'Cultural Institution / Arts': 107, 'Education (non-university)': 63, 'Military / Defense / Security': 54, 'Religious Organization': 29, 'Health / Hospitals / Medical': 28})\n",
      "Counter({'Company / Business': 1203, 'Government / Public Administration': 1082, 'Other / Unclear': 853, 'NGO / Association / Foundation': 386, 'International Organization / EU': 378, 'Media / Publishing': 225, 'Cultural Institution / Arts': 218, 'Health / Hospitals / Medical': 125, 'Education (non-university)': 119, 'Military / Defense / Security': 116, 'Religious Organization': 62})\n"
     ]
    }
   ],
   "source": [
    "# Sanity Check: Compares Counter results of category distributions: before (df_non_academic) and after (entities_categorized)\n",
    "\n",
    "df_non_academic_entities_freq = Counter(df_non_academic[\"Matched_Category\"])\n",
    "print(df_non_academic_entities_freq)\n",
    "\n",
    "annotated_entities_freq = Counter(entities_categorized[\"Matched_Category\"])\n",
    "print(annotated_entities_freq)"
   ]
  },
  {
   "cell_type": "code",
   "execution_count": 4,
   "id": "5d4c6452-5fa3-4b40-bc2e-2a1f57677e6c",
   "metadata": {},
   "outputs": [],
   "source": [
    "# Export df_non_academic_updated to csv\n",
    "\n",
    "df_non_academic_updated.to_csv(\"../output/df_non_academic_updated.csv\", index=False)"
   ]
  },
  {
   "cell_type": "code",
   "execution_count": 13,
   "id": "d6d02991-a2a0-403b-8f43-7ec6585e8450",
   "metadata": {},
   "outputs": [
    {
     "data": {
      "text/plain": [
       "4767"
      ]
     },
     "execution_count": 13,
     "metadata": {},
     "output_type": "execute_result"
    }
   ],
   "source": [
    "len(df_non_academic_updated)"
   ]
  },
  {
   "cell_type": "code",
   "execution_count": 8,
   "id": "f503c4b0-db52-49c6-bbfc-1508570a850d",
   "metadata": {},
   "outputs": [],
   "source": [
    "# Create a df with ICS_ID\n",
    "\n",
    "# Load saved mapping\n",
    "df_ics_entities = pd.read_csv(\"../output/common_entities_with_icsid.csv\")"
   ]
  },
  {
   "cell_type": "code",
   "execution_count": 12,
   "id": "c3ad9a82-7825-4c91-ba91-f659dc31a16b",
   "metadata": {},
   "outputs": [],
   "source": [
    "# Merge on ORG_Entity\n",
    "common_classified_with_ids = pd.merge(df_ics_entities, df_non_academic_updated, on=\"ORG_Entity\", how=\"inner\")\n",
    "\n",
    "# Save final result\n",
    "common_classified_with_ids.to_csv(\"../output/common_classified_with_ids.csv\", index=False)"
   ]
  },
  {
   "cell_type": "code",
   "execution_count": 14,
   "id": "ccc9b6d1-e9a2-48fe-863e-83ed423b7c48",
   "metadata": {},
   "outputs": [
    {
     "data": {
      "text/plain": [
       "6555"
      ]
     },
     "execution_count": 14,
     "metadata": {},
     "output_type": "execute_result"
    }
   ],
   "source": [
    "len(common_classified_with_ids)"
   ]
  },
  {
   "cell_type": "code",
   "execution_count": 20,
   "id": "3d8cba56-028d-4ed3-9f19-2da097319458",
   "metadata": {},
   "outputs": [
    {
     "data": {
      "text/plain": [
       "4722"
      ]
     },
     "execution_count": 20,
     "metadata": {},
     "output_type": "execute_result"
    }
   ],
   "source": [
    "common_classified_with_ids[\"ORG_Entity\"].nunique()"
   ]
  },
  {
   "cell_type": "code",
   "execution_count": 21,
   "id": "39c83cd4-13dc-444b-812f-2f6e5e5ab466",
   "metadata": {},
   "outputs": [
    {
     "name": "stdout",
     "output_type": "stream",
     "text": [
      "45\n",
      "['AUTOPART', 'Agencji Ochrony „Gwarant', 'Bertin Instruments', 'Biuro Programu „Niepodległa', 'DAK-POL', 'Elektrociepłownia „Zielona Góra', 'Erasmus', 'Falochron', 'FlexiOss', 'Fundacją \"I am kids', 'Fundacją „Pełną Piersią', 'Gdańska Stocznia „REMONTOWA', 'Gdańskiej Stoczni „REMONTOWA', 'Ghetto Fighters', 'Glasspoint Krzemień', 'KK NSZZ „Solidarność', 'KWK „Wujek', 'Kinderkraft', 'Manreza', 'Nasz Bocian', 'Nasz Szczuczyn', 'OMEGA', 'Podlaski Oddział Stowarzyszenia „Wspólnota Polska', 'Polwet-Centrowet” Sp. z o.o.', 'Pracodawcy Lubelszczyzny „Lewiatan', 'Rozgłośni Polskiego Radia „Zachód', 'SE-K”Z', 'Saturn Lis Ceramika Spółka Jawna', 'Spółdzielnia Produkcyjna \"Előre', 'Spółką „Destylacje Polskie', 'Stowarzyszenie „Amici del Villaggio', 'Stowarzyszenie „Czajnia', 'Stowarzyszenie „Wioska Gotów w Masłomęczu', 'Stowarzyszeniem „Czajnia', 'TRB”R', 'TechTransBalt', 'Towarystwo „Nadsannia', 'Van Storm', 'Wytwórnia Filmowa „Russkij put', 'X-deep', 'ZG „Sobieski', 'ZM „Jasiołka', 'Zabytek', 'Zakładu Przeróbki Mechanicznej ZG „Sobieski', 'Światło']\n"
     ]
    }
   ],
   "source": [
    "# Set difference: which classified ORG_Entities have no ICS_ID match\n",
    "classified_names = set(df_non_academic_updated[\"ORG_Entity\"])\n",
    "ids_matched_names = set(df_ics_entities[\"ORG_Entity\"])\n",
    "\n",
    "unmatched = classified_names - ids_matched_names\n",
    "print(len(unmatched))\n",
    "print(sorted(unmatched))"
   ]
  },
  {
   "cell_type": "markdown",
   "id": "61ae214f-3217-4218-b91a-5608b09e981b",
   "metadata": {},
   "source": [
    "### Note on Missing Entity Matches\n",
    "\n",
    "Out of 4,767 classified non-academic organization names, 4,722 were successfully matched back to their original ICS_IDs. The remaining 45 were not matched due to minor changes during the cleaning process (e.g. removal of quotes or punctuation).\n",
    "\n",
    "These unmatched entities represent ~0.9% of the dataset and remain included in the classification, but without ICS_ID linkage.\n"
   ]
  }
 ],
 "metadata": {
  "kernelspec": {
   "display_name": "Python 3 (ipykernel)",
   "language": "python",
   "name": "python3"
  },
  "language_info": {
   "codemirror_mode": {
    "name": "ipython",
    "version": 3
   },
   "file_extension": ".py",
   "mimetype": "text/x-python",
   "name": "python",
   "nbconvert_exporter": "python",
   "pygments_lexer": "ipython3",
   "version": "3.12.5"
  }
 },
 "nbformat": 4,
 "nbformat_minor": 5
}

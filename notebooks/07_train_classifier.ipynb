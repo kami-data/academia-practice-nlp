{
 "cells": [
  {
   "cell_type": "markdown",
   "id": "c97451aa-8d4a-4c06-b8d9-d676114d1e6d",
   "metadata": {},
   "source": [
    "# Academia–Practice Interaction Mapping Using NLP\n",
    "\n",
    "**Notebook 07: Training the Text Classification Model**\n",
    "\n",
    "**Author:** Kamila Lewandowska  \n",
    "**Project Status:** *In Progress*  \n",
    "**Last Updated:** June 2025  \n",
    "\n",
    "---\n",
    "\n",
    "### Notebook Overview\n",
    "\n",
    "**Goal:** Train and evaluate a text classification model to categorize non-academic organizations based on their names.\n",
    "\n",
    "This notebook:\n",
    "\n",
    "- Loads a manually annotated dataset of non-academic entities\n",
    "- MPrepares features using TF-IDF vectorization (1-2 grams)\n",
    "- Trains a logistic regression classifier with balanced class weights\n",
    "- Evaluates model performance using precision, recall, and F1-score\n",
    "- Saves the final model and label encoder for reuse on new entity data\n",
    "---"
   ]
  },
  {
   "cell_type": "code",
   "execution_count": 50,
   "id": "dd787948-95b8-4dbb-8c4f-a464ff95f707",
   "metadata": {},
   "outputs": [],
   "source": [
    "import pandas as pd\n",
    "import numpy as np\n",
    "from ast import literal_eval\n",
    "from sklearn.model_selection import train_test_split\n",
    "from sklearn.preprocessing import LabelEncoder\n",
    "from sklearn.feature_extraction.text import TfidfVectorizer\n",
    "from sklearn.linear_model import LogisticRegression\n",
    "from sklearn.pipeline import Pipeline\n",
    "from sklearn.metrics import classification_report\n",
    "import joblib"
   ]
  },
  {
   "cell_type": "markdown",
   "id": "b5cb48ab-818f-4f6b-b1fc-9e83a552b50a",
   "metadata": {},
   "source": [
    "# Read and prepare training data for ML"
   ]
  },
  {
   "cell_type": "code",
   "execution_count": 2,
   "id": "b1739a23-d110-4a94-9bde-9086535b2873",
   "metadata": {},
   "outputs": [],
   "source": [
    "# Isolate Stanza-Only Entities\n",
    "\n",
    "# Load full Stanza output\n",
    "df_stanza_all = pd.read_csv(\"../output/ner_stanza_pl.csv\")  \n",
    "df_common = pd.read_csv(\"../output/common_org_entities.csv\")"
   ]
  },
  {
   "cell_type": "code",
   "execution_count": 3,
   "id": "72dec363-f8c4-4c2b-b282-5bcff307c839",
   "metadata": {},
   "outputs": [
    {
     "data": {
      "text/html": [
       "<div>\n",
       "<style scoped>\n",
       "    .dataframe tbody tr th:only-of-type {\n",
       "        vertical-align: middle;\n",
       "    }\n",
       "\n",
       "    .dataframe tbody tr th {\n",
       "        vertical-align: top;\n",
       "    }\n",
       "\n",
       "    .dataframe thead th {\n",
       "        text-align: right;\n",
       "    }\n",
       "</style>\n",
       "<table border=\"1\" class=\"dataframe\">\n",
       "  <thead>\n",
       "    <tr style=\"text-align: right;\">\n",
       "      <th></th>\n",
       "      <th>Text</th>\n",
       "      <th>ORG_Entities_stanza</th>\n",
       "      <th>ICS_ID</th>\n",
       "    </tr>\n",
       "  </thead>\n",
       "  <tbody>\n",
       "    <tr>\n",
       "      <th>0</th>\n",
       "      <td>Badania skupiające się na szczegółowej analizi...</td>\n",
       "      <td>['Komitetu Nauk Weterynaryjnych i Rozrodu Zwie...</td>\n",
       "      <td>00153fbd-82f7-48c4-b5bd-e830bc390244</td>\n",
       "    </tr>\n",
       "    <tr>\n",
       "      <th>1</th>\n",
       "      <td>Birdwatching, czyli obserwacje w terenie ptakó...</td>\n",
       "      <td>['Królewskie Towarzystwo Ochrony Ptaków', 'Fac...</td>\n",
       "      <td>002768f1-8b96-4e0f-bcc8-192eb0594e60</td>\n",
       "    </tr>\n",
       "    <tr>\n",
       "      <th>2</th>\n",
       "      <td>Efektywny transfer wiedzy jest podstawowym czy...</td>\n",
       "      <td>['MŚP', 'MŚP', 'ETW']</td>\n",
       "      <td>00500483-f00c-4410-b6f7-8650a003125f</td>\n",
       "    </tr>\n",
       "    <tr>\n",
       "      <th>3</th>\n",
       "      <td>Ważnym obszarem działalności naukowej WSPiA je...</td>\n",
       "      <td>['WSPiA', 'AP', 'WSPiA', '4 Zespoły', 'AP', 'A...</td>\n",
       "      <td>006e7fef-2083-426d-9c1b-1affd27b939e</td>\n",
       "    </tr>\n",
       "    <tr>\n",
       "      <th>4</th>\n",
       "      <td>Znaczna część europejskiego dziedzictwa archeo...</td>\n",
       "      <td>['Interreg Central Europe', 'Archaeological He...</td>\n",
       "      <td>00901439-d91a-48e0-903a-26a4253c3a0c</td>\n",
       "    </tr>\n",
       "  </tbody>\n",
       "</table>\n",
       "</div>"
      ],
      "text/plain": [
       "                                                Text  \\\n",
       "0  Badania skupiające się na szczegółowej analizi...   \n",
       "1  Birdwatching, czyli obserwacje w terenie ptakó...   \n",
       "2  Efektywny transfer wiedzy jest podstawowym czy...   \n",
       "3  Ważnym obszarem działalności naukowej WSPiA je...   \n",
       "4  Znaczna część europejskiego dziedzictwa archeo...   \n",
       "\n",
       "                                 ORG_Entities_stanza  \\\n",
       "0  ['Komitetu Nauk Weterynaryjnych i Rozrodu Zwie...   \n",
       "1  ['Królewskie Towarzystwo Ochrony Ptaków', 'Fac...   \n",
       "2                              ['MŚP', 'MŚP', 'ETW']   \n",
       "3  ['WSPiA', 'AP', 'WSPiA', '4 Zespoły', 'AP', 'A...   \n",
       "4  ['Interreg Central Europe', 'Archaeological He...   \n",
       "\n",
       "                                 ICS_ID  \n",
       "0  00153fbd-82f7-48c4-b5bd-e830bc390244  \n",
       "1  002768f1-8b96-4e0f-bcc8-192eb0594e60  \n",
       "2  00500483-f00c-4410-b6f7-8650a003125f  \n",
       "3  006e7fef-2083-426d-9c1b-1affd27b939e  \n",
       "4  00901439-d91a-48e0-903a-26a4253c3a0c  "
      ]
     },
     "execution_count": 3,
     "metadata": {},
     "output_type": "execute_result"
    }
   ],
   "source": [
    "df_stanza_all.head(5)"
   ]
  },
  {
   "cell_type": "code",
   "execution_count": 4,
   "id": "bd9a5207-ca52-4773-b9d5-107a300fd291",
   "metadata": {},
   "outputs": [
    {
     "data": {
      "text/plain": [
       "str"
      ]
     },
     "execution_count": 4,
     "metadata": {},
     "output_type": "execute_result"
    }
   ],
   "source": [
    "# Check the type of data of the row with entities\n",
    "\n",
    "type(df_stanza_all[\"ORG_Entities_stanza\"].iloc[0])"
   ]
  },
  {
   "cell_type": "code",
   "execution_count": 5,
   "id": "86ba6122-e41b-41fa-b49f-1412d85f0a84",
   "metadata": {},
   "outputs": [
    {
     "data": {
      "text/plain": [
       "35642"
      ]
     },
     "execution_count": 5,
     "metadata": {},
     "output_type": "execute_result"
    }
   ],
   "source": [
    "# Extract unique ORG entities from df_stanza_all\n",
    "\n",
    "# Flatten all ORG entities from stanza data (convert string to list first)\n",
    "\n",
    "all_stanza_entities = []\n",
    "\n",
    "for row in df_stanza_all[\"ORG_Entities_stanza\"]:\n",
    "    try: \n",
    "        entities = literal_eval(row)\n",
    "        all_stanza_entities.extend(entities)\n",
    "    except:\n",
    "        continue\n",
    "\n",
    "\n",
    "# Entity count\n",
    "len(all_stanza_entities)"
   ]
  },
  {
   "cell_type": "code",
   "execution_count": 6,
   "id": "d593a176-707b-4918-ad6d-3e3cf9d7ded7",
   "metadata": {},
   "outputs": [
    {
     "data": {
      "text/plain": [
       "17988"
      ]
     },
     "execution_count": 6,
     "metadata": {},
     "output_type": "execute_result"
    }
   ],
   "source": [
    "# Deduplicate stanza entities\n",
    "\n",
    "unique_stanza_entities = set(e.strip() for e in all_stanza_entities if isinstance(e, str))\n",
    "\n",
    "# Entity count\n",
    "len(unique_stanza_entities)"
   ]
  },
  {
   "cell_type": "code",
   "execution_count": 7,
   "id": "8976394f-7cb8-414a-bfc7-1b8cbfa18949",
   "metadata": {},
   "outputs": [
    {
     "data": {
      "text/plain": [
       "6111"
      ]
     },
     "execution_count": 7,
     "metadata": {},
     "output_type": "execute_result"
    }
   ],
   "source": [
    "# Prepare set of common entities\n",
    "\n",
    "common_entities_set = set(df_common['ORG_Entity'].str.strip())\n",
    "\n",
    "# Entity count\n",
    "len(common_entities_set)"
   ]
  },
  {
   "cell_type": "code",
   "execution_count": 8,
   "id": "650295f9-f7f5-4faf-ba6a-03e273dba3d3",
   "metadata": {},
   "outputs": [
    {
     "data": {
      "text/plain": [
       "11877"
      ]
     },
     "execution_count": 8,
     "metadata": {},
     "output_type": "execute_result"
    }
   ],
   "source": [
    "#Calculate Stanza only entities\n",
    "\n",
    "stanza_only_entities = unique_stanza_entities - common_entities_set\n",
    "\n",
    "# Entity count\n",
    "len(stanza_only_entities)"
   ]
  },
  {
   "cell_type": "markdown",
   "id": "d774488d-b8fd-4760-abc0-3dbf4255a4b4",
   "metadata": {},
   "source": [
    "# Training a Text Classification Pipeline Using TF-IDF and Logistic Regression"
   ]
  },
  {
   "cell_type": "code",
   "execution_count": 9,
   "id": "1dc4713e-d0ac-4602-9074-2421cb2ac818",
   "metadata": {},
   "outputs": [
    {
     "data": {
      "text/plain": [
       "Index(['ORG_Entity', 'Lemma_Entity', 'Suspicious', 'Lemma_Cleaned',\n",
       "       'Matched_Category'],\n",
       "      dtype='object')"
      ]
     },
     "execution_count": 9,
     "metadata": {},
     "output_type": "execute_result"
    }
   ],
   "source": [
    "# Upload the labeled dataset\n",
    "\n",
    "df_labeled = pd.read_csv(\"../output/df_non_academic_updated.csv\", index_col=0)\n",
    "df_labeled.columns"
   ]
  },
  {
   "cell_type": "code",
   "execution_count": 10,
   "id": "0a764a3f-fa2b-4b1d-933f-b943a27ec825",
   "metadata": {},
   "outputs": [],
   "source": [
    "# Prepare features and labels\n",
    "\n",
    "X = df_labeled['Lemma_Entity'].astype(str)\n",
    "y = df_labeled['Matched_Category'].astype(str)\n",
    "\n",
    "# Encode labels\n",
    "label_encoder = LabelEncoder()\n",
    "y_encoded = label_encoder.fit_transform(y)\n",
    "\n",
    "# Train/validation split\n",
    "X_train, X_val, y_train, y_val = train_test_split(X, y_encoded, stratify=y_encoded, test_size=0.2, random_state=42)"
   ]
  },
  {
   "cell_type": "code",
   "execution_count": 21,
   "id": "bc2909aa-b830-43c2-8c83-7abff50c1f22",
   "metadata": {},
   "outputs": [
    {
     "name": "stdout",
     "output_type": "stream",
     "text": [
      "Validation accuracy: 0.6257861635220126\n"
     ]
    }
   ],
   "source": [
    "# Train a classifier\n",
    "\n",
    "# Define a pipeline combining TF-IDF vectorization and Logistic Regression classifier\n",
    "pipeline = Pipeline([\n",
    "    # Step 1: Convert text into TF-IDF features (using unigrams and bigrams)\n",
    "    (\"tfidf\", TfidfVectorizer(ngram_range=(1,2), min_df=1)),\n",
    "\n",
    "    # Step 2: Train a logistic regression model with balanced class weights\n",
    "    (\"clf\", LogisticRegression(max_iter=1000, class_weight=\"balanced\"))\n",
    "])\n",
    "\n",
    "# Fit the pipeline on the training data\n",
    "pipeline.fit(X_train, y_train)\n",
    "\n",
    "# Evaluate the model on the validation set and print accuracy\n",
    "print(\"Validation accuracy:\", pipeline.score(X_val, y_val))"
   ]
  },
  {
   "cell_type": "code",
   "execution_count": 22,
   "id": "d00555b0-67d9-4d50-ace3-217ec6cf2001",
   "metadata": {},
   "outputs": [
    {
     "name": "stdout",
     "output_type": "stream",
     "text": [
      "                                    precision    recall  f1-score   support\n",
      "\n",
      "                Company / Business       0.92      0.45      0.60       241\n",
      "       Cultural Institution / Arts       0.63      0.50      0.56        44\n",
      "        Education (non-university)       0.81      0.54      0.65        24\n",
      "Government / Public Administration       0.90      0.67      0.77       216\n",
      "      Health / Hospitals / Medical       0.79      0.44      0.56        25\n",
      "   International Organization / EU       0.73      0.47      0.58        76\n",
      "                Media / Publishing       0.64      0.64      0.64        45\n",
      "     Military / Defense / Security       0.64      0.78      0.71        23\n",
      "    NGO / Association / Foundation       0.86      0.65      0.74        77\n",
      "                   Other / Unclear       0.37      0.92      0.53       171\n",
      "            Religious Organization       1.00      0.67      0.80        12\n",
      "\n",
      "                          accuracy                           0.63       954\n",
      "                         macro avg       0.76      0.61      0.65       954\n",
      "                      weighted avg       0.76      0.63      0.64       954\n",
      "\n"
     ]
    }
   ],
   "source": [
    "# Compute confusion matrix:\n",
    "\n",
    "y_pred = pipeline.predict(X_val)\n",
    "print(classification_report(y_val, y_pred, target_names=label_encoder.classes_))"
   ]
  },
  {
   "cell_type": "code",
   "execution_count": 51,
   "id": "12342437-7ec5-4574-835c-9ffd3997214a",
   "metadata": {},
   "outputs": [
    {
     "data": {
      "text/plain": [
       "['../output/org_label_encoder.joblib']"
      ]
     },
     "execution_count": 51,
     "metadata": {},
     "output_type": "execute_result"
    }
   ],
   "source": [
    "# Save the trained model and label encoder\n",
    "\n",
    "joblib.dump(pipeline, \"../output/final_org_classifier.joblib\")\n",
    "joblib.dump(label_encoder, \"../output/org_label_encoder.joblib\")"
   ]
  },
  {
   "cell_type": "markdown",
   "id": "11906b01-370b-454a-b942-59ac2d366702",
   "metadata": {},
   "source": [
    "---\n",
    "\n",
    "### Summary\n",
    "\n",
    "- Trained a Logistic Regression classifier on 4,767 labeled non-academic entities\n",
    "- Used TF-IDF vectorization with unigrams and bigrams\n",
    "- Validation accuracy: **62.6%**\n",
    "- High precision retained for key categories\n",
    "- Saved the model and label encoder for future use\n",
    "\n",
    "This model will now be applied to the remaining Stanza-only entities in the next step."
   ]
  },
  {
   "cell_type": "code",
   "execution_count": null,
   "id": "3607a955-63d4-4821-8807-7a33183b8984",
   "metadata": {},
   "outputs": [],
   "source": []
  }
 ],
 "metadata": {
  "kernelspec": {
   "display_name": "Python 3 (ipykernel)",
   "language": "python",
   "name": "python3"
  },
  "language_info": {
   "codemirror_mode": {
    "name": "ipython",
    "version": 3
   },
   "file_extension": ".py",
   "mimetype": "text/x-python",
   "name": "python",
   "nbconvert_exporter": "python",
   "pygments_lexer": "ipython3",
   "version": "3.12.5"
  }
 },
 "nbformat": 4,
 "nbformat_minor": 5
}

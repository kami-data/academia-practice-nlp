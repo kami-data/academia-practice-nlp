{
 "cells": [
  {
   "cell_type": "markdown",
   "id": "bf14ed6f-9484-4ee0-b319-8ef6417989bd",
   "metadata": {},
   "source": [
    "# Academia–Practice Interaction Mapping Using NLP\n",
    "\n",
    "**Notebook 06: Entity Categorization (Final Update)**\n",
    "\n",
    "**Author:** Kamila Lewandowska  \n",
    "**Project Status:** *In Progress*  \n",
    "**Last Updated:** June 2025  \n",
    "\n",
    "---\n",
    "\n",
    "### Notebook Overview\n",
    "\n",
    "**Goal:** Finalize the classification of non-academic organizations by incorporating manual annotations for previously unclear entities.\n",
    "\n",
    "This notebook:\n",
    "\n",
    "- Loads manual annotations for entities initially labeled as “Other / Unclear”\n",
    "- Merges them with the full list of non-academic organizations\n",
    "- Updates the Matched_Category values based on human-coded categories\n",
    "- Produces a finalized dataset of categorized non-academic entities\n",
    "---"
   ]
  },
  {
   "cell_type": "code",
   "execution_count": 1,
   "id": "8e8982e1-9bfa-4c1a-8c1d-3139fb40f56d",
   "metadata": {},
   "outputs": [],
   "source": [
    "import pandas as pd\n",
    "from collections import Counter"
   ]
  },
  {
   "cell_type": "code",
   "execution_count": 2,
   "id": "860a1b64-65c4-46de-8c47-51e817cffcff",
   "metadata": {},
   "outputs": [],
   "source": [
    "# Create a dataframe with updated matched categories based on manual annotation\n",
    "\n",
    "#Lead the nevessary files\n",
    "df_annotated = pd.read_excel(\"../output/unclear_entities_annotated.xlsx\")\n",
    "df_non_academic = pd.read_csv(\"../output/df_non_academic.csv\", index_col=0)\n",
    "\n",
    "# Set index of df_non_academic to allow join via Entity_ID\n",
    "df_annotated = df_annotated.set_index('Entity_ID')\n",
    "\n",
    "# Create a copy of the original DataFrame\n",
    "df_non_academic_updated = df_non_academic.copy()\n",
    "\n",
    "# Replace values in Matched_Category for entities where annotations exist\n",
    "df_non_academic_updated.loc[df_annotated.index, 'Matched_Category'] = df_annotated['Annotated_Category']\n",
    "\n",
    "# Keep only the required columns\n",
    "entities_categorized = df_non_academic_updated[['ORG_Entity', 'Matched_Category']]"
   ]
  },
  {
   "cell_type": "code",
   "execution_count": 3,
   "id": "c5738939-d2f5-40ff-b82f-6aa2b7b4b420",
   "metadata": {},
   "outputs": [
    {
     "name": "stdout",
     "output_type": "stream",
     "text": [
      "Counter({'Other / Unclear': 3101, 'Government / Public Administration': 683, 'Company / Business': 274, 'NGO / Association / Foundation': 189, 'International Organization / EU': 125, 'Media / Publishing': 114, 'Cultural Institution / Arts': 107, 'Education (non-university)': 63, 'Military / Defense / Security': 54, 'Religious Organization': 29, 'Health / Hospitals / Medical': 28})\n",
      "Counter({'Company / Business': 1203, 'Government / Public Administration': 1082, 'Other / Unclear': 853, 'NGO / Association / Foundation': 386, 'International Organization / EU': 378, 'Media / Publishing': 225, 'Cultural Institution / Arts': 218, 'Health / Hospitals / Medical': 125, 'Education (non-university)': 119, 'Military / Defense / Security': 116, 'Religious Organization': 62})\n"
     ]
    }
   ],
   "source": [
    "# Sanity Check: Compares Counter results of category distributions: before (df_non_academic) and after (entities_categorized)\n",
    "\n",
    "df_non_academic_entities_freq = Counter(df_non_academic[\"Matched_Category\"])\n",
    "print(df_non_academic_entities_freq)\n",
    "\n",
    "annotated_entities_freq = Counter(entities_categorized[\"Matched_Category\"])\n",
    "print(annotated_entities_freq)"
   ]
  },
  {
   "cell_type": "code",
   "execution_count": null,
   "id": "5d4c6452-5fa3-4b40-bc2e-2a1f57677e6c",
   "metadata": {},
   "outputs": [],
   "source": [
    "# Export df_non_academic_updated to csv\n",
    "\n",
    "df_non_academic_updated.to_csv("
   ]
  }
 ],
 "metadata": {
  "kernelspec": {
   "display_name": "Python 3 (ipykernel)",
   "language": "python",
   "name": "python3"
  },
  "language_info": {
   "codemirror_mode": {
    "name": "ipython",
    "version": 3
   },
   "file_extension": ".py",
   "mimetype": "text/x-python",
   "name": "python",
   "nbconvert_exporter": "python",
   "pygments_lexer": "ipython3",
   "version": "3.12.5"
  }
 },
 "nbformat": 4,
 "nbformat_minor": 5
}
